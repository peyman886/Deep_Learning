{
  "nbformat": 4,
  "nbformat_minor": 0,
  "metadata": {
    "colab": {
      "name": "HW2_practical_Q3.ipynb",
      "provenance": [],
      "authorship_tag": "ABX9TyNe7TZvY5dMxu5SJvRMLYzV",
      "include_colab_link": true
    },
    "kernelspec": {
      "name": "python3",
      "display_name": "Python 3"
    },
    "language_info": {
      "name": "python"
    }
  },
  "cells": [
    {
      "cell_type": "markdown",
      "metadata": {
        "id": "view-in-github",
        "colab_type": "text"
      },
      "source": [
        "<a href=\"https://colab.research.google.com/github/peyman886/Deep_Learning_course/blob/main/HW2_practical_Q3.ipynb\" target=\"_parent\"><img src=\"https://colab.research.google.com/assets/colab-badge.svg\" alt=\"Open In Colab\"/></a>"
      ]
    },
    {
      "cell_type": "markdown",
      "source": [
        "======================================================\n",
        "### **Student Information:**\n",
        "* Name = Peyman\n",
        "* Last Name = Naseri\n",
        "* ID = 96100522\n",
        "\n",
        "======================================================"
      ],
      "metadata": {
        "id": "alD3glNnGlEd"
      }
    },
    {
      "cell_type": "markdown",
      "source": [
        "# Importing"
      ],
      "metadata": {
        "id": "WHvT5TnGGvpz"
      }
    },
    {
      "cell_type": "code",
      "execution_count": 1,
      "metadata": {
        "id": "Li36G_OJGE2H"
      },
      "outputs": [],
      "source": [
        "import numpy as np\n",
        "import pandas as pd\n",
        "import matplotlib.pyplot as plt\n",
        "%matplotlib inline\n",
        "import seaborn as sns\n",
        "\n",
        "import tensorflow as tf\n",
        "from tensorflow import keras\n",
        "\n",
        "from tensorflow.keras.models import Sequential\n",
        "from tensorflow.keras.layers import *\n",
        "\n",
        "\n",
        "from tensorflow.keras.callbacks import TensorBoard\n",
        "# Load the TensorBoard notebook extension (to be able to see it in the notebook).\n",
        "%load_ext tensorboard\n",
        "import datetime   # to organize TensorBoard files\n",
        "\n",
        "tf.get_logger().setLevel('ERROR')"
      ]
    },
    {
      "cell_type": "code",
      "source": [
        "'''\n",
        "  https://research.google.com/colaboratory/local-runtimes.html\n",
        "  \n",
        "  for run code on local gpu:\n",
        "    run this comand in anaconda prompet:\n",
        "      1) pip install jupyter_http_over_ws\n",
        "      2) jupyter serverextension enable --py jupyter_http_over_ws\n",
        "      3) jupyter notebook --NotebookApp.allow_origin='https://colab.research.google.com' --port=8888 --NotebookApp.port_retries=0\n",
        "    copy url and paste on colab\n",
        "\n",
        "jupyter notebook --NotebookApp.allow_origin='https://colab.research.google.com' --port=8888 --NotebookApp.port_retries=0\n",
        "\n",
        "'''\n",
        "#Check GPU\n",
        "\n",
        "if len(tf.config.list_physical_devices('GPU')) > 0:\n",
        "  !nvidia-smi --query-gpu=gpu_name,driver_version,memory.total --format=csv"
      ],
      "metadata": {
        "id": "ZkFhj7kMGayA",
        "colab": {
          "base_uri": "https://localhost:8080/"
        },
        "outputId": "3d7af774-b5b3-4415-c561-01e534b46e79"
      },
      "execution_count": 2,
      "outputs": [
        {
          "output_type": "stream",
          "name": "stdout",
          "text": [
            "name, driver_version, memory.total [MiB]\n",
            "GeForce RTX 2080 with Max-Q Design, 460.89, 8192 MiB\n"
          ]
        }
      ]
    }
  ]
}
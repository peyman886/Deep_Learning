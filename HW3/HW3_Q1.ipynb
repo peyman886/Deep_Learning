{
  "metadata": {
    "kernelspec": {
      "display_name": "Python 3",
      "language": "python",
      "name": "python3"
    },
    "language_info": {
      "name": "python",
      "version": "3.6.6",
      "mimetype": "text/x-python",
      "codemirror_mode": {
        "name": "ipython",
        "version": 3
      },
      "pygments_lexer": "ipython3",
      "nbconvert_exporter": "python",
      "file_extension": ".py"
    },
    "colab": {
      "name": "HW3_Q1.ipynb",
      "provenance": [],
      "collapsed_sections": [
        "W8qMwBZ1WQs8",
        "22WtOjqF49vL",
        "P7czLSb3WHW9",
        "PcNW5Kt0WHXB",
        "gNMHr0CcWHXF",
        "RB8dYuM3WHXJ",
        "6qYXZVMHWHXL",
        "KFjIeJDnWHXM",
        "DA8mb_p2WHXP",
        "hOCk46uKWHXR",
        "8FxGIapIWHXW",
        "2RT39AdWWHXW",
        "7dz_83R0WHXX",
        "g2TRTaltWHXZ",
        "AZ5c4VmSWHXa",
        "V3YFlZAnWHXe",
        "_M5YyoOuaVfO",
        "EeNIURYk2G9S",
        "lwtE1o9nsIJe"
      ],
      "toc_visible": true,
      "include_colab_link": true
    }
  },
  "nbformat_minor": 0,
  "nbformat": 4,
  "cells": [
    {
      "cell_type": "markdown",
      "metadata": {
        "id": "view-in-github",
        "colab_type": "text"
      },
      "source": [
        "<a href=\"https://colab.research.google.com/github/peyman886/Deep_Learning_course/blob/main/HW3/HW3_Q1.ipynb\" target=\"_parent\"><img src=\"https://colab.research.google.com/assets/colab-badge.svg\" alt=\"Open In Colab\"/></a>"
      ]
    },
    {
      "cell_type": "markdown",
      "source": [
        "# Information"
      ],
      "metadata": {
        "id": "c4R8L6_xAEJq"
      }
    },
    {
      "cell_type": "markdown",
      "source": [
        "## **Student Information:**\n",
        "* Name = Peyman\n",
        "* Last Name = Naseri\n",
        "* Student ID = 96100522"
      ],
      "metadata": {
        "id": "W8qMwBZ1WQs8"
      }
    },
    {
      "cell_type": "markdown",
      "source": [
        "## **HomeWork Information:**\n",
        "* Course = Deep Learning\n",
        "* Home Work = 3\n",
        "* Question = 1\n",
        "* colab = https://colab.research.google.com/drive/1SsplSNdj1cWgFWQiMQNVjbhQKfa3HdIG?usp=sharing\n",
        "* github = https://github.com/peyman886/Deep_Learning_course/HW3/HW3_Q1.ipynb"
      ],
      "metadata": {
        "id": "zqwLS89sALIo"
      }
    },
    {
      "cell_type": "markdown",
      "source": [
        "# setting gpu"
      ],
      "metadata": {
        "id": "vCK8LnZQBNVM"
      }
    },
    {
      "cell_type": "code",
      "source": [
        "'''\n",
        "  https://research.google.com/colaboratory/local-runtimes.html\n",
        "  \n",
        "  for run code on local gpu:\n",
        "    run this comand in anaconda prompet:\n",
        "      1) pip install jupyter_http_over_ws\n",
        "      2) jupyter serverextension enable --py jupyter_http_over_ws\n",
        "      3) jupyter notebook --NotebookApp.allow_origin='https://colab.research.google.com' --port=8888 --NotebookApp.port_retries=0\n",
        "\n",
        "pip install jupyter_http_over_ws\n",
        "jupyter serverextension enable --py jupyter_http_over_ws\n",
        "jupyter notebook --NotebookApp.allow_origin='https://colab.research.google.com' --port=8888 --NotebookApp.port_retries=0\n",
        "\n",
        "    copy url and paste on colab\n",
        "\n",
        "'''\n",
        "# !pip install numba \n",
        "# from numba import cuda \n",
        "# device = cuda.get_current_device()\n",
        "# device.reset()\n",
        "\n",
        "import tensorflow as tf\n",
        "gpus = tf.config.experimental.list_physical_devices('GPU')\n",
        "if gpus:\n",
        "  try:\n",
        "    for gpu in gpus:\n",
        "      tf.config.experimental.set_memory_growth(gpu, True)\n",
        "      # tf.config.experimental.set_virtual_device_configuration(gpu,\n",
        "      #                                                         [tf.config.experimental.VirtualDeviceConfiguration(memory_limit=1024*6)])\n",
        "\n",
        "  except RuntimeError as e:\n",
        "    print(e)\n",
        "\n",
        "#Check GPU\n",
        "\n",
        "if len(tf.config.list_physical_devices('GPU')) > 0:\n",
        "  !nvidia-smi --query-gpu=gpu_name,driver_version,memory.total --format=csv"
      ],
      "metadata": {
        "colab": {
          "base_uri": "https://localhost:8080/"
        },
        "id": "AfoJU7VvWZNh",
        "outputId": "0cc4ffbb-fc69-41a4-9938-8faaec1bb908"
      },
      "execution_count": 1,
      "outputs": [
        {
          "output_type": "stream",
          "name": "stdout",
          "text": [
            "name, driver_version, memory.total [MiB]\n",
            "GeForce RTX 2080 with Max-Q Design, 461.33, 8192 MiB\n"
          ]
        }
      ]
    },
    {
      "cell_type": "code",
      "source": [
        "# if gpus:\n",
        "#   try:\n",
        "#     tf.config.experimental.set_virtual_device_configuration(gpus[0], [tf.config.experimental.VirtualDeviceConfiguration(memory_limit=1024)])\n",
        "#   except RuntimeError as e:\n",
        "#     print(e)"
      ],
      "metadata": {
        "id": "qyEboSUour-3"
      },
      "execution_count": 2,
      "outputs": []
    },
    {
      "cell_type": "markdown",
      "source": [
        "# Twitter Sentiment Analysis"
      ],
      "metadata": {
        "_uuid": "92b885dd147dac19bd0a33db3cd0da100bd5bc23",
        "id": "lJWqxYllWHWv"
      }
    },
    {
      "cell_type": "markdown",
      "source": [
        "### importing"
      ],
      "metadata": {
        "id": "22WtOjqF49vL"
      }
    },
    {
      "cell_type": "code",
      "source": [
        "# !pip install gensim --upgrade"
      ],
      "metadata": {
        "_uuid": "70282bce8b42a51e4d44f2c7d85c4ca9567b0fd4",
        "trusted": true,
        "id": "iKiLPz5sWHW2"
      },
      "execution_count": 3,
      "outputs": []
    },
    {
      "cell_type": "code",
      "source": [
        "# DataFrame\n",
        "import pandas as pd\n",
        "import tensorflow as tf\n",
        "\n",
        "# Matplot\n",
        "import matplotlib.pyplot as plt\n",
        "%matplotlib inline\n",
        "\n",
        "# Scikit-learn\n",
        "from sklearn.model_selection import train_test_split\n",
        "from sklearn.preprocessing import LabelEncoder\n",
        "from sklearn.metrics import confusion_matrix, classification_report, accuracy_score\n",
        "from sklearn.manifold import TSNE\n",
        "from sklearn.feature_extraction.text import TfidfVectorizer\n",
        "\n",
        "# Keras\n",
        "from keras.preprocessing.text import Tokenizer\n",
        "from keras.preprocessing.sequence import pad_sequences\n",
        "from keras.models import Sequential, Model\n",
        "from keras.layers import Activation, Dense, Dropout, Embedding, Flatten, Conv1D, MaxPooling1D, LSTM, Bidirectional, Input\n",
        "from keras import utils\n",
        "from keras.callbacks import ReduceLROnPlateau, EarlyStopping, ModelCheckpoint\n",
        "\n",
        "import tensorflow_hub as hub\n",
        "\n",
        "# import tokenization\n",
        "from official.nlp.bert import tokenization\n",
        "from official import nlp\n",
        "from official.nlp import bert\n",
        "\n",
        "import tensorflow_hub as hub\n",
        "import tensorflow_datasets as tfds\n",
        "tfds.disable_progress_bar()\n",
        "\n",
        "from official.modeling import tf_utils\n",
        "\n",
        "# Load the required submodules from official\n",
        "import official.nlp.optimization\n",
        "import official.nlp.bert.bert_models\n",
        "import official.nlp.bert.configs\n",
        "import official.nlp.bert.run_classifier\n",
        "import official.nlp.bert.tokenization\n",
        "import official.nlp.data.classifier_data_lib\n",
        "import official.nlp.modeling.losses\n",
        "import official.nlp.modeling.models\n",
        "import official.nlp.modeling.networks\n",
        "\n",
        "# nltk\n",
        "import nltk\n",
        "from nltk.corpus import stopwords\n",
        "from  nltk.stem import SnowballStemmer\n",
        "\n",
        "# Word2vec\n",
        "import gensim\n",
        "\n",
        "# Utility\n",
        "import re\n",
        "import numpy as np\n",
        "import os\n",
        "from collections import Counter\n",
        "import logging\n",
        "import time\n",
        "import pickle\n",
        "import itertools\n",
        "\n",
        "import warnings\n",
        "warnings.filterwarnings(\"ignore\")\n",
        "tf.get_logger().setLevel('ERROR')\n",
        "\n",
        "# Set log\n",
        "logging.basicConfig(format='%(asctime)s : %(levelname)s : %(message)s', level=logging.INFO)\n",
        "\n",
        "import csv\n"
      ],
      "metadata": {
        "_uuid": "303e72966af732ddef0bd8108a321095314e44af",
        "trusted": true,
        "id": "gNA5DD9CWHW5"
      },
      "execution_count": 4,
      "outputs": []
    },
    {
      "cell_type": "code",
      "source": [
        "nltk.download('stopwords')"
      ],
      "metadata": {
        "_uuid": "35e1a89dead5fd160e4c9a024a21d2e569fc89ff",
        "trusted": true,
        "colab": {
          "base_uri": "https://localhost:8080/"
        },
        "id": "IB1r_2hHWHW7",
        "outputId": "1fe73629-efef-4e7d-d9e3-b13de1806085"
      },
      "execution_count": 5,
      "outputs": [
        {
          "output_type": "stream",
          "name": "stderr",
          "text": [
            "[nltk_data] Downloading package stopwords to\n",
            "[nltk_data]     C:\\Users\\peyma\\AppData\\Roaming\\nltk_data...\n",
            "[nltk_data]   Package stopwords is already up-to-date!\n"
          ]
        },
        {
          "output_type": "execute_result",
          "data": {
            "text/plain": [
              "True"
            ]
          },
          "metadata": {},
          "execution_count": 5
        }
      ]
    },
    {
      "cell_type": "markdown",
      "source": [
        "### Settings"
      ],
      "metadata": {
        "_uuid": "e8b01a07df001e4abcc745900336c4db06e455f3",
        "id": "P7czLSb3WHW9"
      }
    },
    {
      "cell_type": "code",
      "source": [
        "# DATASET\n",
        "DATASET_COLUMNS = [\"target\", \"ids\", \"date\", \"flag\", \"user\", \"text\"]\n",
        "DATASET_ENCODING = \"ISO-8859-1\"\n",
        "TRAIN_SIZE = 0.8\n",
        "\n",
        "# TEXT CLENAING\n",
        "TEXT_CLEANING_RE = \"@\\S+|https?:\\S+|http?:\\S|[^A-Za-z0-9]+\"\n",
        "\n",
        "# WORD2VEC \n",
        "W2V_SIZE = 300\n",
        "W2V_WINDOW = 7\n",
        "W2V_EPOCH = 32\n",
        "W2V_MIN_COUNT = 10\n",
        "\n",
        "# KERAS\n",
        "SEQUENCE_LENGTH = 300\n",
        "EPOCHS = 2\n",
        "BATCH_SIZE = 512\n",
        "\n",
        "# SENTIMENT\n",
        "POSITIVE = \"POSITIVE\"\n",
        "NEGATIVE = \"NEGATIVE\"\n",
        "NEUTRAL = \"NEUTRAL\"\n",
        "SENTIMENT_THRESHOLDS = (0.4, 0.7)\n",
        "\n",
        "# EXPORT\n",
        "KERAS_MODEL = \"model.h5\"\n",
        "WORD2VEC_MODEL = \"model.w2v\"\n",
        "TOKENIZER_MODEL = \"tokenizer.pkl\"\n",
        "ENCODER_MODEL = \"encoder.pkl\""
      ],
      "metadata": {
        "_uuid": "180f0dd2a95419e4602b5c0229822b0111c826f6",
        "trusted": true,
        "id": "k5UraFLnWHW-"
      },
      "execution_count": 6,
      "outputs": []
    },
    {
      "cell_type": "markdown",
      "source": [
        "### Read Dataset"
      ],
      "metadata": {
        "_uuid": "1c3beecc618be68480b3d4f0de08d9d863da1dc1",
        "id": "3sr97YmDWHXA"
      }
    },
    {
      "cell_type": "markdown",
      "source": [
        "### Dataset details\n",
        "* **target**: the polarity of the tweet (0 = negative, 2 = neutral, 4 = positive)\n",
        "* **ids**: The id of the tweet ( 2087)\n",
        "* **date**: the date of the tweet (Sat May 16 23:58:44 UTC 2009)\n",
        "* **flag**: The query (lyx). If there is no query, then this value is NO_QUERY.\n",
        "* **user**: the user that tweeted (robotickilldozr)\n",
        "* **text**: the text of the tweet (Lyx is cool)"
      ],
      "metadata": {
        "_uuid": "563b3c44f1092dba0b853747b098e00509098cca",
        "id": "PcNW5Kt0WHXB"
      }
    },
    {
      "cell_type": "code",
      "source": [
        "dataset_filename = os.listdir(\"./input\")[0]\n",
        "dataset_path = os.path.join(\".\",\"input\",dataset_filename)\n",
        "print(\"Open file:\", dataset_path)\n",
        "df = pd.read_csv(dataset_path,encoding =DATASET_ENCODING\n",
        "                 , names=DATASET_COLUMNS)"
      ],
      "metadata": {
        "_uuid": "bba8f91cd70de4f5ea0fb0870ae2029b6e3dcc24",
        "trusted": true,
        "colab": {
          "base_uri": "https://localhost:8080/"
        },
        "id": "o2AhPTNGWHXC",
        "outputId": "215c004c-a3d5-4fc8-8104-c2e30d2389e6"
      },
      "execution_count": 7,
      "outputs": [
        {
          "output_type": "stream",
          "name": "stdout",
          "text": [
            "Open file: .\\input\\training.1600000.processed.noemoticon.csv\n"
          ]
        }
      ]
    },
    {
      "cell_type": "code",
      "source": [
        "df"
      ],
      "metadata": {
        "colab": {
          "base_uri": "https://localhost:8080/",
          "height": 0
        },
        "id": "emxNsGhnd_K6",
        "outputId": "97429408-3ed6-4516-ff27-752bd924b6c6"
      },
      "execution_count": 8,
      "outputs": [
        {
          "output_type": "execute_result",
          "data": {
            "text/plain": [
              "         target         ids                          date      flag  \\\n",
              "0             0  1467810369  Mon Apr 06 22:19:45 PDT 2009  NO_QUERY   \n",
              "1             0  1467810672  Mon Apr 06 22:19:49 PDT 2009  NO_QUERY   \n",
              "2             0  1467810917  Mon Apr 06 22:19:53 PDT 2009  NO_QUERY   \n",
              "3             0  1467811184  Mon Apr 06 22:19:57 PDT 2009  NO_QUERY   \n",
              "4             0  1467811193  Mon Apr 06 22:19:57 PDT 2009  NO_QUERY   \n",
              "...         ...         ...                           ...       ...   \n",
              "1599995       4  2193601966  Tue Jun 16 08:40:49 PDT 2009  NO_QUERY   \n",
              "1599996       4  2193601969  Tue Jun 16 08:40:49 PDT 2009  NO_QUERY   \n",
              "1599997       4  2193601991  Tue Jun 16 08:40:49 PDT 2009  NO_QUERY   \n",
              "1599998       4  2193602064  Tue Jun 16 08:40:49 PDT 2009  NO_QUERY   \n",
              "1599999       4  2193602129  Tue Jun 16 08:40:50 PDT 2009  NO_QUERY   \n",
              "\n",
              "                    user                                               text  \n",
              "0        _TheSpecialOne_  @switchfoot http://twitpic.com/2y1zl - Awww, t...  \n",
              "1          scotthamilton  is upset that he can't update his Facebook by ...  \n",
              "2               mattycus  @Kenichan I dived many times for the ball. Man...  \n",
              "3                ElleCTF    my whole body feels itchy and like its on fire   \n",
              "4                 Karoli  @nationwideclass no, it's not behaving at all....  \n",
              "...                  ...                                                ...  \n",
              "1599995  AmandaMarie1028  Just woke up. Having no school is the best fee...  \n",
              "1599996      TheWDBoards  TheWDB.com - Very cool to hear old Walt interv...  \n",
              "1599997           bpbabe  Are you ready for your MoJo Makeover? Ask me f...  \n",
              "1599998     tinydiamondz  Happy 38th Birthday to my boo of alll time!!! ...  \n",
              "1599999   RyanTrevMorris  happy #charitytuesday @theNSPCC @SparksCharity...  \n",
              "\n",
              "[1600000 rows x 6 columns]"
            ],
            "text/html": [
              "<div>\n",
              "<style scoped>\n",
              "    .dataframe tbody tr th:only-of-type {\n",
              "        vertical-align: middle;\n",
              "    }\n",
              "\n",
              "    .dataframe tbody tr th {\n",
              "        vertical-align: top;\n",
              "    }\n",
              "\n",
              "    .dataframe thead th {\n",
              "        text-align: right;\n",
              "    }\n",
              "</style>\n",
              "<table border=\"1\" class=\"dataframe\">\n",
              "  <thead>\n",
              "    <tr style=\"text-align: right;\">\n",
              "      <th></th>\n",
              "      <th>target</th>\n",
              "      <th>ids</th>\n",
              "      <th>date</th>\n",
              "      <th>flag</th>\n",
              "      <th>user</th>\n",
              "      <th>text</th>\n",
              "    </tr>\n",
              "  </thead>\n",
              "  <tbody>\n",
              "    <tr>\n",
              "      <th>0</th>\n",
              "      <td>0</td>\n",
              "      <td>1467810369</td>\n",
              "      <td>Mon Apr 06 22:19:45 PDT 2009</td>\n",
              "      <td>NO_QUERY</td>\n",
              "      <td>_TheSpecialOne_</td>\n",
              "      <td>@switchfoot http://twitpic.com/2y1zl - Awww, t...</td>\n",
              "    </tr>\n",
              "    <tr>\n",
              "      <th>1</th>\n",
              "      <td>0</td>\n",
              "      <td>1467810672</td>\n",
              "      <td>Mon Apr 06 22:19:49 PDT 2009</td>\n",
              "      <td>NO_QUERY</td>\n",
              "      <td>scotthamilton</td>\n",
              "      <td>is upset that he can't update his Facebook by ...</td>\n",
              "    </tr>\n",
              "    <tr>\n",
              "      <th>2</th>\n",
              "      <td>0</td>\n",
              "      <td>1467810917</td>\n",
              "      <td>Mon Apr 06 22:19:53 PDT 2009</td>\n",
              "      <td>NO_QUERY</td>\n",
              "      <td>mattycus</td>\n",
              "      <td>@Kenichan I dived many times for the ball. Man...</td>\n",
              "    </tr>\n",
              "    <tr>\n",
              "      <th>3</th>\n",
              "      <td>0</td>\n",
              "      <td>1467811184</td>\n",
              "      <td>Mon Apr 06 22:19:57 PDT 2009</td>\n",
              "      <td>NO_QUERY</td>\n",
              "      <td>ElleCTF</td>\n",
              "      <td>my whole body feels itchy and like its on fire</td>\n",
              "    </tr>\n",
              "    <tr>\n",
              "      <th>4</th>\n",
              "      <td>0</td>\n",
              "      <td>1467811193</td>\n",
              "      <td>Mon Apr 06 22:19:57 PDT 2009</td>\n",
              "      <td>NO_QUERY</td>\n",
              "      <td>Karoli</td>\n",
              "      <td>@nationwideclass no, it's not behaving at all....</td>\n",
              "    </tr>\n",
              "    <tr>\n",
              "      <th>...</th>\n",
              "      <td>...</td>\n",
              "      <td>...</td>\n",
              "      <td>...</td>\n",
              "      <td>...</td>\n",
              "      <td>...</td>\n",
              "      <td>...</td>\n",
              "    </tr>\n",
              "    <tr>\n",
              "      <th>1599995</th>\n",
              "      <td>4</td>\n",
              "      <td>2193601966</td>\n",
              "      <td>Tue Jun 16 08:40:49 PDT 2009</td>\n",
              "      <td>NO_QUERY</td>\n",
              "      <td>AmandaMarie1028</td>\n",
              "      <td>Just woke up. Having no school is the best fee...</td>\n",
              "    </tr>\n",
              "    <tr>\n",
              "      <th>1599996</th>\n",
              "      <td>4</td>\n",
              "      <td>2193601969</td>\n",
              "      <td>Tue Jun 16 08:40:49 PDT 2009</td>\n",
              "      <td>NO_QUERY</td>\n",
              "      <td>TheWDBoards</td>\n",
              "      <td>TheWDB.com - Very cool to hear old Walt interv...</td>\n",
              "    </tr>\n",
              "    <tr>\n",
              "      <th>1599997</th>\n",
              "      <td>4</td>\n",
              "      <td>2193601991</td>\n",
              "      <td>Tue Jun 16 08:40:49 PDT 2009</td>\n",
              "      <td>NO_QUERY</td>\n",
              "      <td>bpbabe</td>\n",
              "      <td>Are you ready for your MoJo Makeover? Ask me f...</td>\n",
              "    </tr>\n",
              "    <tr>\n",
              "      <th>1599998</th>\n",
              "      <td>4</td>\n",
              "      <td>2193602064</td>\n",
              "      <td>Tue Jun 16 08:40:49 PDT 2009</td>\n",
              "      <td>NO_QUERY</td>\n",
              "      <td>tinydiamondz</td>\n",
              "      <td>Happy 38th Birthday to my boo of alll time!!! ...</td>\n",
              "    </tr>\n",
              "    <tr>\n",
              "      <th>1599999</th>\n",
              "      <td>4</td>\n",
              "      <td>2193602129</td>\n",
              "      <td>Tue Jun 16 08:40:50 PDT 2009</td>\n",
              "      <td>NO_QUERY</td>\n",
              "      <td>RyanTrevMorris</td>\n",
              "      <td>happy #charitytuesday @theNSPCC @SparksCharity...</td>\n",
              "    </tr>\n",
              "  </tbody>\n",
              "</table>\n",
              "<p>1600000 rows × 6 columns</p>\n",
              "</div>"
            ]
          },
          "metadata": {},
          "execution_count": 8
        }
      ]
    },
    {
      "cell_type": "code",
      "source": [
        "# df = df.iloc[1:]"
      ],
      "metadata": {
        "id": "aR7wa-6TUDb5"
      },
      "execution_count": 9,
      "outputs": []
    },
    {
      "cell_type": "code",
      "source": [
        "# ds, info = tfds.load('sentiment140', with_info=True,\n",
        "#                        # It's small, load the whole dataset\n",
        "#                        batch_size=-1)"
      ],
      "metadata": {
        "id": "764Zf1g5GRBv"
      },
      "execution_count": 10,
      "outputs": []
    },
    {
      "cell_type": "markdown",
      "source": [
        "### Map target label to String\n",
        "* **0,1** -> **NEGATIVE**\n",
        "* **2** -> **NEUTRAL**\n",
        "* **3,4** -> **POSITIVE**"
      ],
      "metadata": {
        "_uuid": "3f9a7bb129e184967b13261fb5d253af451c75c5",
        "id": "gNMHr0CcWHXF"
      }
    },
    {
      "cell_type": "code",
      "source": [
        "decode_map = {0: \"NEGATIVE\", 1: \"NEGATIVE\",\n",
        "              2: \"NEUTRAL\", \n",
        "              3: \"POSITIVE\", 4: \"POSITIVE\"}\n",
        "def decode_sentiment(label):\n",
        "    return decode_map[int(label)]"
      ],
      "metadata": {
        "_uuid": "14074b59106cb9550440839e48b832223fc9502f",
        "trusted": true,
        "id": "dWIEdklMWHXG"
      },
      "execution_count": 11,
      "outputs": []
    },
    {
      "cell_type": "code",
      "source": [
        "df.target = df.target.apply(lambda x: decode_sentiment(x))\n"
      ],
      "metadata": {
        "id": "oGzsVWqvO-yQ"
      },
      "execution_count": 12,
      "outputs": []
    },
    {
      "cell_type": "code",
      "source": [
        "target_cnt = Counter(df.target)\n",
        "\n",
        "plt.figure(figsize=(16,8))\n",
        "plt.bar(target_cnt.keys(), target_cnt.values())\n",
        "plt.title(\"Dataset labels distribuition\")"
      ],
      "metadata": {
        "_uuid": "19eb327803192f31cce3512aacb232f4d6b38715",
        "trusted": true,
        "colab": {
          "base_uri": "https://localhost:8080/",
          "height": 0
        },
        "id": "SwCSfQzuWHXI",
        "outputId": "55937c4b-6f95-4415-ad1f-45f3d701d96b"
      },
      "execution_count": 13,
      "outputs": [
        {
          "output_type": "execute_result",
          "data": {
            "text/plain": [
              "Text(0.5, 1.0, 'Dataset labels distribuition')"
            ]
          },
          "metadata": {},
          "execution_count": 13
        },
        {
          "output_type": "display_data",
          "data": {
            "text/plain": [
              "<Figure size 1152x576 with 1 Axes>"
            ],
            "image/png": "[encoded data removed]"
          },
          "metadata": {
            "needs_background": "light"
          }
        }
      ]
    },
    {
      "cell_type": "markdown",
      "source": [
        "### Pre-Process dataset"
      ],
      "metadata": {
        "_uuid": "4329b1573518b03e497213efa7676220734ebb4b",
        "id": "RB8dYuM3WHXJ"
      }
    },
    {
      "cell_type": "code",
      "source": [
        "stop_words = stopwords.words(\"english\")\n",
        "stemmer = SnowballStemmer(\"english\")"
      ],
      "metadata": {
        "_uuid": "8aeee8b7b9ea11b749c7f91cd4787a7b50ed1a91",
        "trusted": true,
        "id": "Yf5C-AWnWHXJ"
      },
      "execution_count": 14,
      "outputs": []
    },
    {
      "cell_type": "code",
      "source": [
        "def preprocess(text, stem=False):\n",
        "    # Remove link,user and special characters\n",
        "    text = re.sub(TEXT_CLEANING_RE, ' ', str(text).lower()).strip()\n",
        "    tokens = []\n",
        "    for token in text.split():\n",
        "        if token not in stop_words:\n",
        "            if stem:\n",
        "                tokens.append(stemmer.stem(token))\n",
        "            else:\n",
        "                tokens.append(token)\n",
        "    return \" \".join(tokens)"
      ],
      "metadata": {
        "_uuid": "649ebcb97969b9ac4301138783704bb3d7846a49",
        "trusted": true,
        "id": "8WCyCRebWHXK"
      },
      "execution_count": 15,
      "outputs": []
    },
    {
      "cell_type": "code",
      "source": [
        "%%time\n",
        "df.text = df.text.apply(lambda x: preprocess(x))"
      ],
      "metadata": {
        "_uuid": "f7f3e77ab9291d14687c49e71ba9b2b1e3323432",
        "trusted": true,
        "id": "WZgXJbehWHXL",
        "colab": {
          "base_uri": "https://localhost:8080/"
        },
        "outputId": "760e7fab-4985-4005-b1dd-6c5386c6f8af"
      },
      "execution_count": 16,
      "outputs": [
        {
          "output_type": "stream",
          "name": "stdout",
          "text": [
            "Wall time: 42.4 s\n"
          ]
        }
      ]
    },
    {
      "cell_type": "code",
      "source": [
        "df.head(20)"
      ],
      "metadata": {
        "id": "BVkn9tKQiVPy",
        "colab": {
          "base_uri": "https://localhost:8080/",
          "height": 0
        },
        "outputId": "2da6b16a-69b1-4ab2-8ce1-93d71d87f285"
      },
      "execution_count": 17,
      "outputs": [
        {
          "output_type": "execute_result",
          "data": {
            "text/plain": [
              "      target         ids                          date      flag  \\\n",
              "0   NEGATIVE  1467810369  Mon Apr 06 22:19:45 PDT 2009  NO_QUERY   \n",
              "1   NEGATIVE  1467810672  Mon Apr 06 22:19:49 PDT 2009  NO_QUERY   \n",
              "2   NEGATIVE  1467810917  Mon Apr 06 22:19:53 PDT 2009  NO_QUERY   \n",
              "3   NEGATIVE  1467811184  Mon Apr 06 22:19:57 PDT 2009  NO_QUERY   \n",
              "4   NEGATIVE  1467811193  Mon Apr 06 22:19:57 PDT 2009  NO_QUERY   \n",
              "5   NEGATIVE  1467811372  Mon Apr 06 22:20:00 PDT 2009  NO_QUERY   \n",
              "6   NEGATIVE  1467811592  Mon Apr 06 22:20:03 PDT 2009  NO_QUERY   \n",
              "7   NEGATIVE  1467811594  Mon Apr 06 22:20:03 PDT 2009  NO_QUERY   \n",
              "8   NEGATIVE  1467811795  Mon Apr 06 22:20:05 PDT 2009  NO_QUERY   \n",
              "9   NEGATIVE  1467812025  Mon Apr 06 22:20:09 PDT 2009  NO_QUERY   \n",
              "10  NEGATIVE  1467812416  Mon Apr 06 22:20:16 PDT 2009  NO_QUERY   \n",
              "11  NEGATIVE  1467812579  Mon Apr 06 22:20:17 PDT 2009  NO_QUERY   \n",
              "12  NEGATIVE  1467812723  Mon Apr 06 22:20:19 PDT 2009  NO_QUERY   \n",
              "13  NEGATIVE  1467812771  Mon Apr 06 22:20:19 PDT 2009  NO_QUERY   \n",
              "14  NEGATIVE  1467812784  Mon Apr 06 22:20:20 PDT 2009  NO_QUERY   \n",
              "15  NEGATIVE  1467812799  Mon Apr 06 22:20:20 PDT 2009  NO_QUERY   \n",
              "16  NEGATIVE  1467812964  Mon Apr 06 22:20:22 PDT 2009  NO_QUERY   \n",
              "17  NEGATIVE  1467813137  Mon Apr 06 22:20:25 PDT 2009  NO_QUERY   \n",
              "18  NEGATIVE  1467813579  Mon Apr 06 22:20:31 PDT 2009  NO_QUERY   \n",
              "19  NEGATIVE  1467813782  Mon Apr 06 22:20:34 PDT 2009  NO_QUERY   \n",
              "\n",
              "               user                                               text  \n",
              "0   _TheSpecialOne_       awww bummer shoulda got david carr third day  \n",
              "1     scotthamilton  upset update facebook texting might cry result...  \n",
              "2          mattycus  dived many times ball managed save 50 rest go ...  \n",
              "3           ElleCTF                   whole body feels itchy like fire  \n",
              "4            Karoli                                   behaving mad see  \n",
              "5          joy_wolf                                         whole crew  \n",
              "6           mybirch                                           need hug  \n",
              "7              coZZ  hey long time see yes rains bit bit lol fine t...  \n",
              "8   2Hood4Hollywood                                               nope  \n",
              "9           mimismo                                          que muera  \n",
              "10   erinx3leannexo                    spring break plain city snowing  \n",
              "11     pardonlauren                                       pierced ears  \n",
              "12             TLeC            bear watch thought ua loss embarrassing  \n",
              "13  robrobbierobert               counts idk either never talk anymore  \n",
              "14      bayofwolves  would first gun really though zac snyder douch...  \n",
              "15       HairByJess           wish got watch miss iamlilnicki premiere  \n",
              "16   lovesongwriter  hollis death scene hurt severely watch film wr...  \n",
              "17         armotley                                         file taxes  \n",
              "18       starkissed     ahh ive always wanted see rent love soundtrack  \n",
              "19        gi_gi_bee            oh dear drinking forgotten table drinks  "
            ],
            "text/html": [
              "<div>\n",
              "<style scoped>\n",
              "    .dataframe tbody tr th:only-of-type {\n",
              "        vertical-align: middle;\n",
              "    }\n",
              "\n",
              "    .dataframe tbody tr th {\n",
              "        vertical-align: top;\n",
              "    }\n",
              "\n",
              "    .dataframe thead th {\n",
              "        text-align: right;\n",
              "    }\n",
              "</style>\n",
              "<table border=\"1\" class=\"dataframe\">\n",
              "  <thead>\n",
              "    <tr style=\"text-align: right;\">\n",
              "      <th></th>\n",
              "      <th>target</th>\n",
              "      <th>ids</th>\n",
              "      <th>date</th>\n",
              "      <th>flag</th>\n",
              "      <th>user</th>\n",
              "      <th>text</th>\n",
              "    </tr>\n",
              "  </thead>\n",
              "  <tbody>\n",
              "    <tr>\n",
              "      <th>0</th>\n",
              "      <td>NEGATIVE</td>\n",
              "      <td>1467810369</td>\n",
              "      <td>Mon Apr 06 22:19:45 PDT 2009</td>\n",
              "      <td>NO_QUERY</td>\n",
              "      <td>_TheSpecialOne_</td>\n",
              "      <td>awww bummer shoulda got david carr third day</td>\n",
              "    </tr>\n",
              "    <tr>\n",
              "      <th>1</th>\n",
              "      <td>NEGATIVE</td>\n",
              "      <td>1467810672</td>\n",
              "      <td>Mon Apr 06 22:19:49 PDT 2009</td>\n",
              "      <td>NO_QUERY</td>\n",
              "      <td>scotthamilton</td>\n",
              "      <td>upset update facebook texting might cry result...</td>\n",
              "    </tr>\n",
              "    <tr>\n",
              "      <th>2</th>\n",
              "      <td>NEGATIVE</td>\n",
              "      <td>1467810917</td>\n",
              "      <td>Mon Apr 06 22:19:53 PDT 2009</td>\n",
              "      <td>NO_QUERY</td>\n",
              "      <td>mattycus</td>\n",
              "      <td>dived many times ball managed save 50 rest go ...</td>\n",
              "    </tr>\n",
              "    <tr>\n",
              "      <th>3</th>\n",
              "      <td>NEGATIVE</td>\n",
              "      <td>1467811184</td>\n",
              "      <td>Mon Apr 06 22:19:57 PDT 2009</td>\n",
              "      <td>NO_QUERY</td>\n",
              "      <td>ElleCTF</td>\n",
              "      <td>whole body feels itchy like fire</td>\n",
              "    </tr>\n",
              "    <tr>\n",
              "      <th>4</th>\n",
              "      <td>NEGATIVE</td>\n",
              "      <td>1467811193</td>\n",
              "      <td>Mon Apr 06 22:19:57 PDT 2009</td>\n",
              "      <td>NO_QUERY</td>\n",
              "      <td>Karoli</td>\n",
              "      <td>behaving mad see</td>\n",
              "    </tr>\n",
              "    <tr>\n",
              "      <th>5</th>\n",
              "      <td>NEGATIVE</td>\n",
              "      <td>1467811372</td>\n",
              "      <td>Mon Apr 06 22:20:00 PDT 2009</td>\n",
              "      <td>NO_QUERY</td>\n",
              "      <td>joy_wolf</td>\n",
              "      <td>whole crew</td>\n",
              "    </tr>\n",
              "    <tr>\n",
              "      <th>6</th>\n",
              "      <td>NEGATIVE</td>\n",
              "      <td>1467811592</td>\n",
              "      <td>Mon Apr 06 22:20:03 PDT 2009</td>\n",
              "      <td>NO_QUERY</td>\n",
              "      <td>mybirch</td>\n",
              "      <td>need hug</td>\n",
              "    </tr>\n",
              "    <tr>\n",
              "      <th>7</th>\n",
              "      <td>NEGATIVE</td>\n",
              "      <td>1467811594</td>\n",
              "      <td>Mon Apr 06 22:20:03 PDT 2009</td>\n",
              "      <td>NO_QUERY</td>\n",
              "      <td>coZZ</td>\n",
              "      <td>hey long time see yes rains bit bit lol fine t...</td>\n",
              "    </tr>\n",
              "    <tr>\n",
              "      <th>8</th>\n",
              "      <td>NEGATIVE</td>\n",
              "      <td>1467811795</td>\n",
              "      <td>Mon Apr 06 22:20:05 PDT 2009</td>\n",
              "      <td>NO_QUERY</td>\n",
              "      <td>2Hood4Hollywood</td>\n",
              "      <td>nope</td>\n",
              "    </tr>\n",
              "    <tr>\n",
              "      <th>9</th>\n",
              "      <td>NEGATIVE</td>\n",
              "      <td>1467812025</td>\n",
              "      <td>Mon Apr 06 22:20:09 PDT 2009</td>\n",
              "      <td>NO_QUERY</td>\n",
              "      <td>mimismo</td>\n",
              "      <td>que muera</td>\n",
              "    </tr>\n",
              "    <tr>\n",
              "      <th>10</th>\n",
              "      <td>NEGATIVE</td>\n",
              "      <td>1467812416</td>\n",
              "      <td>Mon Apr 06 22:20:16 PDT 2009</td>\n",
              "      <td>NO_QUERY</td>\n",
              "      <td>erinx3leannexo</td>\n",
              "      <td>spring break plain city snowing</td>\n",
              "    </tr>\n",
              "    <tr>\n",
              "      <th>11</th>\n",
              "      <td>NEGATIVE</td>\n",
              "      <td>1467812579</td>\n",
              "      <td>Mon Apr 06 22:20:17 PDT 2009</td>\n",
              "      <td>NO_QUERY</td>\n",
              "      <td>pardonlauren</td>\n",
              "      <td>pierced ears</td>\n",
              "    </tr>\n",
              "    <tr>\n",
              "      <th>12</th>\n",
              "      <td>NEGATIVE</td>\n",
              "      <td>1467812723</td>\n",
              "      <td>Mon Apr 06 22:20:19 PDT 2009</td>\n",
              "      <td>NO_QUERY</td>\n",
              "      <td>TLeC</td>\n",
              "      <td>bear watch thought ua loss embarrassing</td>\n",
              "    </tr>\n",
              "    <tr>\n",
              "      <th>13</th>\n",
              "      <td>NEGATIVE</td>\n",
              "      <td>1467812771</td>\n",
              "      <td>Mon Apr 06 22:20:19 PDT 2009</td>\n",
              "      <td>NO_QUERY</td>\n",
              "      <td>robrobbierobert</td>\n",
              "      <td>counts idk either never talk anymore</td>\n",
              "    </tr>\n",
              "    <tr>\n",
              "      <th>14</th>\n",
              "      <td>NEGATIVE</td>\n",
              "      <td>1467812784</td>\n",
              "      <td>Mon Apr 06 22:20:20 PDT 2009</td>\n",
              "      <td>NO_QUERY</td>\n",
              "      <td>bayofwolves</td>\n",
              "      <td>would first gun really though zac snyder douch...</td>\n",
              "    </tr>\n",
              "    <tr>\n",
              "      <th>15</th>\n",
              "      <td>NEGATIVE</td>\n",
              "      <td>1467812799</td>\n",
              "      <td>Mon Apr 06 22:20:20 PDT 2009</td>\n",
              "      <td>NO_QUERY</td>\n",
              "      <td>HairByJess</td>\n",
              "      <td>wish got watch miss iamlilnicki premiere</td>\n",
              "    </tr>\n",
              "    <tr>\n",
              "      <th>16</th>\n",
              "      <td>NEGATIVE</td>\n",
              "      <td>1467812964</td>\n",
              "      <td>Mon Apr 06 22:20:22 PDT 2009</td>\n",
              "      <td>NO_QUERY</td>\n",
              "      <td>lovesongwriter</td>\n",
              "      <td>hollis death scene hurt severely watch film wr...</td>\n",
              "    </tr>\n",
              "    <tr>\n",
              "      <th>17</th>\n",
              "      <td>NEGATIVE</td>\n",
              "      <td>1467813137</td>\n",
              "      <td>Mon Apr 06 22:20:25 PDT 2009</td>\n",
              "      <td>NO_QUERY</td>\n",
              "      <td>armotley</td>\n",
              "      <td>file taxes</td>\n",
              "    </tr>\n",
              "    <tr>\n",
              "      <th>18</th>\n",
              "      <td>NEGATIVE</td>\n",
              "      <td>1467813579</td>\n",
              "      <td>Mon Apr 06 22:20:31 PDT 2009</td>\n",
              "      <td>NO_QUERY</td>\n",
              "      <td>starkissed</td>\n",
              "      <td>ahh ive always wanted see rent love soundtrack</td>\n",
              "    </tr>\n",
              "    <tr>\n",
              "      <th>19</th>\n",
              "      <td>NEGATIVE</td>\n",
              "      <td>1467813782</td>\n",
              "      <td>Mon Apr 06 22:20:34 PDT 2009</td>\n",
              "      <td>NO_QUERY</td>\n",
              "      <td>gi_gi_bee</td>\n",
              "      <td>oh dear drinking forgotten table drinks</td>\n",
              "    </tr>\n",
              "  </tbody>\n",
              "</table>\n",
              "</div>"
            ]
          },
          "metadata": {},
          "execution_count": 17
        }
      ]
    },
    {
      "cell_type": "code",
      "source": [
        "# df.to_csv(dataset_path,index=False, header=False)"
      ],
      "metadata": {
        "id": "uWnvSpcQrH6N"
      },
      "execution_count": 18,
      "outputs": []
    },
    {
      "cell_type": "markdown",
      "source": [
        "### Split train and test"
      ],
      "metadata": {
        "_uuid": "f5f9714a8507409bbe780eebf2855a33e8e6ba37",
        "trusted": true,
        "id": "6qYXZVMHWHXL"
      }
    },
    {
      "cell_type": "code",
      "source": [
        ""
      ],
      "metadata": {
        "id": "73lgu4UbyCpy"
      },
      "execution_count": 18,
      "outputs": []
    },
    {
      "cell_type": "code",
      "source": [
        "df_train, df_test = train_test_split(df, test_size=1-TRAIN_SIZE, random_state=42)\n",
        "print(\"TRAIN size:\", len(df_train))\n",
        "print(\"TEST size:\", len(df_test))"
      ],
      "metadata": {
        "_uuid": "d2b1179c968e3f3910c790ecf0c5b2cbb34b0e68",
        "trusted": true,
        "id": "QI7JuHbTWHXM",
        "colab": {
          "base_uri": "https://localhost:8080/"
        },
        "outputId": "2fa4a4d1-7af6-4985-ecf7-9ae7d728d4d5"
      },
      "execution_count": 19,
      "outputs": [
        {
          "output_type": "stream",
          "name": "stdout",
          "text": [
            "TRAIN size: 1280000\n",
            "TEST size: 320000\n"
          ]
        }
      ]
    },
    {
      "cell_type": "code",
      "source": [
        "del df"
      ],
      "metadata": {
        "id": "HY-j0EOZyGa7"
      },
      "execution_count": 20,
      "outputs": []
    },
    {
      "cell_type": "code",
      "source": [
        "df_train"
      ],
      "metadata": {
        "id": "UQVjHEFaq7FC",
        "colab": {
          "base_uri": "https://localhost:8080/",
          "height": 0
        },
        "outputId": "d747b970-fadb-4338-d4d7-d470d07963a9"
      },
      "execution_count": 21,
      "outputs": [
        {
          "output_type": "execute_result",
          "data": {
            "text/plain": [
              "           target         ids                          date      flag  \\\n",
              "1374558  POSITIVE  2051457557  Fri Jun 05 22:04:23 PDT 2009  NO_QUERY   \n",
              "1389115  POSITIVE  2053083567  Sat Jun 06 03:12:21 PDT 2009  NO_QUERY   \n",
              "1137831  POSITIVE  1976779404  Sat May 30 19:02:49 PDT 2009  NO_QUERY   \n",
              "790714   NEGATIVE  2325739990  Thu Jun 25 05:59:18 PDT 2009  NO_QUERY   \n",
              "1117911  POSITIVE  1973503391  Sat May 30 11:16:35 PDT 2009  NO_QUERY   \n",
              "...           ...         ...                           ...       ...   \n",
              "259178   NEGATIVE  1985361990  Sun May 31 16:57:39 PDT 2009  NO_QUERY   \n",
              "1414414  POSITIVE  2057029784  Sat Jun 06 12:14:24 PDT 2009  NO_QUERY   \n",
              "131932   NEGATIVE  1835639354  Mon May 18 06:26:21 PDT 2009  NO_QUERY   \n",
              "671155   NEGATIVE  2246780174  Fri Jun 19 18:06:46 PDT 2009  NO_QUERY   \n",
              "121958   NEGATIVE  1833617173  Sun May 17 23:52:31 PDT 2009  NO_QUERY   \n",
              "\n",
              "                    user                                               text  \n",
              "1374558    JGoldsborough  ya quot like palm pre touchstone charger ready...  \n",
              "1389115           Psioui          felt earthquake afternoon seems epicenter  \n",
              "1137831        adriville                          ruffles shirts like likey  \n",
              "790714        Blondie128  pretty bad night crappy morning fml buttface d...  \n",
              "1117911         khrabrov                                    yeah clear view  \n",
              "...                  ...                                                ...  \n",
              "259178       lutheasalom               song middle change want born arghhhh  \n",
              "1414414           beeluz                                          good luck  \n",
              "131932       lordmuttley                               rather average 32370  \n",
              "671155   MizSadittyFancy  pickin misstinayao waitin sadittysash 2 hurry ...  \n",
              "121958           dindahh       home studying maths wooot im going fail shit  \n",
              "\n",
              "[1280000 rows x 6 columns]"
            ],
            "text/html": [
              "<div>\n",
              "<style scoped>\n",
              "    .dataframe tbody tr th:only-of-type {\n",
              "        vertical-align: middle;\n",
              "    }\n",
              "\n",
              "    .dataframe tbody tr th {\n",
              "        vertical-align: top;\n",
              "    }\n",
              "\n",
              "    .dataframe thead th {\n",
              "        text-align: right;\n",
              "    }\n",
              "</style>\n",
              "<table border=\"1\" class=\"dataframe\">\n",
              "  <thead>\n",
              "    <tr style=\"text-align: right;\">\n",
              "      <th></th>\n",
              "      <th>target</th>\n",
              "      <th>ids</th>\n",
              "      <th>date</th>\n",
              "      <th>flag</th>\n",
              "      <th>user</th>\n",
              "      <th>text</th>\n",
              "    </tr>\n",
              "  </thead>\n",
              "  <tbody>\n",
              "    <tr>\n",
              "      <th>1374558</th>\n",
              "      <td>POSITIVE</td>\n",
              "      <td>2051457557</td>\n",
              "      <td>Fri Jun 05 22:04:23 PDT 2009</td>\n",
              "      <td>NO_QUERY</td>\n",
              "      <td>JGoldsborough</td>\n",
              "      <td>ya quot like palm pre touchstone charger ready...</td>\n",
              "    </tr>\n",
              "    <tr>\n",
              "      <th>1389115</th>\n",
              "      <td>POSITIVE</td>\n",
              "      <td>2053083567</td>\n",
              "      <td>Sat Jun 06 03:12:21 PDT 2009</td>\n",
              "      <td>NO_QUERY</td>\n",
              "      <td>Psioui</td>\n",
              "      <td>felt earthquake afternoon seems epicenter</td>\n",
              "    </tr>\n",
              "    <tr>\n",
              "      <th>1137831</th>\n",
              "      <td>POSITIVE</td>\n",
              "      <td>1976779404</td>\n",
              "      <td>Sat May 30 19:02:49 PDT 2009</td>\n",
              "      <td>NO_QUERY</td>\n",
              "      <td>adriville</td>\n",
              "      <td>ruffles shirts like likey</td>\n",
              "    </tr>\n",
              "    <tr>\n",
              "      <th>790714</th>\n",
              "      <td>NEGATIVE</td>\n",
              "      <td>2325739990</td>\n",
              "      <td>Thu Jun 25 05:59:18 PDT 2009</td>\n",
              "      <td>NO_QUERY</td>\n",
              "      <td>Blondie128</td>\n",
              "      <td>pretty bad night crappy morning fml buttface d...</td>\n",
              "    </tr>\n",
              "    <tr>\n",
              "      <th>1117911</th>\n",
              "      <td>POSITIVE</td>\n",
              "      <td>1973503391</td>\n",
              "      <td>Sat May 30 11:16:35 PDT 2009</td>\n",
              "      <td>NO_QUERY</td>\n",
              "      <td>khrabrov</td>\n",
              "      <td>yeah clear view</td>\n",
              "    </tr>\n",
              "    <tr>\n",
              "      <th>...</th>\n",
              "      <td>...</td>\n",
              "      <td>...</td>\n",
              "      <td>...</td>\n",
              "      <td>...</td>\n",
              "      <td>...</td>\n",
              "      <td>...</td>\n",
              "    </tr>\n",
              "    <tr>\n",
              "      <th>259178</th>\n",
              "      <td>NEGATIVE</td>\n",
              "      <td>1985361990</td>\n",
              "      <td>Sun May 31 16:57:39 PDT 2009</td>\n",
              "      <td>NO_QUERY</td>\n",
              "      <td>lutheasalom</td>\n",
              "      <td>song middle change want born arghhhh</td>\n",
              "    </tr>\n",
              "    <tr>\n",
              "      <th>1414414</th>\n",
              "      <td>POSITIVE</td>\n",
              "      <td>2057029784</td>\n",
              "      <td>Sat Jun 06 12:14:24 PDT 2009</td>\n",
              "      <td>NO_QUERY</td>\n",
              "      <td>beeluz</td>\n",
              "      <td>good luck</td>\n",
              "    </tr>\n",
              "    <tr>\n",
              "      <th>131932</th>\n",
              "      <td>NEGATIVE</td>\n",
              "      <td>1835639354</td>\n",
              "      <td>Mon May 18 06:26:21 PDT 2009</td>\n",
              "      <td>NO_QUERY</td>\n",
              "      <td>lordmuttley</td>\n",
              "      <td>rather average 32370</td>\n",
              "    </tr>\n",
              "    <tr>\n",
              "      <th>671155</th>\n",
              "      <td>NEGATIVE</td>\n",
              "      <td>2246780174</td>\n",
              "      <td>Fri Jun 19 18:06:46 PDT 2009</td>\n",
              "      <td>NO_QUERY</td>\n",
              "      <td>MizSadittyFancy</td>\n",
              "      <td>pickin misstinayao waitin sadittysash 2 hurry ...</td>\n",
              "    </tr>\n",
              "    <tr>\n",
              "      <th>121958</th>\n",
              "      <td>NEGATIVE</td>\n",
              "      <td>1833617173</td>\n",
              "      <td>Sun May 17 23:52:31 PDT 2009</td>\n",
              "      <td>NO_QUERY</td>\n",
              "      <td>dindahh</td>\n",
              "      <td>home studying maths wooot im going fail shit</td>\n",
              "    </tr>\n",
              "  </tbody>\n",
              "</table>\n",
              "<p>1280000 rows × 6 columns</p>\n",
              "</div>"
            ]
          },
          "metadata": {},
          "execution_count": 21
        }
      ]
    },
    {
      "cell_type": "code",
      "source": [
        "# x_train, x_test = df_train.copy(), df_test.copy()"
      ],
      "metadata": {
        "id": "RUqXGyhVg5Gs"
      },
      "execution_count": 22,
      "outputs": []
    },
    {
      "cell_type": "markdown",
      "source": [
        "### Word2Vec "
      ],
      "metadata": {
        "_uuid": "f08a28aab2c3d16d8b9681a7d5d07587153a1cd6",
        "id": "KFjIeJDnWHXM"
      }
    },
    {
      "cell_type": "code",
      "source": [
        "%%time\n",
        "documents = [_text.split() for _text in df_train.text] "
      ],
      "metadata": {
        "_uuid": "2461bf564de1b4414841933d0c1d1bee5f5cc5a6",
        "trusted": true,
        "id": "Gjf6OQq4WHXN",
        "colab": {
          "base_uri": "https://localhost:8080/"
        },
        "outputId": "c8c5ec53-dba7-4123-f047-0ddabee9db46"
      },
      "execution_count": 23,
      "outputs": [
        {
          "output_type": "stream",
          "name": "stdout",
          "text": [
            "Wall time: 2.72 s\n"
          ]
        }
      ]
    },
    {
      "cell_type": "code",
      "source": [
        "w2v_model = gensim.models.word2vec.Word2Vec(vector_size=W2V_SIZE, \n",
        "                                            window=W2V_WINDOW, \n",
        "                                            min_count=W2V_MIN_COUNT, \n",
        "                                            workers=8)\n",
        "gensim.models.word2vec.Word2Vec()"
      ],
      "metadata": {
        "_uuid": "8e19b9f25801ba86420decc266d2b3e6fb44f1ea",
        "trusted": true,
        "id": "ACVYOCXQWHXN",
        "colab": {
          "base_uri": "https://localhost:8080/"
        },
        "outputId": "381543fd-de1f-408b-e778-165ae1d6e41a"
      },
      "execution_count": 24,
      "outputs": [
        {
          "output_type": "stream",
          "name": "stderr",
          "text": [
            "2022-01-16 08:41:53,282 : INFO : Word2Vec lifecycle event {'params': 'Word2Vec(vocab=0, vector_size=300, alpha=0.025)', 'datetime': '2022-01-16T08:41:53.282236', 'gensim': '4.1.2', 'python': '3.9.7 (default, Sep 16 2021, 16:59:28) [MSC v.1916 64 bit (AMD64)]', 'platform': 'Windows-10-10.0.22000-SP0', 'event': 'created'}\n",
            "2022-01-16 08:41:53,286 : INFO : Word2Vec lifecycle event {'params': 'Word2Vec(vocab=0, vector_size=100, alpha=0.025)', 'datetime': '2022-01-16T08:41:53.286773', 'gensim': '4.1.2', 'python': '3.9.7 (default, Sep 16 2021, 16:59:28) [MSC v.1916 64 bit (AMD64)]', 'platform': 'Windows-10-10.0.22000-SP0', 'event': 'created'}\n"
          ]
        },
        {
          "output_type": "execute_result",
          "data": {
            "text/plain": [
              "<gensim.models.word2vec.Word2Vec at 0x135ac439df0>"
            ]
          },
          "metadata": {},
          "execution_count": 24
        }
      ]
    },
    {
      "cell_type": "code",
      "source": [
        "w2v_model.build_vocab(documents)"
      ],
      "metadata": {
        "_uuid": "58d655af07653c594bec6bebcfb302a973b0ad9c",
        "trusted": true,
        "id": "FLrHieVsWHXN",
        "colab": {
          "base_uri": "https://localhost:8080/"
        },
        "outputId": "36151d6d-bfe4-4cbf-bd8c-f7c67f696e28"
      },
      "execution_count": 25,
      "outputs": [
        {
          "output_type": "stream",
          "name": "stderr",
          "text": [
            "2022-01-16 08:41:53,304 : INFO : collecting all words and their counts\n",
            "2022-01-16 08:41:53,306 : INFO : PROGRESS: at sentence #0, processed 0 words, keeping 0 word types\n",
            "2022-01-16 08:41:53,338 : INFO : PROGRESS: at sentence #10000, processed 72565 words, keeping 14005 word types\n",
            "2022-01-16 08:41:53,357 : INFO : PROGRESS: at sentence #20000, processed 144393 words, keeping 21587 word types\n",
            "2022-01-16 08:41:53,376 : INFO : PROGRESS: at sentence #30000, processed 215826 words, keeping 27541 word types\n",
            "2022-01-16 08:41:53,392 : INFO : PROGRESS: at sentence #40000, processed 288271 words, keeping 32764 word types\n",
            "2022-01-16 08:41:53,407 : INFO : PROGRESS: at sentence #50000, processed 359772 words, keeping 37587 word types\n",
            "2022-01-16 08:41:53,424 : INFO : PROGRESS: at sentence #60000, processed 431431 words, keeping 42198 word types\n",
            "2022-01-16 08:41:53,441 : INFO : PROGRESS: at sentence #70000, processed 503103 words, keeping 46458 word types\n",
            "2022-01-16 08:41:53,457 : INFO : PROGRESS: at sentence #80000, processed 575709 words, keeping 50476 word types\n",
            "2022-01-16 08:41:53,470 : INFO : PROGRESS: at sentence #90000, processed 647100 words, keeping 54140 word types\n",
            "2022-01-16 08:41:53,486 : INFO : PROGRESS: at sentence #100000, processed 718681 words, keeping 57777 word types\n",
            "2022-01-16 08:41:53,503 : INFO : PROGRESS: at sentence #110000, processed 790696 words, keeping 61207 word types\n",
            "2022-01-16 08:41:53,520 : INFO : PROGRESS: at sentence #120000, processed 863134 words, keeping 64583 word types\n",
            "2022-01-16 08:41:53,536 : INFO : PROGRESS: at sentence #130000, processed 935111 words, keeping 67865 word types\n",
            "2022-01-16 08:41:53,552 : INFO : PROGRESS: at sentence #140000, processed 1006668 words, keeping 70966 word types\n",
            "2022-01-16 08:41:53,565 : INFO : PROGRESS: at sentence #150000, processed 1078512 words, keeping 74119 word types\n",
            "2022-01-16 08:41:53,581 : INFO : PROGRESS: at sentence #160000, processed 1149914 words, keeping 77187 word types\n",
            "2022-01-16 08:41:53,598 : INFO : PROGRESS: at sentence #170000, processed 1222145 words, keeping 80267 word types\n",
            "2022-01-16 08:41:53,611 : INFO : PROGRESS: at sentence #180000, processed 1294708 words, keeping 83393 word types\n",
            "2022-01-16 08:41:53,627 : INFO : PROGRESS: at sentence #190000, processed 1367608 words, keeping 86329 word types\n",
            "2022-01-16 08:41:53,643 : INFO : PROGRESS: at sentence #200000, processed 1439469 words, keeping 89103 word types\n",
            "2022-01-16 08:41:53,661 : INFO : PROGRESS: at sentence #210000, processed 1512099 words, keeping 91840 word types\n",
            "2022-01-16 08:41:53,678 : INFO : PROGRESS: at sentence #220000, processed 1584149 words, keeping 94636 word types\n",
            "2022-01-16 08:41:53,694 : INFO : PROGRESS: at sentence #230000, processed 1656354 words, keeping 97353 word types\n",
            "2022-01-16 08:41:53,709 : INFO : PROGRESS: at sentence #240000, processed 1728573 words, keeping 99975 word types\n",
            "2022-01-16 08:41:53,724 : INFO : PROGRESS: at sentence #250000, processed 1801102 words, keeping 102594 word types\n",
            "2022-01-16 08:41:53,740 : INFO : PROGRESS: at sentence #260000, processed 1873103 words, keeping 105162 word types\n",
            "2022-01-16 08:41:53,756 : INFO : PROGRESS: at sentence #270000, processed 1945245 words, keeping 107626 word types\n",
            "2022-01-16 08:41:53,769 : INFO : PROGRESS: at sentence #280000, processed 2017163 words, keeping 110141 word types\n",
            "2022-01-16 08:41:53,785 : INFO : PROGRESS: at sentence #290000, processed 2089574 words, keeping 112539 word types\n",
            "2022-01-16 08:41:53,800 : INFO : PROGRESS: at sentence #300000, processed 2160996 words, keeping 114893 word types\n",
            "2022-01-16 08:41:53,811 : INFO : PROGRESS: at sentence #310000, processed 2232913 words, keeping 117298 word types\n",
            "2022-01-16 08:41:53,827 : INFO : PROGRESS: at sentence #320000, processed 2305039 words, keeping 119693 word types\n",
            "2022-01-16 08:41:53,844 : INFO : PROGRESS: at sentence #330000, processed 2377119 words, keeping 122131 word types\n",
            "2022-01-16 08:41:53,857 : INFO : PROGRESS: at sentence #340000, processed 2449370 words, keeping 124416 word types\n",
            "2022-01-16 08:41:53,873 : INFO : PROGRESS: at sentence #350000, processed 2521564 words, keeping 126669 word types\n",
            "2022-01-16 08:41:53,889 : INFO : PROGRESS: at sentence #360000, processed 2593681 words, keeping 128912 word types\n",
            "2022-01-16 08:41:53,906 : INFO : PROGRESS: at sentence #370000, processed 2665692 words, keeping 131135 word types\n",
            "2022-01-16 08:41:53,923 : INFO : PROGRESS: at sentence #380000, processed 2737859 words, keeping 133403 word types\n",
            "2022-01-16 08:41:53,939 : INFO : PROGRESS: at sentence #390000, processed 2809848 words, keeping 135551 word types\n",
            "2022-01-16 08:41:53,953 : INFO : PROGRESS: at sentence #400000, processed 2882438 words, keeping 137742 word types\n",
            "2022-01-16 08:41:53,968 : INFO : PROGRESS: at sentence #410000, processed 2954075 words, keeping 139909 word types\n",
            "2022-01-16 08:41:53,983 : INFO : PROGRESS: at sentence #420000, processed 3026247 words, keeping 142144 word types\n",
            "2022-01-16 08:41:53,999 : INFO : PROGRESS: at sentence #430000, processed 3098659 words, keeping 144364 word types\n",
            "2022-01-16 08:41:54,015 : INFO : PROGRESS: at sentence #440000, processed 3170663 words, keeping 146439 word types\n",
            "2022-01-16 08:41:54,031 : INFO : PROGRESS: at sentence #450000, processed 3243344 words, keeping 148526 word types\n",
            "2022-01-16 08:41:54,046 : INFO : PROGRESS: at sentence #460000, processed 3315466 words, keeping 150610 word types\n",
            "2022-01-16 08:41:54,063 : INFO : PROGRESS: at sentence #470000, processed 3388295 words, keeping 152737 word types\n",
            "2022-01-16 08:41:54,078 : INFO : PROGRESS: at sentence #480000, processed 3460120 words, keeping 154757 word types\n",
            "2022-01-16 08:41:54,094 : INFO : PROGRESS: at sentence #490000, processed 3531883 words, keeping 156825 word types\n",
            "2022-01-16 08:41:54,108 : INFO : PROGRESS: at sentence #500000, processed 3604217 words, keeping 158859 word types\n",
            "2022-01-16 08:41:54,125 : INFO : PROGRESS: at sentence #510000, processed 3676427 words, keeping 160852 word types\n",
            "2022-01-16 08:41:54,141 : INFO : PROGRESS: at sentence #520000, processed 3749045 words, keeping 162863 word types\n",
            "2022-01-16 08:41:54,156 : INFO : PROGRESS: at sentence #530000, processed 3821622 words, keeping 164929 word types\n",
            "2022-01-16 08:41:54,170 : INFO : PROGRESS: at sentence #540000, processed 3893627 words, keeping 166840 word types\n",
            "2022-01-16 08:41:54,187 : INFO : PROGRESS: at sentence #550000, processed 3965477 words, keeping 168799 word types\n",
            "2022-01-16 08:41:54,203 : INFO : PROGRESS: at sentence #560000, processed 4038050 words, keeping 170802 word types\n",
            "2022-01-16 08:41:54,220 : INFO : PROGRESS: at sentence #570000, processed 4110296 words, keeping 172760 word types\n",
            "2022-01-16 08:41:54,236 : INFO : PROGRESS: at sentence #580000, processed 4182385 words, keeping 174635 word types\n",
            "2022-01-16 08:41:54,254 : INFO : PROGRESS: at sentence #590000, processed 4254632 words, keeping 176470 word types\n",
            "2022-01-16 08:41:54,270 : INFO : PROGRESS: at sentence #600000, processed 4326859 words, keeping 178350 word types\n",
            "2022-01-16 08:41:54,282 : INFO : PROGRESS: at sentence #610000, processed 4399183 words, keeping 180290 word types\n",
            "2022-01-16 08:41:54,300 : INFO : PROGRESS: at sentence #620000, processed 4471343 words, keeping 182129 word types\n",
            "2022-01-16 08:41:54,315 : INFO : PROGRESS: at sentence #630000, processed 4543286 words, keeping 184005 word types\n",
            "2022-01-16 08:41:54,329 : INFO : PROGRESS: at sentence #640000, processed 4615780 words, keeping 185835 word types\n",
            "2022-01-16 08:41:54,345 : INFO : PROGRESS: at sentence #650000, processed 4688481 words, keeping 187705 word types\n",
            "2022-01-16 08:41:54,357 : INFO : PROGRESS: at sentence #660000, processed 4760481 words, keeping 189439 word types\n",
            "2022-01-16 08:41:54,373 : INFO : PROGRESS: at sentence #670000, processed 4833024 words, keeping 191232 word types\n",
            "2022-01-16 08:41:54,389 : INFO : PROGRESS: at sentence #680000, processed 4904516 words, keeping 193177 word types\n",
            "2022-01-16 08:41:54,401 : INFO : PROGRESS: at sentence #690000, processed 4976968 words, keeping 194960 word types\n",
            "2022-01-16 08:41:54,420 : INFO : PROGRESS: at sentence #700000, processed 5049412 words, keeping 196725 word types\n",
            "2022-01-16 08:41:54,436 : INFO : PROGRESS: at sentence #710000, processed 5121976 words, keeping 198516 word types\n",
            "2022-01-16 08:41:54,453 : INFO : PROGRESS: at sentence #720000, processed 5193881 words, keeping 200325 word types\n",
            "2022-01-16 08:41:54,468 : INFO : PROGRESS: at sentence #730000, processed 5265467 words, keeping 202133 word types\n",
            "2022-01-16 08:41:54,481 : INFO : PROGRESS: at sentence #740000, processed 5337518 words, keeping 203818 word types\n",
            "2022-01-16 08:41:54,497 : INFO : PROGRESS: at sentence #750000, processed 5409321 words, keeping 205535 word types\n",
            "2022-01-16 08:41:54,516 : INFO : PROGRESS: at sentence #760000, processed 5481512 words, keeping 207282 word types\n",
            "2022-01-16 08:41:54,532 : INFO : PROGRESS: at sentence #770000, processed 5554093 words, keeping 209076 word types\n",
            "2022-01-16 08:41:54,549 : INFO : PROGRESS: at sentence #780000, processed 5625382 words, keeping 210805 word types\n",
            "2022-01-16 08:41:54,565 : INFO : PROGRESS: at sentence #790000, processed 5698066 words, keeping 212618 word types\n",
            "2022-01-16 08:41:54,582 : INFO : PROGRESS: at sentence #800000, processed 5770880 words, keeping 214374 word types\n",
            "2022-01-16 08:41:54,598 : INFO : PROGRESS: at sentence #810000, processed 5843418 words, keeping 216009 word types\n",
            "2022-01-16 08:41:54,615 : INFO : PROGRESS: at sentence #820000, processed 5915628 words, keeping 217804 word types\n",
            "2022-01-16 08:41:54,632 : INFO : PROGRESS: at sentence #830000, processed 5987499 words, keeping 219585 word types\n",
            "2022-01-16 08:41:54,647 : INFO : PROGRESS: at sentence #840000, processed 6058973 words, keeping 221344 word types\n",
            "2022-01-16 08:41:54,661 : INFO : PROGRESS: at sentence #850000, processed 6131125 words, keeping 223002 word types\n",
            "2022-01-16 08:41:54,678 : INFO : PROGRESS: at sentence #860000, processed 6202951 words, keeping 224643 word types\n",
            "2022-01-16 08:41:54,694 : INFO : PROGRESS: at sentence #870000, processed 6275461 words, keeping 226362 word types\n",
            "2022-01-16 08:41:54,712 : INFO : PROGRESS: at sentence #880000, processed 6347661 words, keeping 227986 word types\n",
            "2022-01-16 08:41:54,724 : INFO : PROGRESS: at sentence #890000, processed 6419806 words, keeping 229634 word types\n",
            "2022-01-16 08:41:54,744 : INFO : PROGRESS: at sentence #900000, processed 6491644 words, keeping 231389 word types\n",
            "2022-01-16 08:41:54,759 : INFO : PROGRESS: at sentence #910000, processed 6564022 words, keeping 233050 word types\n",
            "2022-01-16 08:41:54,774 : INFO : PROGRESS: at sentence #920000, processed 6636228 words, keeping 234686 word types\n",
            "2022-01-16 08:41:54,792 : INFO : PROGRESS: at sentence #930000, processed 6708573 words, keeping 236393 word types\n",
            "2022-01-16 08:41:54,808 : INFO : PROGRESS: at sentence #940000, processed 6779956 words, keeping 238052 word types\n",
            "2022-01-16 08:41:54,823 : INFO : PROGRESS: at sentence #950000, processed 6852599 words, keeping 239716 word types\n",
            "2022-01-16 08:41:54,842 : INFO : PROGRESS: at sentence #960000, processed 6924717 words, keeping 241354 word types\n",
            "2022-01-16 08:41:54,857 : INFO : PROGRESS: at sentence #970000, processed 6996992 words, keeping 242980 word types\n",
            "2022-01-16 08:41:54,873 : INFO : PROGRESS: at sentence #980000, processed 7068402 words, keeping 244646 word types\n",
            "2022-01-16 08:41:54,889 : INFO : PROGRESS: at sentence #990000, processed 7140346 words, keeping 246186 word types\n",
            "2022-01-16 08:41:54,905 : INFO : PROGRESS: at sentence #1000000, processed 7211757 words, keeping 247726 word types\n",
            "2022-01-16 08:41:54,920 : INFO : PROGRESS: at sentence #1010000, processed 7283267 words, keeping 249288 word types\n",
            "2022-01-16 08:41:54,936 : INFO : PROGRESS: at sentence #1020000, processed 7355299 words, keeping 250860 word types\n",
            "2022-01-16 08:41:54,951 : INFO : PROGRESS: at sentence #1030000, processed 7426918 words, keeping 252366 word types\n",
            "2022-01-16 08:41:54,967 : INFO : PROGRESS: at sentence #1040000, processed 7498815 words, keeping 253930 word types\n",
            "2022-01-16 08:41:54,980 : INFO : PROGRESS: at sentence #1050000, processed 7570499 words, keeping 255471 word types\n",
            "2022-01-16 08:41:54,996 : INFO : PROGRESS: at sentence #1060000, processed 7643251 words, keeping 257035 word types\n",
            "2022-01-16 08:41:55,012 : INFO : PROGRESS: at sentence #1070000, processed 7714721 words, keeping 258509 word types\n",
            "2022-01-16 08:41:55,026 : INFO : PROGRESS: at sentence #1080000, processed 7787371 words, keeping 260071 word types\n",
            "2022-01-16 08:41:55,046 : INFO : PROGRESS: at sentence #1090000, processed 7859336 words, keeping 261683 word types\n",
            "2022-01-16 08:41:55,061 : INFO : PROGRESS: at sentence #1100000, processed 7932029 words, keeping 263278 word types\n",
            "2022-01-16 08:41:55,078 : INFO : PROGRESS: at sentence #1110000, processed 8004146 words, keeping 264800 word types\n",
            "2022-01-16 08:41:55,094 : INFO : PROGRESS: at sentence #1120000, processed 8075880 words, keeping 266309 word types\n",
            "2022-01-16 08:41:55,107 : INFO : PROGRESS: at sentence #1130000, processed 8148163 words, keeping 267826 word types\n",
            "2022-01-16 08:41:55,123 : INFO : PROGRESS: at sentence #1140000, processed 8220487 words, keeping 269391 word types\n",
            "2022-01-16 08:41:55,139 : INFO : PROGRESS: at sentence #1150000, processed 8292498 words, keeping 270894 word types\n",
            "2022-01-16 08:41:55,150 : INFO : PROGRESS: at sentence #1160000, processed 8363838 words, keeping 272400 word types\n",
            "2022-01-16 08:41:55,168 : INFO : PROGRESS: at sentence #1170000, processed 8435510 words, keeping 273970 word types\n",
            "2022-01-16 08:41:55,182 : INFO : PROGRESS: at sentence #1180000, processed 8507795 words, keeping 275521 word types\n",
            "2022-01-16 08:41:55,196 : INFO : PROGRESS: at sentence #1190000, processed 8579080 words, keeping 277007 word types\n",
            "2022-01-16 08:41:55,212 : INFO : PROGRESS: at sentence #1200000, processed 8650606 words, keeping 278457 word types\n",
            "2022-01-16 08:41:55,228 : INFO : PROGRESS: at sentence #1210000, processed 8721893 words, keeping 279959 word types\n",
            "2022-01-16 08:41:55,244 : INFO : PROGRESS: at sentence #1220000, processed 8793795 words, keeping 281427 word types\n",
            "2022-01-16 08:41:55,260 : INFO : PROGRESS: at sentence #1230000, processed 8865726 words, keeping 282981 word types\n",
            "2022-01-16 08:41:55,274 : INFO : PROGRESS: at sentence #1240000, processed 8938173 words, keeping 284542 word types\n",
            "2022-01-16 08:41:55,290 : INFO : PROGRESS: at sentence #1250000, processed 9010842 words, keeping 286064 word types\n",
            "2022-01-16 08:41:55,309 : INFO : PROGRESS: at sentence #1260000, processed 9083261 words, keeping 287521 word types\n",
            "2022-01-16 08:41:55,324 : INFO : PROGRESS: at sentence #1270000, processed 9155616 words, keeping 288987 word types\n",
            "2022-01-16 08:41:55,339 : INFO : collected 290418 word types from a corpus of 9227204 raw words and 1280000 sentences\n",
            "2022-01-16 08:41:55,340 : INFO : Creating a fresh vocabulary\n",
            "2022-01-16 08:41:55,511 : INFO : Word2Vec lifecycle event {'msg': 'effective_min_count=10 retains 30369 unique words (10.456996467161126%% of original 290418, drops 260049)', 'datetime': '2022-01-16T08:41:55.511884', 'gensim': '4.1.2', 'python': '3.9.7 (default, Sep 16 2021, 16:59:28) [MSC v.1916 64 bit (AMD64)]', 'platform': 'Windows-10-10.0.22000-SP0', 'event': 'prepare_vocab'}\n",
            "2022-01-16 08:41:55,512 : INFO : Word2Vec lifecycle event {'msg': 'effective_min_count=10 leaves 8780739 word corpus (95.16142701516083%% of original 9227204, drops 446465)', 'datetime': '2022-01-16T08:41:55.512232', 'gensim': '4.1.2', 'python': '3.9.7 (default, Sep 16 2021, 16:59:28) [MSC v.1916 64 bit (AMD64)]', 'platform': 'Windows-10-10.0.22000-SP0', 'event': 'prepare_vocab'}\n",
            "2022-01-16 08:41:55,646 : INFO : deleting the raw counts dictionary of 290418 items\n",
            "2022-01-16 08:41:55,650 : INFO : sample=0.001 downsamples 45 most-common words\n",
            "2022-01-16 08:41:55,650 : INFO : Word2Vec lifecycle event {'msg': 'downsampling leaves estimated 8222658.616429881 word corpus (93.6%% of prior 8780739)', 'datetime': '2022-01-16T08:41:55.650719', 'gensim': '4.1.2', 'python': '3.9.7 (default, Sep 16 2021, 16:59:28) [MSC v.1916 64 bit (AMD64)]', 'platform': 'Windows-10-10.0.22000-SP0', 'event': 'prepare_vocab'}\n",
            "2022-01-16 08:41:55,871 : INFO : estimated required memory for 30369 words and 300 dimensions: 88070100 bytes\n",
            "2022-01-16 08:41:55,871 : INFO : resetting layer weights\n",
            "2022-01-16 08:41:55,910 : INFO : Word2Vec lifecycle event {'update': False, 'trim_rule': 'None', 'datetime': '2022-01-16T08:41:55.910052', 'gensim': '4.1.2', 'python': '3.9.7 (default, Sep 16 2021, 16:59:28) [MSC v.1916 64 bit (AMD64)]', 'platform': 'Windows-10-10.0.22000-SP0', 'event': 'build_vocab'}\n"
          ]
        }
      ]
    },
    {
      "cell_type": "code",
      "source": [
        "words = w2v_model.wv.key_to_index.keys()\n",
        "vocab_size = len(words)\n",
        "print(\"Vocab size\", vocab_size)"
      ],
      "metadata": {
        "_uuid": "72a5628ca81fd4b8983c12d93ae0bf950b86b6ae",
        "trusted": true,
        "id": "1vOLKvWQWHXO",
        "colab": {
          "base_uri": "https://localhost:8080/"
        },
        "outputId": "27aeae7c-d40f-41bd-cb1b-561099d0068e"
      },
      "execution_count": 26,
      "outputs": [
        {
          "output_type": "stream",
          "name": "stdout",
          "text": [
            "Vocab size 30369\n"
          ]
        }
      ]
    },
    {
      "cell_type": "code",
      "source": [
        "%%time\n",
        "w2v_model.train(documents, total_examples=len(documents), epochs=W2V_EPOCH)"
      ],
      "metadata": {
        "_uuid": "68c3e4a5ba07cac3dee67f78ecdd1404c7f83f14",
        "trusted": true,
        "id": "wYAIPxNeWHXO",
        "colab": {
          "base_uri": "https://localhost:8080/"
        },
        "outputId": "5c67e6ca-e48c-4a06-a015-7b1fa5207ccb"
      },
      "execution_count": 27,
      "outputs": [
        {
          "output_type": "stream",
          "name": "stderr",
          "text": [
            "2022-01-16 08:41:55,935 : INFO : Word2Vec lifecycle event {'msg': 'training model with 8 workers on 30369 vocabulary and 300 features, using sg=0 hs=0 sample=0.001 negative=5 window=7 shrink_windows=True', 'datetime': '2022-01-16T08:41:55.935126', 'gensim': '4.1.2', 'python': '3.9.7 (default, Sep 16 2021, 16:59:28) [MSC v.1916 64 bit (AMD64)]', 'platform': 'Windows-10-10.0.22000-SP0', 'event': 'train'}\n",
            "2022-01-16 08:41:56,961 : INFO : EPOCH 1 - PROGRESS: at 21.03% examples, 1712545 words/s, in_qsize 16, out_qsize 0\n",
            "2022-01-16 08:41:57,965 : INFO : EPOCH 1 - PROGRESS: at 42.68% examples, 1744022 words/s, in_qsize 14, out_qsize 1\n",
            "2022-01-16 08:41:58,971 : INFO : EPOCH 1 - PROGRESS: at 64.62% examples, 1762294 words/s, in_qsize 16, out_qsize 0\n",
            "2022-01-16 08:41:59,978 : INFO : EPOCH 1 - PROGRESS: at 86.31% examples, 1763790 words/s, in_qsize 14, out_qsize 1\n",
            "2022-01-16 08:42:00,623 : INFO : worker thread finished; awaiting finish of 7 more threads\n",
            "2022-01-16 08:42:00,627 : INFO : worker thread finished; awaiting finish of 6 more threads\n",
            "2022-01-16 08:42:00,631 : INFO : worker thread finished; awaiting finish of 5 more threads\n",
            "2022-01-16 08:42:00,638 : INFO : worker thread finished; awaiting finish of 4 more threads\n",
            "2022-01-16 08:42:00,639 : INFO : worker thread finished; awaiting finish of 3 more threads\n",
            "2022-01-16 08:42:00,645 : INFO : worker thread finished; awaiting finish of 2 more threads\n",
            "2022-01-16 08:42:00,645 : INFO : worker thread finished; awaiting finish of 1 more threads\n",
            "2022-01-16 08:42:00,649 : INFO : worker thread finished; awaiting finish of 0 more threads\n",
            "2022-01-16 08:42:00,649 : INFO : EPOCH - 1 : training on 9227204 raw words (8223269 effective words) took 4.7s, 1749694 effective words/s\n",
            "2022-01-16 08:42:01,677 : INFO : EPOCH 2 - PROGRESS: at 19.19% examples, 1557219 words/s, in_qsize 14, out_qsize 1\n",
            "2022-01-16 08:42:02,678 : INFO : EPOCH 2 - PROGRESS: at 39.86% examples, 1627844 words/s, in_qsize 15, out_qsize 0\n",
            "2022-01-16 08:42:03,682 : INFO : EPOCH 2 - PROGRESS: at 61.60% examples, 1679418 words/s, in_qsize 13, out_qsize 2\n",
            "2022-01-16 08:42:04,686 : INFO : EPOCH 2 - PROGRESS: at 83.62% examples, 1708982 words/s, in_qsize 15, out_qsize 0\n",
            "2022-01-16 08:42:05,397 : INFO : worker thread finished; awaiting finish of 7 more threads\n",
            "2022-01-16 08:42:05,397 : INFO : worker thread finished; awaiting finish of 6 more threads\n",
            "2022-01-16 08:42:05,401 : INFO : worker thread finished; awaiting finish of 5 more threads\n",
            "2022-01-16 08:42:05,407 : INFO : worker thread finished; awaiting finish of 4 more threads\n",
            "2022-01-16 08:42:05,411 : INFO : worker thread finished; awaiting finish of 3 more threads\n",
            "2022-01-16 08:42:05,411 : INFO : worker thread finished; awaiting finish of 2 more threads\n",
            "2022-01-16 08:42:05,411 : INFO : worker thread finished; awaiting finish of 1 more threads\n",
            "2022-01-16 08:42:05,419 : INFO : worker thread finished; awaiting finish of 0 more threads\n",
            "2022-01-16 08:42:05,420 : INFO : EPOCH - 2 : training on 9227204 raw words (8221781 effective words) took 4.8s, 1728931 effective words/s\n",
            "2022-01-16 08:42:06,440 : INFO : EPOCH 3 - PROGRESS: at 21.46% examples, 1750427 words/s, in_qsize 15, out_qsize 0\n",
            "2022-01-16 08:42:07,444 : INFO : EPOCH 3 - PROGRESS: at 43.11% examples, 1763713 words/s, in_qsize 15, out_qsize 0\n",
            "2022-01-16 08:42:08,448 : INFO : EPOCH 3 - PROGRESS: at 65.06% examples, 1775364 words/s, in_qsize 14, out_qsize 1\n",
            "2022-01-16 08:42:09,452 : INFO : EPOCH 3 - PROGRESS: at 87.29% examples, 1785710 words/s, in_qsize 15, out_qsize 0\n",
            "2022-01-16 08:42:09,998 : INFO : worker thread finished; awaiting finish of 7 more threads\n",
            "2022-01-16 08:42:10,002 : INFO : worker thread finished; awaiting finish of 6 more threads\n",
            "2022-01-16 08:42:10,007 : INFO : worker thread finished; awaiting finish of 5 more threads\n",
            "2022-01-16 08:42:10,010 : INFO : worker thread finished; awaiting finish of 4 more threads\n",
            "2022-01-16 08:42:10,012 : INFO : worker thread finished; awaiting finish of 3 more threads\n",
            "2022-01-16 08:42:10,012 : INFO : worker thread finished; awaiting finish of 2 more threads\n",
            "2022-01-16 08:42:10,020 : INFO : worker thread finished; awaiting finish of 1 more threads\n",
            "2022-01-16 08:42:10,020 : INFO : worker thread finished; awaiting finish of 0 more threads\n",
            "2022-01-16 08:42:10,020 : INFO : EPOCH - 3 : training on 9227204 raw words (8222590 effective words) took 4.6s, 1792562 effective words/s\n",
            "2022-01-16 08:42:11,040 : INFO : EPOCH 4 - PROGRESS: at 21.68% examples, 1775943 words/s, in_qsize 15, out_qsize 0\n",
            "2022-01-16 08:42:12,050 : INFO : EPOCH 4 - PROGRESS: at 43.32% examples, 1771876 words/s, in_qsize 14, out_qsize 1\n",
            "2022-01-16 08:42:13,051 : INFO : EPOCH 4 - PROGRESS: at 65.06% examples, 1778009 words/s, in_qsize 15, out_qsize 0\n",
            "2022-01-16 08:42:14,051 : INFO : EPOCH 4 - PROGRESS: at 86.43% examples, 1772063 words/s, in_qsize 14, out_qsize 1\n",
            "2022-01-16 08:42:14,619 : INFO : worker thread finished; awaiting finish of 7 more threads\n",
            "2022-01-16 08:42:14,619 : INFO : worker thread finished; awaiting finish of 6 more threads\n",
            "2022-01-16 08:42:14,623 : INFO : worker thread finished; awaiting finish of 5 more threads\n",
            "2022-01-16 08:42:14,628 : INFO : worker thread finished; awaiting finish of 4 more threads\n",
            "2022-01-16 08:42:14,628 : INFO : worker thread finished; awaiting finish of 3 more threads\n",
            "2022-01-16 08:42:14,632 : INFO : worker thread finished; awaiting finish of 2 more threads\n",
            "2022-01-16 08:42:14,636 : INFO : worker thread finished; awaiting finish of 1 more threads\n",
            "2022-01-16 08:42:14,641 : INFO : worker thread finished; awaiting finish of 0 more threads\n",
            "2022-01-16 08:42:14,642 : INFO : EPOCH - 4 : training on 9227204 raw words (8222577 effective words) took 4.6s, 1786567 effective words/s\n",
            "2022-01-16 08:42:15,663 : INFO : EPOCH 5 - PROGRESS: at 19.94% examples, 1634004 words/s, in_qsize 16, out_qsize 2\n",
            "2022-01-16 08:42:16,675 : INFO : EPOCH 5 - PROGRESS: at 36.29% examples, 1481537 words/s, in_qsize 15, out_qsize 0\n",
            "2022-01-16 08:42:17,690 : INFO : EPOCH 5 - PROGRESS: at 55.86% examples, 1517318 words/s, in_qsize 15, out_qsize 0\n",
            "2022-01-16 08:42:18,690 : INFO : EPOCH 5 - PROGRESS: at 75.67% examples, 1544744 words/s, in_qsize 15, out_qsize 0\n",
            "2022-01-16 08:42:19,694 : INFO : EPOCH 5 - PROGRESS: at 95.55% examples, 1560993 words/s, in_qsize 15, out_qsize 0\n",
            "2022-01-16 08:42:19,873 : INFO : worker thread finished; awaiting finish of 7 more threads\n",
            "2022-01-16 08:42:19,877 : INFO : worker thread finished; awaiting finish of 6 more threads\n",
            "2022-01-16 08:42:19,877 : INFO : worker thread finished; awaiting finish of 5 more threads\n",
            "2022-01-16 08:42:19,885 : INFO : worker thread finished; awaiting finish of 4 more threads\n",
            "2022-01-16 08:42:19,886 : INFO : worker thread finished; awaiting finish of 3 more threads\n",
            "2022-01-16 08:42:19,887 : INFO : worker thread finished; awaiting finish of 2 more threads\n",
            "2022-01-16 08:42:19,895 : INFO : worker thread finished; awaiting finish of 1 more threads\n",
            "2022-01-16 08:42:19,899 : INFO : worker thread finished; awaiting finish of 0 more threads\n",
            "2022-01-16 08:42:19,899 : INFO : EPOCH - 5 : training on 9227204 raw words (8222559 effective words) took 5.2s, 1569406 effective words/s\n",
            "2022-01-16 08:42:20,928 : INFO : EPOCH 6 - PROGRESS: at 19.30% examples, 1577346 words/s, in_qsize 16, out_qsize 0\n",
            "2022-01-16 08:42:21,932 : INFO : EPOCH 6 - PROGRESS: at 39.00% examples, 1597052 words/s, in_qsize 13, out_qsize 2\n",
            "2022-01-16 08:42:22,936 : INFO : EPOCH 6 - PROGRESS: at 58.36% examples, 1594697 words/s, in_qsize 16, out_qsize 2\n",
            "2022-01-16 08:42:23,936 : INFO : EPOCH 6 - PROGRESS: at 78.29% examples, 1604682 words/s, in_qsize 13, out_qsize 2\n",
            "2022-01-16 08:42:24,940 : INFO : EPOCH 6 - PROGRESS: at 98.36% examples, 1611678 words/s, in_qsize 15, out_qsize 0\n",
            "2022-01-16 08:42:24,982 : INFO : worker thread finished; awaiting finish of 7 more threads\n",
            "2022-01-16 08:42:24,986 : INFO : worker thread finished; awaiting finish of 6 more threads\n",
            "2022-01-16 08:42:24,990 : INFO : worker thread finished; awaiting finish of 5 more threads\n",
            "2022-01-16 08:42:24,990 : INFO : worker thread finished; awaiting finish of 4 more threads\n",
            "2022-01-16 08:42:24,994 : INFO : worker thread finished; awaiting finish of 3 more threads\n",
            "2022-01-16 08:42:24,998 : INFO : worker thread finished; awaiting finish of 2 more threads\n",
            "2022-01-16 08:42:25,008 : INFO : worker thread finished; awaiting finish of 1 more threads\n",
            "2022-01-16 08:42:25,008 : INFO : worker thread finished; awaiting finish of 0 more threads\n",
            "2022-01-16 08:42:25,009 : INFO : EPOCH - 6 : training on 9227204 raw words (8221714 effective words) took 5.1s, 1617189 effective words/s\n",
            "2022-01-16 08:42:26,024 : INFO : EPOCH 7 - PROGRESS: at 19.08% examples, 1559713 words/s, in_qsize 14, out_qsize 1\n",
            "2022-01-16 08:42:27,044 : INFO : EPOCH 7 - PROGRESS: at 39.00% examples, 1583748 words/s, in_qsize 15, out_qsize 0\n",
            "2022-01-16 08:42:28,046 : INFO : EPOCH 7 - PROGRESS: at 59.01% examples, 1604005 words/s, in_qsize 15, out_qsize 0\n",
            "2022-01-16 08:42:29,050 : INFO : EPOCH 7 - PROGRESS: at 78.40% examples, 1600424 words/s, in_qsize 15, out_qsize 0\n",
            "2022-01-16 08:42:30,053 : INFO : EPOCH 7 - PROGRESS: at 98.47% examples, 1608422 words/s, in_qsize 15, out_qsize 0\n",
            "2022-01-16 08:42:30,091 : INFO : worker thread finished; awaiting finish of 7 more threads\n",
            "2022-01-16 08:42:30,093 : INFO : worker thread finished; awaiting finish of 6 more threads\n",
            "2022-01-16 08:42:30,093 : INFO : worker thread finished; awaiting finish of 5 more threads\n",
            "2022-01-16 08:42:30,095 : INFO : worker thread finished; awaiting finish of 4 more threads\n",
            "2022-01-16 08:42:30,103 : INFO : worker thread finished; awaiting finish of 3 more threads\n",
            "2022-01-16 08:42:30,107 : INFO : worker thread finished; awaiting finish of 2 more threads\n",
            "2022-01-16 08:42:30,107 : INFO : worker thread finished; awaiting finish of 1 more threads\n",
            "2022-01-16 08:42:30,111 : INFO : worker thread finished; awaiting finish of 0 more threads\n",
            "2022-01-16 08:42:30,111 : INFO : EPOCH - 7 : training on 9227204 raw words (8222894 effective words) took 5.1s, 1614771 effective words/s\n",
            "2022-01-16 08:42:31,147 : INFO : EPOCH 8 - PROGRESS: at 19.40% examples, 1573316 words/s, in_qsize 15, out_qsize 0\n",
            "2022-01-16 08:42:32,145 : INFO : EPOCH 8 - PROGRESS: at 39.22% examples, 1600471 words/s, in_qsize 15, out_qsize 0\n",
            "2022-01-16 08:42:33,153 : INFO : EPOCH 8 - PROGRESS: at 58.90% examples, 1603342 words/s, in_qsize 15, out_qsize 0\n",
            "2022-01-16 08:42:34,155 : INFO : EPOCH 8 - PROGRESS: at 78.62% examples, 1607027 words/s, in_qsize 14, out_qsize 1\n",
            "2022-01-16 08:42:35,163 : INFO : EPOCH 8 - PROGRESS: at 98.47% examples, 1608930 words/s, in_qsize 13, out_qsize 2\n",
            "2022-01-16 08:42:35,195 : INFO : worker thread finished; awaiting finish of 7 more threads\n",
            "2022-01-16 08:42:35,199 : INFO : worker thread finished; awaiting finish of 6 more threads\n",
            "2022-01-16 08:42:35,203 : INFO : worker thread finished; awaiting finish of 5 more threads\n",
            "2022-01-16 08:42:35,203 : INFO : worker thread finished; awaiting finish of 4 more threads\n",
            "2022-01-16 08:42:35,211 : INFO : worker thread finished; awaiting finish of 3 more threads\n",
            "2022-01-16 08:42:35,214 : INFO : worker thread finished; awaiting finish of 2 more threads\n",
            "2022-01-16 08:42:35,218 : INFO : worker thread finished; awaiting finish of 1 more threads\n",
            "2022-01-16 08:42:35,220 : INFO : worker thread finished; awaiting finish of 0 more threads\n",
            "2022-01-16 08:42:35,220 : INFO : EPOCH - 8 : training on 9227204 raw words (8223034 effective words) took 5.1s, 1616178 effective words/s\n",
            "2022-01-16 08:42:36,270 : INFO : EPOCH 9 - PROGRESS: at 19.62% examples, 1605885 words/s, in_qsize 15, out_qsize 0\n",
            "2022-01-16 08:42:37,278 : INFO : EPOCH 9 - PROGRESS: at 39.54% examples, 1616625 words/s, in_qsize 16, out_qsize 0\n",
            "2022-01-16 08:42:38,282 : INFO : EPOCH 9 - PROGRESS: at 58.90% examples, 1607875 words/s, in_qsize 14, out_qsize 1\n",
            "2022-01-16 08:42:39,282 : INFO : EPOCH 9 - PROGRESS: at 78.62% examples, 1610176 words/s, in_qsize 14, out_qsize 1\n",
            "2022-01-16 08:42:40,290 : INFO : EPOCH 9 - PROGRESS: at 99.12% examples, 1622288 words/s, in_qsize 9, out_qsize 0\n",
            "2022-01-16 08:42:40,299 : INFO : worker thread finished; awaiting finish of 7 more threads\n",
            "2022-01-16 08:42:40,301 : INFO : worker thread finished; awaiting finish of 6 more threads\n",
            "2022-01-16 08:42:40,302 : INFO : worker thread finished; awaiting finish of 5 more threads\n",
            "2022-01-16 08:42:40,307 : INFO : worker thread finished; awaiting finish of 4 more threads\n",
            "2022-01-16 08:42:40,311 : INFO : worker thread finished; awaiting finish of 3 more threads\n",
            "2022-01-16 08:42:40,319 : INFO : worker thread finished; awaiting finish of 2 more threads\n",
            "2022-01-16 08:42:40,319 : INFO : worker thread finished; awaiting finish of 1 more threads\n",
            "2022-01-16 08:42:40,319 : INFO : worker thread finished; awaiting finish of 0 more threads\n",
            "2022-01-16 08:42:40,319 : INFO : EPOCH - 9 : training on 9227204 raw words (8220729 effective words) took 5.1s, 1626255 effective words/s\n",
            "2022-01-16 08:42:41,341 : INFO : EPOCH 10 - PROGRESS: at 19.30% examples, 1574863 words/s, in_qsize 15, out_qsize 0\n",
            "2022-01-16 08:42:42,349 : INFO : EPOCH 10 - PROGRESS: at 39.33% examples, 1604084 words/s, in_qsize 15, out_qsize 0\n",
            "2022-01-16 08:42:43,357 : INFO : EPOCH 10 - PROGRESS: at 58.90% examples, 1601453 words/s, in_qsize 15, out_qsize 0\n",
            "2022-01-16 08:42:44,361 : INFO : EPOCH 10 - PROGRESS: at 78.62% examples, 1605721 words/s, in_qsize 15, out_qsize 0\n",
            "2022-01-16 08:42:45,369 : INFO : EPOCH 10 - PROGRESS: at 98.47% examples, 1607170 words/s, in_qsize 15, out_qsize 0\n",
            "2022-01-16 08:42:45,407 : INFO : worker thread finished; awaiting finish of 7 more threads\n",
            "2022-01-16 08:42:45,407 : INFO : worker thread finished; awaiting finish of 6 more threads\n",
            "2022-01-16 08:42:45,411 : INFO : worker thread finished; awaiting finish of 5 more threads\n",
            "2022-01-16 08:42:45,415 : INFO : worker thread finished; awaiting finish of 4 more threads\n",
            "2022-01-16 08:42:45,415 : INFO : worker thread finished; awaiting finish of 3 more threads\n",
            "2022-01-16 08:42:45,424 : INFO : worker thread finished; awaiting finish of 2 more threads\n",
            "2022-01-16 08:42:45,426 : INFO : worker thread finished; awaiting finish of 1 more threads\n",
            "2022-01-16 08:42:45,428 : INFO : worker thread finished; awaiting finish of 0 more threads\n",
            "2022-01-16 08:42:45,428 : INFO : EPOCH - 10 : training on 9227204 raw words (8222816 effective words) took 5.1s, 1613641 effective words/s\n",
            "2022-01-16 08:42:46,456 : INFO : EPOCH 11 - PROGRESS: at 19.40% examples, 1588323 words/s, in_qsize 15, out_qsize 0\n",
            "2022-01-16 08:42:47,456 : INFO : EPOCH 11 - PROGRESS: at 39.00% examples, 1599858 words/s, in_qsize 15, out_qsize 0\n",
            "2022-01-16 08:42:48,463 : INFO : EPOCH 11 - PROGRESS: at 59.01% examples, 1614123 words/s, in_qsize 14, out_qsize 1\n",
            "2022-01-16 08:42:49,474 : INFO : EPOCH 11 - PROGRESS: at 78.95% examples, 1615949 words/s, in_qsize 15, out_qsize 0\n",
            "2022-01-16 08:42:50,482 : INFO : EPOCH 11 - PROGRESS: at 99.12% examples, 1621268 words/s, in_qsize 9, out_qsize 0\n",
            "2022-01-16 08:42:50,482 : INFO : worker thread finished; awaiting finish of 7 more threads\n",
            "2022-01-16 08:42:50,486 : INFO : worker thread finished; awaiting finish of 6 more threads\n",
            "2022-01-16 08:42:50,486 : INFO : worker thread finished; awaiting finish of 5 more threads\n",
            "2022-01-16 08:42:50,493 : INFO : worker thread finished; awaiting finish of 4 more threads\n",
            "2022-01-16 08:42:50,495 : INFO : worker thread finished; awaiting finish of 3 more threads\n",
            "2022-01-16 08:42:50,495 : INFO : worker thread finished; awaiting finish of 2 more threads\n",
            "2022-01-16 08:42:50,499 : INFO : worker thread finished; awaiting finish of 1 more threads\n",
            "2022-01-16 08:42:50,511 : INFO : worker thread finished; awaiting finish of 0 more threads\n",
            "2022-01-16 08:42:50,512 : INFO : EPOCH - 11 : training on 9227204 raw words (8222853 effective words) took 5.1s, 1626064 effective words/s\n",
            "2022-01-16 08:42:51,528 : INFO : EPOCH 12 - PROGRESS: at 19.30% examples, 1584519 words/s, in_qsize 15, out_qsize 0\n",
            "2022-01-16 08:42:52,532 : INFO : EPOCH 12 - PROGRESS: at 39.11% examples, 1606260 words/s, in_qsize 15, out_qsize 0\n",
            "2022-01-16 08:42:53,532 : INFO : EPOCH 12 - PROGRESS: at 59.23% examples, 1623039 words/s, in_qsize 14, out_qsize 1\n",
            "2022-01-16 08:42:54,540 : INFO : EPOCH 12 - PROGRESS: at 79.16% examples, 1623858 words/s, in_qsize 15, out_qsize 0\n",
            "2022-01-16 08:42:55,545 : INFO : EPOCH 12 - PROGRESS: at 99.12% examples, 1625520 words/s, in_qsize 9, out_qsize 0\n",
            "2022-01-16 08:42:55,552 : INFO : worker thread finished; awaiting finish of 7 more threads\n",
            "2022-01-16 08:42:55,553 : INFO : worker thread finished; awaiting finish of 6 more threads\n",
            "2022-01-16 08:42:55,553 : INFO : worker thread finished; awaiting finish of 5 more threads\n",
            "2022-01-16 08:42:55,566 : INFO : worker thread finished; awaiting finish of 4 more threads\n",
            "2022-01-16 08:42:55,566 : INFO : worker thread finished; awaiting finish of 3 more threads\n",
            "2022-01-16 08:42:55,570 : INFO : worker thread finished; awaiting finish of 2 more threads\n",
            "2022-01-16 08:42:55,574 : INFO : worker thread finished; awaiting finish of 1 more threads\n",
            "2022-01-16 08:42:55,574 : INFO : worker thread finished; awaiting finish of 0 more threads\n",
            "2022-01-16 08:42:55,578 : INFO : EPOCH - 12 : training on 9227204 raw words (8222396 effective words) took 5.0s, 1629353 effective words/s\n",
            "2022-01-16 08:42:56,603 : INFO : EPOCH 13 - PROGRESS: at 19.51% examples, 1595026 words/s, in_qsize 15, out_qsize 0\n",
            "2022-01-16 08:42:57,622 : INFO : EPOCH 13 - PROGRESS: at 39.32% examples, 1595911 words/s, in_qsize 15, out_qsize 0\n",
            "2022-01-16 08:42:58,623 : INFO : EPOCH 13 - PROGRESS: at 58.90% examples, 1601147 words/s, in_qsize 14, out_qsize 1\n",
            "2022-01-16 08:42:59,635 : INFO : EPOCH 13 - PROGRESS: at 78.95% examples, 1608722 words/s, in_qsize 15, out_qsize 0\n",
            "2022-01-16 08:43:00,643 : INFO : EPOCH 13 - PROGRESS: at 97.82% examples, 1594559 words/s, in_qsize 15, out_qsize 0\n",
            "2022-01-16 08:43:00,698 : INFO : worker thread finished; awaiting finish of 7 more threads\n",
            "2022-01-16 08:43:00,706 : INFO : worker thread finished; awaiting finish of 6 more threads\n",
            "2022-01-16 08:43:00,714 : INFO : worker thread finished; awaiting finish of 5 more threads\n",
            "2022-01-16 08:43:00,718 : INFO : worker thread finished; awaiting finish of 4 more threads\n",
            "2022-01-16 08:43:00,719 : INFO : worker thread finished; awaiting finish of 3 more threads\n",
            "2022-01-16 08:43:00,724 : INFO : worker thread finished; awaiting finish of 2 more threads\n",
            "2022-01-16 08:43:00,728 : INFO : worker thread finished; awaiting finish of 1 more threads\n",
            "2022-01-16 08:43:00,736 : INFO : worker thread finished; awaiting finish of 0 more threads\n",
            "2022-01-16 08:43:00,736 : INFO : EPOCH - 13 : training on 9227204 raw words (8222848 effective words) took 5.1s, 1600295 effective words/s\n",
            "2022-01-16 08:43:01,768 : INFO : EPOCH 14 - PROGRESS: at 17.35% examples, 1416350 words/s, in_qsize 15, out_qsize 0\n",
            "2022-01-16 08:43:02,766 : INFO : EPOCH 14 - PROGRESS: at 33.37% examples, 1366767 words/s, in_qsize 14, out_qsize 1\n",
            "2022-01-16 08:43:03,769 : INFO : EPOCH 14 - PROGRESS: at 51.96% examples, 1420674 words/s, in_qsize 15, out_qsize 0\n",
            "2022-01-16 08:43:04,781 : INFO : EPOCH 14 - PROGRESS: at 70.05% examples, 1432992 words/s, in_qsize 14, out_qsize 1\n",
            "2022-01-16 08:43:05,807 : INFO : EPOCH 14 - PROGRESS: at 89.13% examples, 1452526 words/s, in_qsize 15, out_qsize 0\n",
            "2022-01-16 08:43:06,303 : INFO : worker thread finished; awaiting finish of 7 more threads\n",
            "2022-01-16 08:43:06,307 : INFO : worker thread finished; awaiting finish of 6 more threads\n",
            "2022-01-16 08:43:06,312 : INFO : worker thread finished; awaiting finish of 5 more threads\n",
            "2022-01-16 08:43:06,315 : INFO : worker thread finished; awaiting finish of 4 more threads\n",
            "2022-01-16 08:43:06,316 : INFO : worker thread finished; awaiting finish of 3 more threads\n",
            "2022-01-16 08:43:06,320 : INFO : worker thread finished; awaiting finish of 2 more threads\n",
            "2022-01-16 08:43:06,320 : INFO : worker thread finished; awaiting finish of 1 more threads\n",
            "2022-01-16 08:43:06,328 : INFO : worker thread finished; awaiting finish of 0 more threads\n",
            "2022-01-16 08:43:06,328 : INFO : EPOCH - 14 : training on 9227204 raw words (8222168 effective words) took 5.6s, 1476909 effective words/s\n",
            "2022-01-16 08:43:07,357 : INFO : EPOCH 15 - PROGRESS: at 18.32% examples, 1488503 words/s, in_qsize 15, out_qsize 0\n",
            "2022-01-16 08:43:08,361 : INFO : EPOCH 15 - PROGRESS: at 34.13% examples, 1392811 words/s, in_qsize 15, out_qsize 0\n",
            "2022-01-16 08:43:09,361 : INFO : EPOCH 15 - PROGRESS: at 52.07% examples, 1420376 words/s, in_qsize 14, out_qsize 1\n",
            "2022-01-16 08:43:10,365 : INFO : EPOCH 15 - PROGRESS: at 70.70% examples, 1447641 words/s, in_qsize 15, out_qsize 0\n",
            "2022-01-16 08:43:11,377 : INFO : EPOCH 15 - PROGRESS: at 87.40% examples, 1429170 words/s, in_qsize 15, out_qsize 0\n",
            "2022-01-16 08:43:12,274 : INFO : worker thread finished; awaiting finish of 7 more threads\n",
            "2022-01-16 08:43:12,274 : INFO : worker thread finished; awaiting finish of 6 more threads\n",
            "2022-01-16 08:43:12,282 : INFO : worker thread finished; awaiting finish of 5 more threads\n",
            "2022-01-16 08:43:12,282 : INFO : worker thread finished; awaiting finish of 4 more threads\n",
            "2022-01-16 08:43:12,286 : INFO : worker thread finished; awaiting finish of 3 more threads\n",
            "2022-01-16 08:43:12,294 : INFO : worker thread finished; awaiting finish of 2 more threads\n",
            "2022-01-16 08:43:12,298 : INFO : worker thread finished; awaiting finish of 1 more threads\n",
            "2022-01-16 08:43:12,302 : INFO : worker thread finished; awaiting finish of 0 more threads\n",
            "2022-01-16 08:43:12,302 : INFO : EPOCH - 15 : training on 9227204 raw words (8222821 effective words) took 6.0s, 1380296 effective words/s\n",
            "2022-01-16 08:43:13,337 : INFO : EPOCH 16 - PROGRESS: at 18.54% examples, 1500212 words/s, in_qsize 15, out_qsize 0\n",
            "2022-01-16 08:43:14,348 : INFO : EPOCH 16 - PROGRESS: at 38.35% examples, 1558000 words/s, in_qsize 14, out_qsize 1\n",
            "2022-01-16 08:43:15,355 : INFO : EPOCH 16 - PROGRESS: at 58.36% examples, 1582613 words/s, in_qsize 14, out_qsize 1\n",
            "2022-01-16 08:43:16,360 : INFO : EPOCH 16 - PROGRESS: at 78.07% examples, 1590667 words/s, in_qsize 16, out_qsize 1\n",
            "2022-01-16 08:43:17,372 : INFO : EPOCH 16 - PROGRESS: at 96.53% examples, 1570996 words/s, in_qsize 15, out_qsize 0\n",
            "2022-01-16 08:43:17,496 : INFO : worker thread finished; awaiting finish of 7 more threads\n",
            "2022-01-16 08:43:17,500 : INFO : worker thread finished; awaiting finish of 6 more threads\n",
            "2022-01-16 08:43:17,500 : INFO : worker thread finished; awaiting finish of 5 more threads\n",
            "2022-01-16 08:43:17,500 : INFO : worker thread finished; awaiting finish of 4 more threads\n",
            "2022-01-16 08:43:17,504 : INFO : worker thread finished; awaiting finish of 3 more threads\n",
            "2022-01-16 08:43:17,512 : INFO : worker thread finished; awaiting finish of 2 more threads\n",
            "2022-01-16 08:43:17,516 : INFO : worker thread finished; awaiting finish of 1 more threads\n",
            "2022-01-16 08:43:17,520 : INFO : worker thread finished; awaiting finish of 0 more threads\n",
            "2022-01-16 08:43:17,520 : INFO : EPOCH - 16 : training on 9227204 raw words (8221733 effective words) took 5.2s, 1581471 effective words/s\n",
            "2022-01-16 08:43:18,546 : INFO : EPOCH 17 - PROGRESS: at 18.76% examples, 1537763 words/s, in_qsize 15, out_qsize 0\n",
            "2022-01-16 08:43:19,550 : INFO : EPOCH 17 - PROGRESS: at 36.07% examples, 1476438 words/s, in_qsize 14, out_qsize 1\n",
            "2022-01-16 08:43:20,567 : INFO : EPOCH 17 - PROGRESS: at 53.81% examples, 1464065 words/s, in_qsize 15, out_qsize 0\n",
            "2022-01-16 08:43:21,570 : INFO : EPOCH 17 - PROGRESS: at 72.64% examples, 1484107 words/s, in_qsize 15, out_qsize 0\n",
            "2022-01-16 08:43:22,576 : INFO : EPOCH 17 - PROGRESS: at 90.43% examples, 1477927 words/s, in_qsize 16, out_qsize 1\n",
            "2022-01-16 08:43:23,065 : INFO : worker thread finished; awaiting finish of 7 more threads\n",
            "2022-01-16 08:43:23,069 : INFO : worker thread finished; awaiting finish of 6 more threads\n",
            "2022-01-16 08:43:23,076 : INFO : worker thread finished; awaiting finish of 5 more threads\n",
            "2022-01-16 08:43:23,079 : INFO : worker thread finished; awaiting finish of 4 more threads\n",
            "2022-01-16 08:43:23,079 : INFO : worker thread finished; awaiting finish of 3 more threads\n",
            "2022-01-16 08:43:23,083 : INFO : worker thread finished; awaiting finish of 2 more threads\n",
            "2022-01-16 08:43:23,091 : INFO : worker thread finished; awaiting finish of 1 more threads\n",
            "2022-01-16 08:43:23,091 : INFO : worker thread finished; awaiting finish of 0 more threads\n",
            "2022-01-16 08:43:23,091 : INFO : EPOCH - 17 : training on 9227204 raw words (8222547 effective words) took 5.6s, 1481392 effective words/s\n",
            "2022-01-16 08:43:24,131 : INFO : EPOCH 18 - PROGRESS: at 16.48% examples, 1349179 words/s, in_qsize 15, out_qsize 0\n",
            "2022-01-16 08:43:25,136 : INFO : EPOCH 18 - PROGRESS: at 34.24% examples, 1399913 words/s, in_qsize 15, out_qsize 0\n",
            "2022-01-16 08:43:26,141 : INFO : EPOCH 18 - PROGRESS: at 53.70% examples, 1466431 words/s, in_qsize 16, out_qsize 2\n",
            "2022-01-16 08:43:27,143 : INFO : EPOCH 18 - PROGRESS: at 73.73% examples, 1510730 words/s, in_qsize 14, out_qsize 1\n",
            "2022-01-16 08:43:28,146 : INFO : EPOCH 18 - PROGRESS: at 93.15% examples, 1526042 words/s, in_qsize 14, out_qsize 1\n",
            "2022-01-16 08:43:28,445 : INFO : worker thread finished; awaiting finish of 7 more threads\n",
            "2022-01-16 08:43:28,447 : INFO : worker thread finished; awaiting finish of 6 more threads\n",
            "2022-01-16 08:43:28,451 : INFO : worker thread finished; awaiting finish of 5 more threads\n",
            "2022-01-16 08:43:28,456 : INFO : worker thread finished; awaiting finish of 4 more threads\n",
            "2022-01-16 08:43:28,457 : INFO : worker thread finished; awaiting finish of 3 more threads\n",
            "2022-01-16 08:43:28,461 : INFO : worker thread finished; awaiting finish of 2 more threads\n",
            "2022-01-16 08:43:28,470 : INFO : worker thread finished; awaiting finish of 1 more threads\n",
            "2022-01-16 08:43:28,473 : INFO : worker thread finished; awaiting finish of 0 more threads\n",
            "2022-01-16 08:43:28,474 : INFO : EPOCH - 18 : training on 9227204 raw words (8222780 effective words) took 5.3s, 1538407 effective words/s\n",
            "2022-01-16 08:43:29,489 : INFO : EPOCH 19 - PROGRESS: at 19.62% examples, 1610250 words/s, in_qsize 15, out_qsize 0\n",
            "2022-01-16 08:43:30,497 : INFO : EPOCH 19 - PROGRESS: at 39.86% examples, 1629892 words/s, in_qsize 15, out_qsize 0\n",
            "2022-01-16 08:43:31,501 : INFO : EPOCH 19 - PROGRESS: at 59.98% examples, 1638160 words/s, in_qsize 15, out_qsize 0\n",
            "2022-01-16 08:43:32,500 : INFO : EPOCH 19 - PROGRESS: at 80.25% examples, 1644554 words/s, in_qsize 15, out_qsize 0\n",
            "2022-01-16 08:43:33,442 : INFO : worker thread finished; awaiting finish of 7 more threads\n",
            "2022-01-16 08:43:33,446 : INFO : worker thread finished; awaiting finish of 6 more threads\n",
            "2022-01-16 08:43:33,446 : INFO : worker thread finished; awaiting finish of 5 more threads\n",
            "2022-01-16 08:43:33,446 : INFO : worker thread finished; awaiting finish of 4 more threads\n",
            "2022-01-16 08:43:33,454 : INFO : worker thread finished; awaiting finish of 3 more threads\n",
            "2022-01-16 08:43:33,458 : INFO : worker thread finished; awaiting finish of 2 more threads\n",
            "2022-01-16 08:43:33,466 : INFO : worker thread finished; awaiting finish of 1 more threads\n",
            "2022-01-16 08:43:33,466 : INFO : worker thread finished; awaiting finish of 0 more threads\n",
            "2022-01-16 08:43:33,466 : INFO : EPOCH - 19 : training on 9227204 raw words (8222616 effective words) took 5.0s, 1650911 effective words/s\n",
            "2022-01-16 08:43:34,499 : INFO : EPOCH 20 - PROGRESS: at 19.84% examples, 1623717 words/s, in_qsize 15, out_qsize 0\n",
            "2022-01-16 08:43:35,503 : INFO : EPOCH 20 - PROGRESS: at 40.08% examples, 1642306 words/s, in_qsize 15, out_qsize 0\n",
            "2022-01-16 08:43:36,508 : INFO : EPOCH 20 - PROGRESS: at 59.87% examples, 1635804 words/s, in_qsize 14, out_qsize 1\n",
            "2022-01-16 08:43:37,512 : INFO : EPOCH 20 - PROGRESS: at 80.03% examples, 1638775 words/s, in_qsize 16, out_qsize 0\n",
            "2022-01-16 08:43:38,443 : INFO : worker thread finished; awaiting finish of 7 more threads\n",
            "2022-01-16 08:43:38,447 : INFO : worker thread finished; awaiting finish of 6 more threads\n",
            "2022-01-16 08:43:38,451 : INFO : worker thread finished; awaiting finish of 5 more threads\n",
            "2022-01-16 08:43:38,455 : INFO : worker thread finished; awaiting finish of 4 more threads\n",
            "2022-01-16 08:43:38,459 : INFO : worker thread finished; awaiting finish of 3 more threads\n",
            "2022-01-16 08:43:38,463 : INFO : worker thread finished; awaiting finish of 2 more threads\n",
            "2022-01-16 08:43:38,467 : INFO : worker thread finished; awaiting finish of 1 more threads\n",
            "2022-01-16 08:43:38,467 : INFO : worker thread finished; awaiting finish of 0 more threads\n",
            "2022-01-16 08:43:38,467 : INFO : EPOCH - 20 : training on 9227204 raw words (8222131 effective words) took 5.0s, 1653477 effective words/s\n",
            "2022-01-16 08:43:39,503 : INFO : EPOCH 21 - PROGRESS: at 20.05% examples, 1647496 words/s, in_qsize 16, out_qsize 0\n",
            "2022-01-16 08:43:40,524 : INFO : EPOCH 21 - PROGRESS: at 40.29% examples, 1640583 words/s, in_qsize 15, out_qsize 0\n",
            "2022-01-16 08:43:41,528 : INFO : EPOCH 21 - PROGRESS: at 60.41% examples, 1644706 words/s, in_qsize 16, out_qsize 0\n",
            "2022-01-16 08:43:42,527 : INFO : EPOCH 21 - PROGRESS: at 80.36% examples, 1642240 words/s, in_qsize 13, out_qsize 2\n",
            "2022-01-16 08:43:43,459 : INFO : worker thread finished; awaiting finish of 7 more threads\n",
            "2022-01-16 08:43:43,467 : INFO : worker thread finished; awaiting finish of 6 more threads\n",
            "2022-01-16 08:43:43,468 : INFO : worker thread finished; awaiting finish of 5 more threads\n",
            "2022-01-16 08:43:43,469 : INFO : worker thread finished; awaiting finish of 4 more threads\n",
            "2022-01-16 08:43:43,471 : INFO : worker thread finished; awaiting finish of 3 more threads\n",
            "2022-01-16 08:43:43,475 : INFO : worker thread finished; awaiting finish of 2 more threads\n",
            "2022-01-16 08:43:43,479 : INFO : worker thread finished; awaiting finish of 1 more threads\n",
            "2022-01-16 08:43:43,483 : INFO : worker thread finished; awaiting finish of 0 more threads\n",
            "2022-01-16 08:43:43,483 : INFO : EPOCH - 21 : training on 9227204 raw words (8222304 effective words) took 5.0s, 1651846 effective words/s\n",
            "2022-01-16 08:43:44,515 : INFO : EPOCH 22 - PROGRESS: at 19.94% examples, 1628437 words/s, in_qsize 15, out_qsize 0\n",
            "2022-01-16 08:43:45,520 : INFO : EPOCH 22 - PROGRESS: at 40.19% examples, 1643712 words/s, in_qsize 15, out_qsize 0\n",
            "2022-01-16 08:43:46,527 : INFO : EPOCH 22 - PROGRESS: at 60.30% examples, 1644271 words/s, in_qsize 16, out_qsize 0\n",
            "2022-01-16 08:43:47,525 : INFO : EPOCH 22 - PROGRESS: at 80.14% examples, 1640618 words/s, in_qsize 15, out_qsize 0\n",
            "2022-01-16 08:43:48,468 : INFO : worker thread finished; awaiting finish of 7 more threads\n",
            "2022-01-16 08:43:48,472 : INFO : worker thread finished; awaiting finish of 6 more threads\n",
            "2022-01-16 08:43:48,472 : INFO : worker thread finished; awaiting finish of 5 more threads\n",
            "2022-01-16 08:43:48,479 : INFO : worker thread finished; awaiting finish of 4 more threads\n",
            "2022-01-16 08:43:48,479 : INFO : worker thread finished; awaiting finish of 3 more threads\n",
            "2022-01-16 08:43:48,487 : INFO : worker thread finished; awaiting finish of 2 more threads\n",
            "2022-01-16 08:43:48,487 : INFO : worker thread finished; awaiting finish of 1 more threads\n",
            "2022-01-16 08:43:48,491 : INFO : worker thread finished; awaiting finish of 0 more threads\n",
            "2022-01-16 08:43:48,491 : INFO : EPOCH - 22 : training on 9227204 raw words (8223481 effective words) took 5.0s, 1649794 effective words/s\n",
            "2022-01-16 08:43:49,532 : INFO : EPOCH 23 - PROGRESS: at 19.73% examples, 1611475 words/s, in_qsize 14, out_qsize 1\n",
            "2022-01-16 08:43:50,543 : INFO : EPOCH 23 - PROGRESS: at 39.76% examples, 1621408 words/s, in_qsize 15, out_qsize 0\n",
            "2022-01-16 08:43:51,553 : INFO : EPOCH 23 - PROGRESS: at 60.09% examples, 1633826 words/s, in_qsize 14, out_qsize 1\n",
            "2022-01-16 08:43:52,556 : INFO : EPOCH 23 - PROGRESS: at 80.25% examples, 1638317 words/s, in_qsize 15, out_qsize 0\n",
            "2022-01-16 08:43:53,483 : INFO : worker thread finished; awaiting finish of 7 more threads\n",
            "2022-01-16 08:43:53,483 : INFO : worker thread finished; awaiting finish of 6 more threads\n",
            "2022-01-16 08:43:53,487 : INFO : worker thread finished; awaiting finish of 5 more threads\n",
            "2022-01-16 08:43:53,492 : INFO : worker thread finished; awaiting finish of 4 more threads\n",
            "2022-01-16 08:43:53,500 : INFO : worker thread finished; awaiting finish of 3 more threads\n",
            "2022-01-16 08:43:53,500 : INFO : worker thread finished; awaiting finish of 2 more threads\n",
            "2022-01-16 08:43:53,504 : INFO : worker thread finished; awaiting finish of 1 more threads\n",
            "2022-01-16 08:43:53,508 : INFO : worker thread finished; awaiting finish of 0 more threads\n",
            "2022-01-16 08:43:53,512 : INFO : EPOCH - 23 : training on 9227204 raw words (8223039 effective words) took 5.0s, 1649725 effective words/s\n",
            "2022-01-16 08:43:54,527 : INFO : EPOCH 24 - PROGRESS: at 19.62% examples, 1610786 words/s, in_qsize 15, out_qsize 0\n",
            "2022-01-16 08:43:55,537 : INFO : EPOCH 24 - PROGRESS: at 39.22% examples, 1602091 words/s, in_qsize 15, out_qsize 0\n",
            "2022-01-16 08:43:56,540 : INFO : EPOCH 24 - PROGRESS: at 59.44% examples, 1622022 words/s, in_qsize 14, out_qsize 1\n",
            "2022-01-16 08:43:57,547 : INFO : EPOCH 24 - PROGRESS: at 79.81% examples, 1633137 words/s, in_qsize 14, out_qsize 1\n",
            "2022-01-16 08:43:58,507 : INFO : worker thread finished; awaiting finish of 7 more threads\n",
            "2022-01-16 08:43:58,507 : INFO : worker thread finished; awaiting finish of 6 more threads\n",
            "2022-01-16 08:43:58,511 : INFO : worker thread finished; awaiting finish of 5 more threads\n",
            "2022-01-16 08:43:58,511 : INFO : worker thread finished; awaiting finish of 4 more threads\n",
            "2022-01-16 08:43:58,521 : INFO : worker thread finished; awaiting finish of 3 more threads\n",
            "2022-01-16 08:43:58,529 : INFO : worker thread finished; awaiting finish of 2 more threads\n",
            "2022-01-16 08:43:58,529 : INFO : worker thread finished; awaiting finish of 1 more threads\n",
            "2022-01-16 08:43:58,529 : INFO : worker thread finished; awaiting finish of 0 more threads\n",
            "2022-01-16 08:43:58,533 : INFO : EPOCH - 24 : training on 9227204 raw words (8223038 effective words) took 5.0s, 1642528 effective words/s\n",
            "2022-01-16 08:43:59,552 : INFO : EPOCH 25 - PROGRESS: at 19.29% examples, 1582687 words/s, in_qsize 13, out_qsize 2\n",
            "2022-01-16 08:44:00,569 : INFO : EPOCH 25 - PROGRESS: at 38.46% examples, 1567779 words/s, in_qsize 15, out_qsize 0\n",
            "2022-01-16 08:44:01,574 : INFO : EPOCH 25 - PROGRESS: at 56.40% examples, 1535790 words/s, in_qsize 14, out_qsize 1\n",
            "2022-01-16 08:44:02,587 : INFO : EPOCH 25 - PROGRESS: at 74.81% examples, 1525681 words/s, in_qsize 15, out_qsize 0\n",
            "2022-01-16 08:44:03,596 : INFO : EPOCH 25 - PROGRESS: at 95.12% examples, 1549693 words/s, in_qsize 14, out_qsize 1\n",
            "2022-01-16 08:44:03,789 : INFO : worker thread finished; awaiting finish of 7 more threads\n",
            "2022-01-16 08:44:03,793 : INFO : worker thread finished; awaiting finish of 6 more threads\n",
            "2022-01-16 08:44:03,802 : INFO : worker thread finished; awaiting finish of 5 more threads\n",
            "2022-01-16 08:44:03,804 : INFO : worker thread finished; awaiting finish of 4 more threads\n",
            "2022-01-16 08:44:03,808 : INFO : worker thread finished; awaiting finish of 3 more threads\n",
            "2022-01-16 08:44:03,808 : INFO : worker thread finished; awaiting finish of 2 more threads\n",
            "2022-01-16 08:44:03,812 : INFO : worker thread finished; awaiting finish of 1 more threads\n",
            "2022-01-16 08:44:03,816 : INFO : worker thread finished; awaiting finish of 0 more threads\n",
            "2022-01-16 08:44:03,816 : INFO : EPOCH - 25 : training on 9227204 raw words (8223605 effective words) took 5.3s, 1561262 effective words/s\n",
            "2022-01-16 08:44:04,850 : INFO : EPOCH 26 - PROGRESS: at 19.19% examples, 1564705 words/s, in_qsize 14, out_qsize 1\n",
            "2022-01-16 08:44:05,861 : INFO : EPOCH 26 - PROGRESS: at 39.32% examples, 1603069 words/s, in_qsize 13, out_qsize 2\n",
            "2022-01-16 08:44:06,862 : INFO : EPOCH 26 - PROGRESS: at 59.44% examples, 1620311 words/s, in_qsize 15, out_qsize 0\n",
            "2022-01-16 08:44:07,864 : INFO : EPOCH 26 - PROGRESS: at 79.27% examples, 1621584 words/s, in_qsize 16, out_qsize 0\n",
            "2022-01-16 08:44:08,846 : INFO : worker thread finished; awaiting finish of 7 more threads\n",
            "2022-01-16 08:44:08,850 : INFO : worker thread finished; awaiting finish of 6 more threads\n",
            "2022-01-16 08:44:08,855 : INFO : worker thread finished; awaiting finish of 5 more threads\n",
            "2022-01-16 08:44:08,856 : INFO : worker thread finished; awaiting finish of 4 more threads\n",
            "2022-01-16 08:44:08,863 : INFO : EPOCH 26 - PROGRESS: at 99.67% examples, 1632242 words/s, in_qsize 3, out_qsize 1\n",
            "2022-01-16 08:44:08,863 : INFO : worker thread finished; awaiting finish of 3 more threads\n",
            "2022-01-16 08:44:08,867 : INFO : worker thread finished; awaiting finish of 2 more threads\n",
            "2022-01-16 08:44:08,871 : INFO : worker thread finished; awaiting finish of 1 more threads\n",
            "2022-01-16 08:44:08,875 : INFO : worker thread finished; awaiting finish of 0 more threads\n",
            "2022-01-16 08:44:08,875 : INFO : EPOCH - 26 : training on 9227204 raw words (8222958 effective words) took 5.0s, 1633998 effective words/s\n",
            "2022-01-16 08:44:09,897 : INFO : EPOCH 27 - PROGRESS: at 19.73% examples, 1618311 words/s, in_qsize 15, out_qsize 0\n",
            "2022-01-16 08:44:10,908 : INFO : EPOCH 27 - PROGRESS: at 39.65% examples, 1619943 words/s, in_qsize 15, out_qsize 0\n",
            "2022-01-16 08:44:11,909 : INFO : EPOCH 27 - PROGRESS: at 59.76% examples, 1631136 words/s, in_qsize 15, out_qsize 0\n",
            "2022-01-16 08:44:12,914 : INFO : EPOCH 27 - PROGRESS: at 79.81% examples, 1633312 words/s, in_qsize 15, out_qsize 0\n",
            "2022-01-16 08:44:13,865 : INFO : worker thread finished; awaiting finish of 7 more threads\n",
            "2022-01-16 08:44:13,873 : INFO : worker thread finished; awaiting finish of 6 more threads\n",
            "2022-01-16 08:44:13,877 : INFO : worker thread finished; awaiting finish of 5 more threads\n",
            "2022-01-16 08:44:13,878 : INFO : worker thread finished; awaiting finish of 4 more threads\n",
            "2022-01-16 08:44:13,879 : INFO : worker thread finished; awaiting finish of 3 more threads\n",
            "2022-01-16 08:44:13,883 : INFO : worker thread finished; awaiting finish of 2 more threads\n",
            "2022-01-16 08:44:13,891 : INFO : worker thread finished; awaiting finish of 1 more threads\n",
            "2022-01-16 08:44:13,891 : INFO : worker thread finished; awaiting finish of 0 more threads\n",
            "2022-01-16 08:44:13,895 : INFO : EPOCH - 27 : training on 9227204 raw words (8222518 effective words) took 5.0s, 1645057 effective words/s\n",
            "2022-01-16 08:44:14,921 : INFO : EPOCH 28 - PROGRESS: at 19.73% examples, 1611577 words/s, in_qsize 14, out_qsize 1\n",
            "2022-01-16 08:44:15,924 : INFO : EPOCH 28 - PROGRESS: at 39.86% examples, 1633277 words/s, in_qsize 15, out_qsize 0\n",
            "2022-01-16 08:44:16,926 : INFO : EPOCH 28 - PROGRESS: at 59.66% examples, 1631901 words/s, in_qsize 14, out_qsize 1\n",
            "2022-01-16 08:44:17,929 : INFO : EPOCH 28 - PROGRESS: at 79.81% examples, 1636614 words/s, in_qsize 16, out_qsize 0\n",
            "2022-01-16 08:44:18,924 : INFO : worker thread finished; awaiting finish of 7 more threads\n",
            "2022-01-16 08:44:18,928 : INFO : EPOCH 28 - PROGRESS: at 99.34% examples, 1629766 words/s, in_qsize 6, out_qsize 1\n",
            "2022-01-16 08:44:18,928 : INFO : worker thread finished; awaiting finish of 6 more threads\n",
            "2022-01-16 08:44:18,935 : INFO : worker thread finished; awaiting finish of 5 more threads\n",
            "2022-01-16 08:44:18,938 : INFO : worker thread finished; awaiting finish of 4 more threads\n",
            "2022-01-16 08:44:18,938 : INFO : worker thread finished; awaiting finish of 3 more threads\n",
            "2022-01-16 08:44:18,942 : INFO : worker thread finished; awaiting finish of 2 more threads\n",
            "2022-01-16 08:44:18,946 : INFO : worker thread finished; awaiting finish of 1 more threads\n",
            "2022-01-16 08:44:18,950 : INFO : worker thread finished; awaiting finish of 0 more threads\n",
            "2022-01-16 08:44:18,950 : INFO : EPOCH - 28 : training on 9227204 raw words (8221976 effective words) took 5.0s, 1633925 effective words/s\n",
            "2022-01-16 08:44:19,966 : INFO : EPOCH 29 - PROGRESS: at 19.08% examples, 1566351 words/s, in_qsize 16, out_qsize 0\n",
            "2022-01-16 08:44:20,974 : INFO : EPOCH 29 - PROGRESS: at 39.11% examples, 1598560 words/s, in_qsize 14, out_qsize 1\n",
            "2022-01-16 08:44:21,981 : INFO : EPOCH 29 - PROGRESS: at 59.34% examples, 1618628 words/s, in_qsize 15, out_qsize 0\n",
            "2022-01-16 08:44:22,980 : INFO : EPOCH 29 - PROGRESS: at 79.27% examples, 1623322 words/s, in_qsize 16, out_qsize 0\n",
            "2022-01-16 08:44:23,982 : INFO : EPOCH 29 - PROGRESS: at 99.22% examples, 1625653 words/s, in_qsize 8, out_qsize 0\n",
            "2022-01-16 08:44:23,986 : INFO : worker thread finished; awaiting finish of 7 more threads\n",
            "2022-01-16 08:44:23,986 : INFO : worker thread finished; awaiting finish of 6 more threads\n",
            "2022-01-16 08:44:23,995 : INFO : worker thread finished; awaiting finish of 5 more threads\n",
            "2022-01-16 08:44:23,996 : INFO : worker thread finished; awaiting finish of 4 more threads\n",
            "2022-01-16 08:44:23,996 : INFO : worker thread finished; awaiting finish of 3 more threads\n",
            "2022-01-16 08:44:23,996 : INFO : worker thread finished; awaiting finish of 2 more threads\n",
            "2022-01-16 08:44:24,004 : INFO : worker thread finished; awaiting finish of 1 more threads\n",
            "2022-01-16 08:44:24,008 : INFO : worker thread finished; awaiting finish of 0 more threads\n",
            "2022-01-16 08:44:24,008 : INFO : EPOCH - 29 : training on 9227204 raw words (8221728 effective words) took 5.0s, 1630310 effective words/s\n",
            "2022-01-16 08:44:25,017 : INFO : EPOCH 30 - PROGRESS: at 19.40% examples, 1593515 words/s, in_qsize 15, out_qsize 0\n",
            "2022-01-16 08:44:26,019 : INFO : EPOCH 30 - PROGRESS: at 39.43% examples, 1619716 words/s, in_qsize 15, out_qsize 0\n",
            "2022-01-16 08:44:27,033 : INFO : EPOCH 30 - PROGRESS: at 59.23% examples, 1617395 words/s, in_qsize 15, out_qsize 0\n",
            "2022-01-16 08:44:28,042 : INFO : EPOCH 30 - PROGRESS: at 79.05% examples, 1615746 words/s, in_qsize 16, out_qsize 0\n",
            "2022-01-16 08:44:29,035 : INFO : worker thread finished; awaiting finish of 7 more threads\n",
            "2022-01-16 08:44:29,039 : INFO : worker thread finished; awaiting finish of 6 more threads\n",
            "2022-01-16 08:44:29,043 : INFO : worker thread finished; awaiting finish of 5 more threads\n",
            "2022-01-16 08:44:29,047 : INFO : EPOCH 30 - PROGRESS: at 99.56% examples, 1628387 words/s, in_qsize 4, out_qsize 1\n",
            "2022-01-16 08:44:29,048 : INFO : worker thread finished; awaiting finish of 4 more threads\n",
            "2022-01-16 08:44:29,049 : INFO : worker thread finished; awaiting finish of 3 more threads\n",
            "2022-01-16 08:44:29,054 : INFO : worker thread finished; awaiting finish of 2 more threads\n",
            "2022-01-16 08:44:29,054 : INFO : worker thread finished; awaiting finish of 1 more threads\n",
            "2022-01-16 08:44:29,062 : INFO : worker thread finished; awaiting finish of 0 more threads\n",
            "2022-01-16 08:44:29,062 : INFO : EPOCH - 30 : training on 9227204 raw words (8222405 effective words) took 5.0s, 1630237 effective words/s\n",
            "2022-01-16 08:44:30,090 : INFO : EPOCH 31 - PROGRESS: at 19.84% examples, 1617148 words/s, in_qsize 15, out_qsize 0\n",
            "2022-01-16 08:44:31,098 : INFO : EPOCH 31 - PROGRESS: at 40.08% examples, 1636794 words/s, in_qsize 15, out_qsize 0\n",
            "2022-01-16 08:44:32,105 : INFO : EPOCH 31 - PROGRESS: at 59.12% examples, 1609952 words/s, in_qsize 15, out_qsize 0\n",
            "2022-01-16 08:44:33,116 : INFO : EPOCH 31 - PROGRESS: at 79.27% examples, 1616519 words/s, in_qsize 14, out_qsize 1\n",
            "2022-01-16 08:44:34,097 : INFO : worker thread finished; awaiting finish of 7 more threads\n",
            "2022-01-16 08:44:34,101 : INFO : worker thread finished; awaiting finish of 6 more threads\n",
            "2022-01-16 08:44:34,101 : INFO : worker thread finished; awaiting finish of 5 more threads\n",
            "2022-01-16 08:44:34,105 : INFO : worker thread finished; awaiting finish of 4 more threads\n",
            "2022-01-16 08:44:34,112 : INFO : worker thread finished; awaiting finish of 3 more threads\n",
            "2022-01-16 08:44:34,116 : INFO : worker thread finished; awaiting finish of 2 more threads\n",
            "2022-01-16 08:44:34,116 : INFO : worker thread finished; awaiting finish of 1 more threads\n",
            "2022-01-16 08:44:34,120 : INFO : EPOCH 31 - PROGRESS: at 100.00% examples, 1632267 words/s, in_qsize 0, out_qsize 1\n",
            "2022-01-16 08:44:34,124 : INFO : worker thread finished; awaiting finish of 0 more threads\n",
            "2022-01-16 08:44:34,124 : INFO : EPOCH - 31 : training on 9227204 raw words (8222693 effective words) took 5.0s, 1631528 effective words/s\n",
            "2022-01-16 08:44:35,150 : INFO : EPOCH 32 - PROGRESS: at 18.86% examples, 1544795 words/s, in_qsize 16, out_qsize 0\n",
            "2022-01-16 08:44:36,162 : INFO : EPOCH 32 - PROGRESS: at 39.00% examples, 1592111 words/s, in_qsize 13, out_qsize 2\n",
            "2022-01-16 08:44:37,161 : INFO : EPOCH 32 - PROGRESS: at 58.68% examples, 1601338 words/s, in_qsize 15, out_qsize 0\n",
            "2022-01-16 08:44:38,167 : INFO : EPOCH 32 - PROGRESS: at 78.29% examples, 1601296 words/s, in_qsize 15, out_qsize 0\n",
            "2022-01-16 08:44:39,178 : INFO : EPOCH 32 - PROGRESS: at 98.04% examples, 1601834 words/s, in_qsize 15, out_qsize 0\n",
            "2022-01-16 08:44:39,236 : INFO : worker thread finished; awaiting finish of 7 more threads\n",
            "2022-01-16 08:44:39,236 : INFO : worker thread finished; awaiting finish of 6 more threads\n",
            "2022-01-16 08:44:39,236 : INFO : worker thread finished; awaiting finish of 5 more threads\n",
            "2022-01-16 08:44:39,240 : INFO : worker thread finished; awaiting finish of 4 more threads\n",
            "2022-01-16 08:44:39,244 : INFO : worker thread finished; awaiting finish of 3 more threads\n",
            "2022-01-16 08:44:39,248 : INFO : worker thread finished; awaiting finish of 2 more threads\n",
            "2022-01-16 08:44:39,248 : INFO : worker thread finished; awaiting finish of 1 more threads\n",
            "2022-01-16 08:44:39,256 : INFO : worker thread finished; awaiting finish of 0 more threads\n",
            "2022-01-16 08:44:39,256 : INFO : EPOCH - 32 : training on 9227204 raw words (8223170 effective words) took 5.1s, 1608996 effective words/s\n",
            "2022-01-16 08:44:39,256 : INFO : Word2Vec lifecycle event {'msg': 'training on 295270528 raw words (263121771 effective words) took 163.3s, 1611056 effective words/s', 'datetime': '2022-01-16T08:44:39.256615', 'gensim': '4.1.2', 'python': '3.9.7 (default, Sep 16 2021, 16:59:28) [MSC v.1916 64 bit (AMD64)]', 'platform': 'Windows-10-10.0.22000-SP0', 'event': 'train'}\n"
          ]
        },
        {
          "output_type": "stream",
          "name": "stdout",
          "text": [
            "Wall time: 2min 43s\n"
          ]
        },
        {
          "output_type": "execute_result",
          "data": {
            "text/plain": [
              "(263121771, 295270528)"
            ]
          },
          "metadata": {},
          "execution_count": 27
        }
      ]
    },
    {
      "cell_type": "code",
      "source": [
        "w2v_model.wv.most_similar(\"love\")"
      ],
      "metadata": {
        "_uuid": "27cc2651c74227115d8bfd8c40e5618048e05edd",
        "trusted": true,
        "id": "Iy7SeU5uWHXO",
        "colab": {
          "base_uri": "https://localhost:8080/"
        },
        "outputId": "1614fc0d-3fba-4035-b780-565951c11b6e"
      },
      "execution_count": 28,
      "outputs": [
        {
          "output_type": "execute_result",
          "data": {
            "text/plain": [
              "[('luv', 0.5771451592445374),\n",
              " ('loves', 0.5498855113983154),\n",
              " ('loved', 0.5274569988250732),\n",
              " ('adore', 0.4997251033782959),\n",
              " ('amazing', 0.498043417930603),\n",
              " ('looove', 0.4842316806316376),\n",
              " ('loveee', 0.45608726143836975),\n",
              " ('awesome', 0.45491066575050354),\n",
              " ('lovee', 0.4492398202419281),\n",
              " ('miss', 0.43975794315338135)]"
            ]
          },
          "metadata": {},
          "execution_count": 28
        }
      ]
    },
    {
      "cell_type": "markdown",
      "source": [
        "### Tokenize Text"
      ],
      "metadata": {
        "_uuid": "e13563644468037258598637b49373ca96b9b879",
        "id": "DA8mb_p2WHXP"
      }
    },
    {
      "cell_type": "code",
      "source": [
        "%%time\n",
        "tokenizer = Tokenizer()\n",
        "tokenizer.fit_on_texts(df_train.text)\n",
        "\n",
        "vocab_size = len(tokenizer.word_index) + 1\n",
        "print(\"Total words\", vocab_size)"
      ],
      "metadata": {
        "_uuid": "6852bc709a7cd20173cbeeb218505078f8f37c57",
        "trusted": true,
        "id": "9C2OEf-uWHXQ",
        "colab": {
          "base_uri": "https://localhost:8080/"
        },
        "outputId": "230fe1d9-11f0-4033-91bd-3210484ca42c"
      },
      "execution_count": 29,
      "outputs": [
        {
          "output_type": "stream",
          "name": "stdout",
          "text": [
            "Total words 290419\n",
            "Wall time: 12.9 s\n"
          ]
        }
      ]
    },
    {
      "cell_type": "code",
      "source": [
        "%%time\n",
        "x_train = pad_sequences(tokenizer.texts_to_sequences(df_train.text), maxlen=SEQUENCE_LENGTH)\n",
        "x_test = pad_sequences(tokenizer.texts_to_sequences(df_test.text), maxlen=SEQUENCE_LENGTH)"
      ],
      "metadata": {
        "_uuid": "45de439df3015030c71f84c2d170346936a1d68f",
        "trusted": true,
        "id": "5oVeIiO7WHXR",
        "colab": {
          "base_uri": "https://localhost:8080/"
        },
        "outputId": "7a41cae6-968c-46a7-b719-fb7a97eb8133"
      },
      "execution_count": 30,
      "outputs": [
        {
          "output_type": "stream",
          "name": "stdout",
          "text": [
            "Wall time: 18.9 s\n"
          ]
        }
      ]
    },
    {
      "cell_type": "code",
      "source": [
        "# x_train = df_train.copy()\n",
        "# x_train = df_test.copy()"
      ],
      "metadata": {
        "id": "xrLe2h3ry-6v"
      },
      "execution_count": 31,
      "outputs": []
    },
    {
      "cell_type": "markdown",
      "source": [
        "### Label Encoder "
      ],
      "metadata": {
        "_uuid": "03b35903fc6260e190d6928d240ef7432de117fc",
        "id": "hOCk46uKWHXR"
      }
    },
    {
      "cell_type": "code",
      "source": [
        "labels = df_train.target.unique().tolist()\n",
        "labels.append(NEUTRAL)\n",
        "labels"
      ],
      "metadata": {
        "_uuid": "33676e0efa39e97d89bd650b8b4eae933a22fbf0",
        "trusted": true,
        "id": "cCExhQFxWHXS",
        "colab": {
          "base_uri": "https://localhost:8080/"
        },
        "outputId": "c91ef436-5c18-4d6d-fdc2-7319226b024f"
      },
      "execution_count": 32,
      "outputs": [
        {
          "output_type": "execute_result",
          "data": {
            "text/plain": [
              "['POSITIVE', 'NEGATIVE', 'NEUTRAL']"
            ]
          },
          "metadata": {},
          "execution_count": 32
        }
      ]
    },
    {
      "cell_type": "code",
      "source": [
        "encoder = LabelEncoder()\n",
        "encoder.fit(df_train.target.tolist())\n",
        "\n",
        "y_train = encoder.transform(df_train.target.tolist())\n",
        "y_test = encoder.transform(df_test.target.tolist())\n",
        "\n",
        "y_train = y_train.reshape(-1,1)\n",
        "y_test = y_test.reshape(-1,1)\n",
        "\n",
        "print(\"y_train\",y_train.shape)\n",
        "print(\"y_test\",y_test.shape)"
      ],
      "metadata": {
        "_uuid": "04239a9bef76e7922fd86098a5601dfde8ee4665",
        "trusted": true,
        "id": "CtOyk9lVWHXT",
        "colab": {
          "base_uri": "https://localhost:8080/"
        },
        "outputId": "e30ce2ff-19be-4a9a-a276-cc57da934502"
      },
      "execution_count": 33,
      "outputs": [
        {
          "output_type": "stream",
          "name": "stdout",
          "text": [
            "y_train (1280000, 1)\n",
            "y_test (320000, 1)\n"
          ]
        }
      ]
    },
    {
      "cell_type": "code",
      "source": [
        "print(\"x_train\", x_train.shape)\n",
        "print(\"y_train\", y_train.shape)\n",
        "print()\n",
        "print(\"x_test\", x_test.shape)\n",
        "print(\"y_test\", y_test.shape)"
      ],
      "metadata": {
        "_uuid": "04299c886911ca135583ab64878f213939a2990c",
        "trusted": true,
        "id": "NcfvGqhKWHXT",
        "colab": {
          "base_uri": "https://localhost:8080/"
        },
        "outputId": "bc4558fe-741d-4a3a-b8d8-4a2deeb369fc"
      },
      "execution_count": 34,
      "outputs": [
        {
          "output_type": "stream",
          "name": "stdout",
          "text": [
            "x_train (1280000, 300)\n",
            "y_train (1280000, 1)\n",
            "\n",
            "x_test (320000, 300)\n",
            "y_test (320000, 1)\n"
          ]
        }
      ]
    },
    {
      "cell_type": "code",
      "source": [
        "y_train[:10]"
      ],
      "metadata": {
        "_uuid": "232533fb27b7be99d9b8c2f8fb22c9c6bf121a6f",
        "trusted": true,
        "id": "IAwnAUYcWHXU",
        "colab": {
          "base_uri": "https://localhost:8080/"
        },
        "outputId": "46bad0fd-dbf2-4e5c-b06a-12a0e1e634f6"
      },
      "execution_count": 35,
      "outputs": [
        {
          "output_type": "execute_result",
          "data": {
            "text/plain": [
              "array([[1],\n",
              "       [1],\n",
              "       [1],\n",
              "       [0],\n",
              "       [1],\n",
              "       [1],\n",
              "       [1],\n",
              "       [1],\n",
              "       [1],\n",
              "       [1]])"
            ]
          },
          "metadata": {},
          "execution_count": 35
        }
      ]
    },
    {
      "cell_type": "markdown",
      "source": [
        "### Embedding layer"
      ],
      "metadata": {
        "_uuid": "233c0ea94055a03e2e7df3e2a13d036ec963484f",
        "id": "ztV2Jdb4WHXU"
      }
    },
    {
      "cell_type": "code",
      "source": [
        "embeddings_dictionary = dict()\n",
        "glove_file = open('glove.42B.300d.txt', encoding=\"utf8\")\n",
        "\n",
        "for line in glove_file:\n",
        "    records = line.split()\n",
        "    word = records[0]\n",
        "    vector_dimensions = np.asarray(records[1:], dtype='float32')\n",
        "    embeddings_dictionary [word] = vector_dimensions\n",
        "    \n",
        "glove_file.close()"
      ],
      "metadata": {
        "id": "RVE9MX-8o3qQ"
      },
      "execution_count": 36,
      "outputs": []
    },
    {
      "cell_type": "code",
      "source": [
        "embedding_matrix = np.zeros((vocab_size, W2V_SIZE))\n",
        "# for word, i in tokenizer.word_index.items():\n",
        "#   if word in w2v_model.wv:\n",
        "#     embedding_matrix[i] = w2v_model.wv[word]\n",
        "\n",
        "for word, index in tokenizer.word_index.items():\n",
        "    embedding_vector = embeddings_dictionary.get(word)\n",
        "    if embedding_vector is not None:\n",
        "        embedding_matrix[index] = embedding_vector\n",
        "\n",
        "print(embedding_matrix.shape)"
      ],
      "metadata": {
        "_uuid": "9ab488374b59e3f30f8b1ea92767d853c4846bac",
        "trusted": true,
        "id": "HYIKvxHVWHXV",
        "colab": {
          "base_uri": "https://localhost:8080/"
        },
        "outputId": "08fc081d-ed00-44b4-e2d5-484c870fc4f3"
      },
      "execution_count": 37,
      "outputs": [
        {
          "output_type": "stream",
          "name": "stdout",
          "text": [
            "(290419, 300)\n"
          ]
        }
      ]
    },
    {
      "cell_type": "code",
      "source": [
        "embedding_layer = Embedding(vocab_size, W2V_SIZE, weights=[embedding_matrix], input_length=SEQUENCE_LENGTH, trainable=False)"
      ],
      "metadata": {
        "_uuid": "833279d91e4286065968237fb5f2a0c2dd4d246c",
        "trusted": true,
        "id": "ezIfNjv9WHXV"
      },
      "execution_count": 38,
      "outputs": []
    },
    {
      "cell_type": "markdown",
      "source": [
        "### Build Model"
      ],
      "metadata": {
        "_uuid": "b299ef78f94c2085942c993a2d58753a7476305a",
        "id": "8FxGIapIWHXW"
      }
    },
    {
      "cell_type": "code",
      "source": [
        "def building(name, RNN_layer):\n",
        "  model = Sequential(name=name)\n",
        "  model.add(embedding_layer)\n",
        "  model.add(Dropout(0.5))\n",
        "  # model.add(LSTM(150, dropout=0.2, recurrent_dropout=0.2))\n",
        "  if RNN_layer == 'pyramid':\n",
        "    model.add(LSTM(64, dropout=0.2, recurrent_dropout=0.2, return_sequences=True))\n",
        "    model.add(LSTM(32, dropout=0.2, recurrent_dropout=0.2, return_sequences=True))\n",
        "    model.add(LSTM(16, dropout=0.2, recurrent_dropout=0.2, return_sequences=True))\n",
        "    model.add(LSTM(8, dropout=0.2, recurrent_dropout=0.2))\n",
        "  else:\n",
        "    model.add(RNN_layer)\n",
        "  model.add(Dense(1, activation='sigmoid'))\n",
        "  model.summary()\n",
        "  return model"
      ],
      "metadata": {
        "_uuid": "e775ef4f1b74e6412457181383c39f2df554ef3f",
        "trusted": true,
        "id": "etF6pHmOWHXW"
      },
      "execution_count": 39,
      "outputs": []
    },
    {
      "cell_type": "markdown",
      "source": [
        "### Compling Model"
      ],
      "metadata": {
        "_uuid": "28d22eafd0c7d798dcf3d742bc92fb8577939e6c",
        "id": "2RT39AdWWHXW"
      }
    },
    {
      "cell_type": "code",
      "source": [
        "def compling(model):\n",
        "  model.compile(loss='binary_crossentropy',\n",
        "                optimizer=\"adam\",\n",
        "                metrics=['accuracy'])"
      ],
      "metadata": {
        "_uuid": "1331e08d590bb2aa2033706c8faca217afc0f1c3",
        "trusted": true,
        "id": "IuzR7QhUWHXX"
      },
      "execution_count": 40,
      "outputs": []
    },
    {
      "cell_type": "markdown",
      "source": [
        "### Callbacks"
      ],
      "metadata": {
        "_uuid": "c7733127cb8b380e0c807268903bf4d03ef92542",
        "id": "7dz_83R0WHXX"
      }
    },
    {
      "cell_type": "code",
      "source": [
        "checkpoint = ModelCheckpoint('model.h5', monitor='val_accuracy', save_best_only=True)\n",
        "\n",
        "callbacks = [ ReduceLROnPlateau(monitor='val_loss', patience=5, cooldown=0),\n",
        "              EarlyStopping(monitor='val_acc', min_delta=1e-4, patience=5),\n",
        "             checkpoint]"
      ],
      "metadata": {
        "_uuid": "a688df590386f5748da6fe00b01904fe6c71619e",
        "trusted": true,
        "id": "0vyQSQOWWHXX"
      },
      "execution_count": 41,
      "outputs": []
    },
    {
      "cell_type": "markdown",
      "source": [
        "### Training Model"
      ],
      "metadata": {
        "_uuid": "8d0873633dd49179c8cae17377641b97d323ef3b",
        "id": "w5b7iv8bWHXX"
      }
    },
    {
      "cell_type": "code",
      "source": [
        "# x_train[].shape"
      ],
      "metadata": {
        "id": "UUbX6mbpkTft"
      },
      "execution_count": 42,
      "outputs": []
    },
    {
      "cell_type": "code",
      "source": [
        "def training(model, batch_size=BATCH_SIZE, epochs=EPOCHS,\n",
        "             callbacks=None, steps_per_epoch=None,\n",
        "             validation_steps=None\n",
        "            #  ,validation_batch_size=BATCH_SIZE\n",
        "             ):\n",
        "  history = model.fit(x_train, y_train,\n",
        "                      batch_size=batch_size,\n",
        "                      epochs=epochs,\n",
        "                      validation_split=0.1,\n",
        "                      verbose=1,\n",
        "                      callbacks=callbacks,\n",
        "\n",
        "                      # validation_data=None,\n",
        "                      shuffle=True,\n",
        "                      # class_weight=None,\n",
        "                      # sample_weight=None,\n",
        "                      # initial_epoch=0,\n",
        "                      steps_per_epoch=steps_per_epoch,\n",
        "                      validation_steps=validation_steps,\n",
        "                      validation_batch_size=batch_size,\n",
        "                      # validation_freq=1,\n",
        "                      max_queue_size=10,\n",
        "                      workers=12,\n",
        "                      use_multiprocessing=True)\n",
        "  return history\n",
        "\n"
      ],
      "metadata": {
        "_uuid": "2b659d390c6577dc5cdb6b6297934279b4e801d5",
        "trusted": true,
        "id": "e3AoLoChWHXY"
      },
      "execution_count": 43,
      "outputs": []
    },
    {
      "cell_type": "markdown",
      "source": [
        "### Evaluation"
      ],
      "metadata": {
        "_uuid": "267258196d96796ac69a7b8c466314bcf5d6ee42",
        "id": "DorqPXzSWHXY"
      }
    },
    {
      "cell_type": "code",
      "source": [
        "def evaluation(model, history,\n",
        "               batch_size=BATCH_SIZE, x_test = x_test\n",
        "               ,steps=None):\n",
        "  score = model.evaluate(x_test, y_test, batch_size=batch_size,\n",
        "                         workers=12,use_multiprocessing=True\n",
        "                         ,steps=steps)\n",
        "  print()\n",
        "  print(\"ACCURACY:\",score[1])\n",
        "  print(\"LOSS:\",score[0])\n",
        "  acc = history.history['accuracy']\n",
        "  val_acc = history.history['val_accuracy']\n",
        "  loss = history.history['loss']\n",
        "  val_loss = history.history['val_loss']\n",
        "  \n",
        "  epochs = range(len(acc))\n",
        "  \n",
        "  plt.plot(epochs, acc, 'b', label='Training acc')\n",
        "  plt.plot(epochs, val_acc, 'r', label='Validation acc')\n",
        "  plt.title('Training and validation accuracy')\n",
        "  plt.legend()\n",
        "  \n",
        "  plt.figure()\n",
        "  \n",
        "  plt.plot(epochs, loss, 'b', label='Training loss')\n",
        "  plt.plot(epochs, val_loss, 'r', label='Validation loss')\n",
        "  plt.title('Training and validation loss')\n",
        "  plt.legend()\n",
        "  \n",
        "  plt.show()"
      ],
      "metadata": {
        "_uuid": "98ecd8f1b8b74594c3ea775dd68a094e92458022",
        "trusted": true,
        "id": "tlTJwQCoWHXY"
      },
      "execution_count": 73,
      "outputs": []
    },
    {
      "cell_type": "markdown",
      "source": [
        "### Prediction "
      ],
      "metadata": {
        "_uuid": "6bdfc0f6a6af5bebc0271d83dd7432c91001409b",
        "id": "g2TRTaltWHXZ"
      }
    },
    {
      "cell_type": "code",
      "source": [
        "def decode_sentiment(score, include_neutral=True):\n",
        "    if include_neutral:        \n",
        "        label = NEUTRAL\n",
        "        if score <= SENTIMENT_THRESHOLDS[0]:\n",
        "            label = NEGATIVE\n",
        "        elif score >= SENTIMENT_THRESHOLDS[1]:\n",
        "            label = POSITIVE\n",
        "\n",
        "        return label\n",
        "    else:\n",
        "        return NEGATIVE if score < 0.5 else POSITIVE"
      ],
      "metadata": {
        "_uuid": "f0b0fa3d4b1bb14b3f5e3d169a369f3ebef29ae1",
        "trusted": true,
        "id": "asxfOGbLWHXZ"
      },
      "execution_count": 45,
      "outputs": []
    },
    {
      "cell_type": "code",
      "source": [
        "def predict(model, text\n",
        "            ,batch_size,steps\n",
        "            , include_neutral=True\n",
        "            ,x_test=x_test):\n",
        "    start_at = time.time()\n",
        "    # Tokenize text\n",
        "    # x_test = pad_sequences(tokenizer.texts_to_sequences([text]), maxlen=SEQUENCE_LENGTH)\n",
        "    # Predict\n",
        "    score = model.predict(x = x_test,batch_size=batch_size,\n",
        "                          steps = steps,workers=10,use_multiprocessing=True)[0]\n",
        "    # Decode sentiment\n",
        "    label = decode_sentiment(score, include_neutral=include_neutral)\n",
        "\n",
        "    return {\"label\": label, \"score\": float(score),\n",
        "       \"elapsed_time\": time.time()-start_at}  "
      ],
      "metadata": {
        "_uuid": "ed4086d651f2f8cbed11d3c909a8873607d29a06",
        "trusted": true,
        "id": "o2yQ2SnZWHXZ"
      },
      "execution_count": 137,
      "outputs": []
    },
    {
      "cell_type": "code",
      "source": [
        "def prediction(model, batch_size=None,steps = None, x_test=x_test):\n",
        "  print(predict(model=model,\n",
        "                batch_size=batch_size, steps = steps,\n",
        "                x_test=x_test, text=\"I love the music\"))\n",
        "  print(predict(model=model,\n",
        "                batch_size=batch_size, steps = steps,\n",
        "                x_test=x_test, text=\"I hate the rain\"))\n",
        "  print(predict(model=model,\n",
        "                batch_size=batch_size, steps = steps,\n",
        "                x_test=x_test, text=\"i don't know what i'm doing\"))\n"
      ],
      "metadata": {
        "_uuid": "ca38b1e6c9b5acfed7467de2cf02a78333108872",
        "trusted": true,
        "id": "QQAxrqP0WHXa"
      },
      "execution_count": 141,
      "outputs": []
    },
    {
      "cell_type": "markdown",
      "source": [
        "### Confusion Matrix"
      ],
      "metadata": {
        "_uuid": "3ee72e47f84b6dbc32e02a783de5ec1661f157e1",
        "id": "AZ5c4VmSWHXa"
      }
    },
    {
      "cell_type": "code",
      "source": [
        "def plot_confusion_matrix(cm, classes,\n",
        "                          title='Confusion matrix',\n",
        "                          cmap=plt.cm.Blues):\n",
        "    \"\"\"\n",
        "    This function prints and plots the confusion matrix.\n",
        "    Normalization can be applied by setting `normalize=True`.\n",
        "    \"\"\"\n",
        "\n",
        "    cm = cm.astype('float') / cm.sum(axis=1)[:, np.newaxis]\n",
        "\n",
        "    plt.imshow(cm, interpolation='nearest', cmap=cmap)\n",
        "    plt.title(title, fontsize=30)\n",
        "    plt.colorbar()\n",
        "    tick_marks = np.arange(len(classes))\n",
        "    plt.xticks(tick_marks, classes, rotation=90, fontsize=22)\n",
        "    plt.yticks(tick_marks, classes, fontsize=22)\n",
        "\n",
        "    fmt = '.2f'\n",
        "    thresh = cm.max() / 2.\n",
        "    for i, j in itertools.product(range(cm.shape[0]), range(cm.shape[1])):\n",
        "        plt.text(j, i, format(cm[i, j], fmt),\n",
        "                 horizontalalignment=\"center\",\n",
        "                 color=\"white\" if cm[i, j] > thresh else \"black\")\n",
        "\n",
        "    plt.ylabel('True label', fontsize=25)\n",
        "    plt.xlabel('Predicted label', fontsize=25)"
      ],
      "metadata": {
        "_uuid": "b3575191bb425ab871f3f41e83812ee84bb7e595",
        "trusted": true,
        "id": "OUjefKIZWHXb"
      },
      "execution_count": 81,
      "outputs": []
    },
    {
      "cell_type": "code",
      "source": [
        "def confusionMatrix(model, x_test=x_test,\n",
        "                    batch_size=None,steps = None):\n",
        "  y_pred_1d = []\n",
        "  y_test_1d = list(df_test.target)\n",
        "  # y_test_1d = list(y_test.reshape(-1))\n",
        "  scores = model.predict(x_test, verbose=1,\n",
        "                         batch_size=batch_size\n",
        "                         ,workers=10,\n",
        "                         use_multiprocessing=True,\n",
        "                         steps=steps)\n",
        "  y_pred_1d = [decode_sentiment(score, include_neutral=False) for score in scores]\n",
        "  y_test_1d = y_test_1d[:len(y_pred_1d)]\n",
        "  print(len(y_pred_1d))\n",
        "  cnf_matrix = confusion_matrix(y_test_1d, y_pred_1d)\n",
        "  plt.figure(figsize=(12,12))\n",
        "  plot_confusion_matrix(cnf_matrix, classes=df_train.target.unique(), title=\"Confusion matrix\")\n",
        "  plt.show()\n",
        "\n",
        "  print('\\n\\n\\n')\n",
        "  ### Classification Report\n",
        "  print('classification_report :',classification_report(y_test_1d, y_pred_1d))\n",
        "  print('\\n\\n\\n')\n",
        "  ### Accuracy Score\n",
        "  print('accuracy_score :',accuracy_score(y_test_1d, y_pred_1d))"
      ],
      "metadata": {
        "_uuid": "a57dc6f6211c144491a70f533225edfa95a2dc66",
        "trusted": true,
        "id": "0Celv8FOWHXc"
      },
      "execution_count": 143,
      "outputs": []
    },
    {
      "cell_type": "code",
      "source": [
        "# y_test.shape\n",
        "len(list(df_test.target))"
      ],
      "metadata": {
        "colab": {
          "base_uri": "https://localhost:8080/"
        },
        "id": "_KjtTVdY81pL",
        "outputId": "11d0ae05-a120-4697-a8d4-c49cff4ce052"
      },
      "execution_count": 115,
      "outputs": [
        {
          "output_type": "execute_result",
          "data": {
            "text/plain": [
              "320000"
            ]
          },
          "metadata": {},
          "execution_count": 115
        }
      ]
    },
    {
      "cell_type": "code",
      "source": [
        "len(list(y_test.reshape(-1)))"
      ],
      "metadata": {
        "colab": {
          "base_uri": "https://localhost:8080/"
        },
        "id": "ceoP23xH_wwE",
        "outputId": "77af6aeb-9fb6-4402-8597-0b2a7964871d"
      },
      "execution_count": 118,
      "outputs": [
        {
          "output_type": "execute_result",
          "data": {
            "text/plain": [
              "320000"
            ]
          },
          "metadata": {},
          "execution_count": 118
        }
      ]
    },
    {
      "cell_type": "markdown",
      "source": [
        "### Saving model"
      ],
      "metadata": {
        "_uuid": "4f014c32f3833db282e1a075c526604f34e3158c",
        "id": "V3YFlZAnWHXe"
      }
    },
    {
      "cell_type": "code",
      "source": [
        "# EXPORT\n",
        "# KERAS_MODEL = \"model.h5\"\n",
        "# WORD2VEC_MODEL = \"model.w2v\"\n",
        "# TOKENIZER_MODEL = \"tokenizer.pkl\"\n",
        "# ENCODER_MODEL = \"encoder.pkl\"\n",
        "\n",
        "def saving(model):\n",
        "  model.save(model.name + '.h5')\n",
        "\n",
        "# model.save(KERAS_MODEL)\n",
        "w2v_model.save(WORD2VEC_MODEL)\n",
        "pickle.dump(tokenizer, open(TOKENIZER_MODEL, \"wb\"), protocol=0)\n",
        "pickle.dump(encoder, open(ENCODER_MODEL, \"wb\"), protocol=0)"
      ],
      "metadata": {
        "_uuid": "3b2b3ad5b592977b404acfa1c9ad303a62837255",
        "trusted": true,
        "id": "Y6N4g3iDWHXe",
        "colab": {
          "base_uri": "https://localhost:8080/"
        },
        "outputId": "d64ee303-a4a6-44b6-f8c1-ae9f6d5ecfa8"
      },
      "execution_count": 50,
      "outputs": [
        {
          "output_type": "stream",
          "name": "stderr",
          "text": [
            "2022-01-16 08:47:19,233 : INFO : Word2Vec lifecycle event {'fname_or_handle': 'model.w2v', 'separately': 'None', 'sep_limit': 10485760, 'ignore': frozenset(), 'datetime': '2022-01-16T08:47:19.233076', 'gensim': '4.1.2', 'python': '3.9.7 (default, Sep 16 2021, 16:59:28) [MSC v.1916 64 bit (AMD64)]', 'platform': 'Windows-10-10.0.22000-SP0', 'event': 'saving'}\n",
            "2022-01-16 08:47:19,234 : INFO : not storing attribute cum_table\n",
            "2022-01-16 08:47:19,328 : INFO : saved model.w2v\n"
          ]
        }
      ]
    },
    {
      "cell_type": "markdown",
      "source": [
        "### loading model\n"
      ],
      "metadata": {
        "id": "_M5YyoOuaVfO"
      }
    },
    {
      "cell_type": "code",
      "source": [
        "from keras.models import load_model\n",
        "def loading(model):\n",
        "  model=load_model(model.name + '.h5')\n",
        "  return model\n"
      ],
      "metadata": {
        "id": "f1kwgHu-aa5_"
      },
      "execution_count": 51,
      "outputs": []
    },
    {
      "cell_type": "markdown",
      "source": [
        "# الف"
      ],
      "metadata": {
        "id": "lwtE1o9nsIJe"
      }
    },
    {
      "cell_type": "code",
      "source": [
        "RNN_layer = LSTM(150, dropout=0.2, recurrent_dropout=0.2)\n",
        "modelA = building(name='LSTM', RNN_layer=RNN_layer)\n"
      ],
      "metadata": {
        "id": "hKmwOHHUsOtM",
        "colab": {
          "base_uri": "https://localhost:8080/"
        },
        "outputId": "8d9431ba-53f8-402e-8916-dab9faeb6f06"
      },
      "execution_count": null,
      "outputs": [
        {
          "output_type": "stream",
          "name": "stdout",
          "text": [
            "Model: \"LSTM\"\n",
            "_________________________________________________________________\n",
            " Layer (type)                Output Shape              Param #   \n",
            "=================================================================\n",
            " embedding (Embedding)       (None, 300, 300)          87125700  \n",
            "                                                                 \n",
            " dropout (Dropout)           (None, 300, 300)          0         \n",
            "                                                                 \n",
            " lstm (LSTM)                 (None, 150)               270600    \n",
            "                                                                 \n",
            " dense (Dense)               (None, 1)                 151       \n",
            "                                                                 \n",
            "=================================================================\n",
            "Total params: 87,396,451\n",
            "Trainable params: 270,751\n",
            "Non-trainable params: 87,125,700\n",
            "_________________________________________________________________\n"
          ]
        }
      ]
    },
    {
      "cell_type": "code",
      "source": [
        "BATCH_SIZE = 512\n",
        "compling(model=modelA)\n",
        "history = training(model=modelA, batch_size=BATCH_SIZE)"
      ],
      "metadata": {
        "id": "RWjiq4mktfKT",
        "colab": {
          "base_uri": "https://localhost:8080/"
        },
        "outputId": "2b6bdc5f-1b78-44f3-f7ac-000010f3a4e9"
      },
      "execution_count": null,
      "outputs": [
        {
          "output_type": "stream",
          "name": "stdout",
          "text": [
            "Epoch 1/2\n",
            "2250/2250 [==============================] - 2016s 895ms/step - loss: 0.5149 - accuracy: 0.7420 - val_loss: 0.4676 - val_accuracy: 0.7757\n",
            "Epoch 2/2\n",
            "2250/2250 [==============================] - 2069s 919ms/step - loss: 0.4836 - accuracy: 0.7641 - val_loss: 0.4550 - val_accuracy: 0.7832\n"
          ]
        }
      ]
    },
    {
      "cell_type": "code",
      "source": [
        "evaluation(model=modelA, history=history, batch_size=BATCH_SIZE)"
      ],
      "metadata": {
        "id": "jwr7g4WLt-3A",
        "colab": {
          "base_uri": "https://localhost:8080/",
          "height": 614
        },
        "outputId": "b0fecf71-4699-49a0-b299-336c3587bacd"
      },
      "execution_count": null,
      "outputs": [
        {
          "output_type": "stream",
          "name": "stdout",
          "text": [
            "625/625 [==============================] - 130s 208ms/step - loss: 0.4538 - accuracy: 0.7837\n",
            "\n",
            "ACCURACY: 0.7836687564849854\n",
            "LOSS: 0.45378291606903076\n"
          ]
        },
        {
          "output_type": "display_data",
          "data": {
            "text/plain": [
              "<Figure size 432x288 with 1 Axes>"
            ],
            "image/png": "[encoded data removed]"
          },
          "metadata": {
            "needs_background": "light"
          }
        },
        {
          "output_type": "display_data",
          "data": {
            "text/plain": [
              "<Figure size 432x288 with 1 Axes>"
            ],
            "image/png": "[encoded data removed]"
          },
          "metadata": {
            "needs_background": "light"
          }
        }
      ]
    },
    {
      "cell_type": "code",
      "source": [
        "prediction(model=modelA)"
      ],
      "metadata": {
        "id": "ros8lfC6uFsp",
        "colab": {
          "base_uri": "https://localhost:8080/"
        },
        "outputId": "292e1de3-1515-488b-98f3-eaee6dd3ec4b"
      },
      "execution_count": null,
      "outputs": [
        {
          "output_type": "stream",
          "name": "stdout",
          "text": [
            "{'label': 'POSITIVE', 'score': 0.9803071618080139, 'elapsed_time': 0.3967266082763672}\n",
            "{'label': 'NEGATIVE', 'score': 0.008493189699947834, 'elapsed_time': 0.18339228630065918}\n",
            "{'label': 'NEUTRAL', 'score': 0.4736991822719574, 'elapsed_time': 0.17055010795593262}\n"
          ]
        }
      ]
    },
    {
      "cell_type": "code",
      "source": [
        "confusionMatrix(model=modelA)"
      ],
      "metadata": {
        "id": "Y3junXgGuRwP",
        "colab": {
          "base_uri": "https://localhost:8080/",
          "height": 1000
        },
        "outputId": "31409631-c8dd-4c8a-fc23-197c8d20e22b"
      },
      "execution_count": null,
      "outputs": [
        {
          "output_type": "stream",
          "name": "stdout",
          "text": [
            "400/400 [==============================] - 88s 219ms/step\n"
          ]
        },
        {
          "output_type": "display_data",
          "data": {
            "text/plain": [
              "<Figure size 864x864 with 2 Axes>"
            ],
            "image/png": "[encoded data removed]"
          },
          "metadata": {
            "needs_background": "light"
          }
        },
        {
          "output_type": "stream",
          "name": "stdout",
          "text": [
            "\n",
            "\n",
            "\n",
            "\n",
            "classification_report :               precision    recall  f1-score   support\n",
            "\n",
            "    NEGATIVE       0.78      0.78      0.78    159494\n",
            "    POSITIVE       0.78      0.78      0.78    160506\n",
            "\n",
            "    accuracy                           0.78    320000\n",
            "   macro avg       0.78      0.78      0.78    320000\n",
            "weighted avg       0.78      0.78      0.78    320000\n",
            "\n",
            "\n",
            "\n",
            "\n",
            "\n",
            "accuracy_score : 0.78366875\n"
          ]
        }
      ]
    },
    {
      "cell_type": "code",
      "source": [
        "saving(model=modelA)"
      ],
      "metadata": {
        "id": "k020YgSkuUkj"
      },
      "execution_count": null,
      "outputs": []
    },
    {
      "cell_type": "code",
      "source": [
        "# loading(model=modelA)"
      ],
      "metadata": {
        "id": "eYpiQhCDajbO"
      },
      "execution_count": null,
      "outputs": []
    },
    {
      "cell_type": "markdown",
      "source": [
        "# ب"
      ],
      "metadata": {
        "id": "ElIl3Q-auh7M"
      }
    },
    {
      "cell_type": "code",
      "source": [
        "RNN_layer = Bidirectional(LSTM(150, dropout=0.2, recurrent_dropout=0.2)) \n",
        "modelB = building(name='Bidirectional_LSTM', RNN_layer=RNN_layer)\n"
      ],
      "metadata": {
        "id": "jywOcA5kuoYE",
        "colab": {
          "base_uri": "https://localhost:8080/"
        },
        "outputId": "9288688e-3310-4ded-eddd-e6ebca56e3d3"
      },
      "execution_count": null,
      "outputs": [
        {
          "output_type": "stream",
          "name": "stdout",
          "text": [
            "Model: \"Bidirectional_LSTM\"\n",
            "_________________________________________________________________\n",
            " Layer (type)                Output Shape              Param #   \n",
            "=================================================================\n",
            " embedding (Embedding)       (None, 300, 300)          87125700  \n",
            "                                                                 \n",
            " dropout_1 (Dropout)         (None, 300, 300)          0         \n",
            "                                                                 \n",
            " bidirectional (Bidirectiona  (None, 300)              541200    \n",
            " l)                                                              \n",
            "                                                                 \n",
            " dense_1 (Dense)             (None, 1)                 301       \n",
            "                                                                 \n",
            "=================================================================\n",
            "Total params: 87,667,201\n",
            "Trainable params: 541,501\n",
            "Non-trainable params: 87,125,700\n",
            "_________________________________________________________________\n"
          ]
        }
      ]
    },
    {
      "cell_type": "code",
      "source": [
        "BATCH_SIZE = 256\n",
        "compling(model=modelB)\n",
        "history = training(model=modelB, batch_size=BATCH_SIZE)"
      ],
      "metadata": {
        "id": "22u2p87luoYG",
        "colab": {
          "base_uri": "https://localhost:8080/"
        },
        "outputId": "1fdccd3e-539f-4807-aa79-9a07d2fb4f1d"
      },
      "execution_count": null,
      "outputs": [
        {
          "output_type": "stream",
          "name": "stdout",
          "text": [
            "Epoch 1/2\n",
            "4500/4500 [==============================] - 7394s 2s/step - loss: 0.5092 - accuracy: 0.7460 - val_loss: 0.4645 - val_accuracy: 0.7774\n",
            "Epoch 2/2\n",
            "4500/4500 [==============================] - 6684s 1s/step - loss: 0.4842 - accuracy: 0.7640 - val_loss: 0.4540 - val_accuracy: 0.7842\n"
          ]
        }
      ]
    },
    {
      "cell_type": "code",
      "source": [
        "evaluation(model=modelB, history=history, batch_size=BATCH_SIZE)"
      ],
      "metadata": {
        "id": "TJXZMV2MuoYH",
        "colab": {
          "base_uri": "https://localhost:8080/",
          "height": 614
        },
        "outputId": "ec08f175-8800-4000-fabb-24ea59749247"
      },
      "execution_count": null,
      "outputs": [
        {
          "output_type": "stream",
          "name": "stdout",
          "text": [
            "1250/1250 [==============================] - 430s 344ms/step - loss: 0.4525 - accuracy: 0.7848\n",
            "\n",
            "ACCURACY: 0.7848374843597412\n",
            "LOSS: 0.45254024863243103\n"
          ]
        },
        {
          "output_type": "display_data",
          "data": {
            "text/plain": [
              "<Figure size 432x288 with 1 Axes>"
            ],
            "image/png": "[encoded data removed]"
          },
          "metadata": {
            "needs_background": "light"
          }
        },
        {
          "output_type": "display_data",
          "data": {
            "text/plain": [
              "<Figure size 432x288 with 1 Axes>"
            ],
            "image/png": "[encoded data removed]"
          },
          "metadata": {
            "needs_background": "light"
          }
        }
      ]
    },
    {
      "cell_type": "code",
      "source": [
        "prediction(model=modelB)"
      ],
      "metadata": {
        "id": "G8prALDNuoYH",
        "colab": {
          "base_uri": "https://localhost:8080/"
        },
        "outputId": "6c8f117f-096f-4106-9f27-077571951bf8"
      },
      "execution_count": null,
      "outputs": [
        {
          "output_type": "stream",
          "name": "stdout",
          "text": [
            "{'label': 'POSITIVE', 'score': 0.9718393087387085, 'elapsed_time': 0.6199617385864258}\n",
            "{'label': 'NEGATIVE', 'score': 0.008831162005662918, 'elapsed_time': 0.32263851165771484}\n",
            "{'label': 'NEUTRAL', 'score': 0.4357672333717346, 'elapsed_time': 0.31203579902648926}\n"
          ]
        }
      ]
    },
    {
      "cell_type": "code",
      "source": [
        "confusionMatrix(model=modelB)"
      ],
      "metadata": {
        "id": "NgW4XOCFuoYI",
        "colab": {
          "base_uri": "https://localhost:8080/",
          "height": 1000
        },
        "outputId": "d68630d0-ca86-4377-b922-3aa544717fb4"
      },
      "execution_count": null,
      "outputs": [
        {
          "output_type": "stream",
          "name": "stdout",
          "text": [
            "400/400 [==============================] - 134s 333ms/step\n"
          ]
        },
        {
          "output_type": "display_data",
          "data": {
            "text/plain": [
              "<Figure size 864x864 with 2 Axes>"
            ],
            "image/png": "[encoded data removed]"
          },
          "metadata": {
            "needs_background": "light"
          }
        },
        {
          "output_type": "stream",
          "name": "stdout",
          "text": [
            "\n",
            "\n",
            "\n",
            "\n",
            "classification_report :               precision    recall  f1-score   support\n",
            "\n",
            "    NEGATIVE       0.78      0.78      0.78    159494\n",
            "    POSITIVE       0.79      0.79      0.79    160506\n",
            "\n",
            "    accuracy                           0.78    320000\n",
            "   macro avg       0.78      0.78      0.78    320000\n",
            "weighted avg       0.78      0.78      0.78    320000\n",
            "\n",
            "\n",
            "\n",
            "\n",
            "\n",
            "accuracy_score : 0.7848375\n"
          ]
        }
      ]
    },
    {
      "cell_type": "code",
      "source": [
        "saving(model=modelB)"
      ],
      "metadata": {
        "id": "idH-j4N9uoYI"
      },
      "execution_count": null,
      "outputs": []
    },
    {
      "cell_type": "markdown",
      "source": [
        "# ج"
      ],
      "metadata": {
        "id": "LQpe6vfz6RHc"
      }
    },
    {
      "cell_type": "code",
      "source": [
        "RNN_layer = 'pyramid'\n",
        "modelC = building(name='pyramid', RNN_layer=RNN_layer)\n"
      ],
      "metadata": {
        "id": "mqOe8C8X6Vkg",
        "colab": {
          "base_uri": "https://localhost:8080/"
        },
        "outputId": "d7b185c4-e00f-42e5-e320-aa2b1fad8023"
      },
      "execution_count": null,
      "outputs": [
        {
          "output_type": "stream",
          "name": "stdout",
          "text": [
            "Model: \"pyramid\"\n",
            "_________________________________________________________________\n",
            " Layer (type)                Output Shape              Param #   \n",
            "=================================================================\n",
            " embedding (Embedding)       (None, 300, 300)          87125700  \n",
            "                                                                 \n",
            " dropout_2 (Dropout)         (None, 300, 300)          0         \n",
            "                                                                 \n",
            " lstm_2 (LSTM)               (None, 300, 64)           93440     \n",
            "                                                                 \n",
            " lstm_3 (LSTM)               (None, 300, 32)           12416     \n",
            "                                                                 \n",
            " lstm_4 (LSTM)               (None, 300, 16)           3136      \n",
            "                                                                 \n",
            " lstm_5 (LSTM)               (None, 8)                 800       \n",
            "                                                                 \n",
            " dense_2 (Dense)             (None, 1)                 9         \n",
            "                                                                 \n",
            "=================================================================\n",
            "Total params: 87,235,501\n",
            "Trainable params: 109,801\n",
            "Non-trainable params: 87,125,700\n",
            "_________________________________________________________________\n"
          ]
        }
      ]
    },
    {
      "cell_type": "code",
      "source": [
        "BATCH_SIZE = 256\n",
        "compling(model=modelC)\n",
        "history = training(model=modelC, batch_size=BATCH_SIZE)"
      ],
      "metadata": {
        "id": "2Pp46koe_4WQ",
        "colab": {
          "base_uri": "https://localhost:8080/"
        },
        "outputId": "ab56dd59-e10a-4e9e-b7c6-67cc858286c0"
      },
      "execution_count": null,
      "outputs": [
        {
          "output_type": "stream",
          "name": "stdout",
          "text": [
            "Epoch 1/2\n",
            "4500/4500 [==============================] - 17619s 4s/step - loss: 0.5195 - accuracy: 0.7398 - val_loss: 0.4698 - val_accuracy: 0.7754\n",
            "Epoch 2/2\n",
            "4500/4500 [==============================] - 16504s 4s/step - loss: 0.4886 - accuracy: 0.7612 - val_loss: 0.4578 - val_accuracy: 0.7820\n"
          ]
        }
      ]
    },
    {
      "cell_type": "code",
      "source": [
        "evaluation(model=modelC, history=history, batch_size=BATCH_SIZE)"
      ],
      "metadata": {
        "id": "PtyrtALs_4Wn",
        "colab": {
          "base_uri": "https://localhost:8080/",
          "height": 614
        },
        "outputId": "9edc69b7-b75a-4e01-822b-79f992cfff63"
      },
      "execution_count": null,
      "outputs": [
        {
          "output_type": "stream",
          "name": "stdout",
          "text": [
            "1250/1250 [==============================] - 879s 703ms/step - loss: 0.4565 - accuracy: 0.7829\n",
            "\n",
            "ACCURACY: 0.7829468846321106\n",
            "LOSS: 0.45648622512817383\n"
          ]
        },
        {
          "output_type": "display_data",
          "data": {
            "text/plain": [
              "<Figure size 432x288 with 1 Axes>"
            ],
            "image/png": "[encoded data removed]"
          },
          "metadata": {
            "needs_background": "light"
          }
        },
        {
          "output_type": "display_data",
          "data": {
            "text/plain": [
              "<Figure size 432x288 with 1 Axes>"
            ],
            "image/png": "[encoded data removed]"
          },
          "metadata": {
            "needs_background": "light"
          }
        }
      ]
    },
    {
      "cell_type": "code",
      "source": [
        "prediction(model=modelC)"
      ],
      "metadata": {
        "id": "lMPx28o-_4Wo",
        "colab": {
          "base_uri": "https://localhost:8080/"
        },
        "outputId": "e76da8e3-c7ff-416a-a527-a436e1e8486c"
      },
      "execution_count": null,
      "outputs": [
        {
          "output_type": "stream",
          "name": "stdout",
          "text": [
            "{'label': 'POSITIVE', 'score': 0.9633448123931885, 'elapsed_time': 1.114103078842163}\n",
            "{'label': 'NEGATIVE', 'score': 0.023349370807409286, 'elapsed_time': 0.5920596122741699}\n",
            "{'label': 'NEUTRAL', 'score': 0.4668908715248108, 'elapsed_time': 0.5752029418945312}\n"
          ]
        }
      ]
    },
    {
      "cell_type": "code",
      "source": [
        "confusionMatrix(model=modelC)"
      ],
      "metadata": {
        "id": "bsH42dxy_4Wo",
        "colab": {
          "base_uri": "https://localhost:8080/",
          "height": 1000
        },
        "outputId": "84c043a0-eec3-4798-aae2-57b86c12b4c4"
      },
      "execution_count": null,
      "outputs": [
        {
          "output_type": "stream",
          "name": "stdout",
          "text": [
            "400/400 [==============================] - 263s 655ms/step\n"
          ]
        },
        {
          "output_type": "display_data",
          "data": {
            "text/plain": [
              "<Figure size 864x864 with 2 Axes>"
            ],
            "image/png": "[encoded data removed]"
          },
          "metadata": {
            "needs_background": "light"
          }
        },
        {
          "output_type": "stream",
          "name": "stdout",
          "text": [
            "\n",
            "\n",
            "\n",
            "\n",
            "classification_report :               precision    recall  f1-score   support\n",
            "\n",
            "    NEGATIVE       0.77      0.80      0.79    159494\n",
            "    POSITIVE       0.79      0.77      0.78    160506\n",
            "\n",
            "    accuracy                           0.78    320000\n",
            "   macro avg       0.78      0.78      0.78    320000\n",
            "weighted avg       0.78      0.78      0.78    320000\n",
            "\n",
            "\n",
            "\n",
            "\n",
            "\n",
            "accuracy_score : 0.782946875\n"
          ]
        }
      ]
    },
    {
      "cell_type": "code",
      "source": [
        "saving(model=modelC)"
      ],
      "metadata": {
        "id": "jwUfgp0T_4Wp"
      },
      "execution_count": null,
      "outputs": []
    },
    {
      "cell_type": "markdown",
      "source": [
        "# د\n",
        "برای این قسمت یه سری کد های بالا رو تغییر دادم چون "
      ],
      "metadata": {
        "id": "GHd_QocFcq05"
      }
    },
    {
      "cell_type": "code",
      "source": [
        "# ! pip install tensorflow-text\n",
        "# ! pip install tf-models-official"
      ],
      "metadata": {
        "id": "AgB0BRdfo-eG"
      },
      "execution_count": 52,
      "outputs": []
    },
    {
      "cell_type": "code",
      "source": [
        "def bert_encode(texts, tokenizer, max_len=512):\n",
        "    all_tokens = []\n",
        "    all_masks = []\n",
        "    all_segments = []\n",
        "    \n",
        "    for text in texts:\n",
        "        text = tokenizer.tokenize(text)\n",
        "            \n",
        "        text = text[:max_len-2]\n",
        "        input_sequence = [\"[CLS]\"] + text + [\"[SEP]\"]\n",
        "        pad_len = max_len - len(input_sequence)\n",
        "        \n",
        "        tokens = tokenizer.convert_tokens_to_ids(input_sequence)\n",
        "        tokens += [0] * pad_len\n",
        "        pad_masks = [1] * len(input_sequence) + [0] * pad_len\n",
        "        segment_ids = [0] * max_len\n",
        "        \n",
        "        all_tokens.append(tokens)\n",
        "        all_masks.append(pad_masks)\n",
        "        all_segments.append(segment_ids)\n",
        "    \n",
        "    return np.array(all_tokens), np.array(all_masks), np.array(all_segments)"
      ],
      "metadata": {
        "id": "q0XIMmKq90Z9"
      },
      "execution_count": 53,
      "outputs": []
    },
    {
      "cell_type": "code",
      "source": [
        "def build_model(bert_layer, max_len=512):\n",
        "    input_word_ids = Input(shape=(max_len,), dtype=tf.int32, name=\"input_word_ids\")\n",
        "    input_mask = Input(shape=(max_len,), dtype=tf.int32, name=\"input_mask\")\n",
        "    segment_ids = Input(shape=(max_len,), dtype=tf.int32, name=\"segment_ids\")\n",
        "\n",
        "    _, sequence_output = bert_layer([input_word_ids, input_mask, segment_ids])\n",
        "    clf_output = sequence_output[:, 0, :]\n",
        "    out = Dense(1, activation='sigmoid')(clf_output)\n",
        "    \n",
        "    model = Model(inputs=[input_word_ids, input_mask, segment_ids], outputs=out)\n",
        "    # model.compile(Adam(lr=1e-5), loss='binary_crossentropy', metrics=['accuracy'])\n",
        "    \n",
        "    return model"
      ],
      "metadata": {
        "id": "kHWbf5GG-GIp"
      },
      "execution_count": 54,
      "outputs": []
    },
    {
      "cell_type": "code",
      "source": [
        "%%time\n",
        "module_url = \"https://tfhub.dev/tensorflow/bert_en_uncased_L-24_H-1024_A-16/1\"\n",
        "bert_layer = hub.KerasLayer(module_url, trainable=False)"
      ],
      "metadata": {
        "id": "-ec0FYD--i-m",
        "colab": {
          "base_uri": "https://localhost:8080/"
        },
        "outputId": "b2f97c43-0868-4eab-d34a-fd8dbca033d3"
      },
      "execution_count": 55,
      "outputs": [
        {
          "output_type": "stream",
          "name": "stderr",
          "text": [
            "2022-01-16 08:47:20,761 : INFO : Using C:\\Users\\peyma\\AppData\\Local\\Temp\\tfhub_modules to cache modules.\n"
          ]
        },
        {
          "output_type": "stream",
          "name": "stdout",
          "text": [
            "Wall time: 13 s\n"
          ]
        }
      ]
    },
    {
      "cell_type": "code",
      "source": [
        "vocab_file = bert_layer.resolved_object.vocab_file.asset_path.numpy()\n",
        "do_lower_case = bert_layer.resolved_object.do_lower_case.numpy()\n",
        "tokenizer = tokenization.FullTokenizer(vocab_file, do_lower_case)"
      ],
      "metadata": {
        "id": "_ycYnMYNEIDk"
      },
      "execution_count": 56,
      "outputs": []
    },
    {
      "cell_type": "code",
      "source": [
        "print(\"Vocab size:\", len(tokenizer.vocab))\n",
        "tokens = tokenizer.tokenize(\"Hello TensorFlow!\")\n",
        "print(tokens)\n",
        "ids = tokenizer.convert_tokens_to_ids(tokens)\n",
        "print(ids)"
      ],
      "metadata": {
        "id": "kZHy7XjmohtN",
        "colab": {
          "base_uri": "https://localhost:8080/"
        },
        "outputId": "82872f96-b926-4c93-bd42-98ee4a639601"
      },
      "execution_count": 57,
      "outputs": [
        {
          "output_type": "stream",
          "name": "stdout",
          "text": [
            "Vocab size: 30522\n",
            "['hello', 'tensor', '##flow', '!']\n",
            "[7592, 23435, 12314, 999]\n"
          ]
        }
      ]
    },
    {
      "cell_type": "code",
      "source": [
        "# processor = nlp.data.classifier_data_lib.TfdsProcessor(\n",
        "#     tfds_params='dataset=sentiment140:1.0.0,text_key=text',\n",
        "#     process_text_fn=bert.tokenization.convert_to_unicode)\n"
      ],
      "metadata": {
        "id": "ivNnKZAauJif"
      },
      "execution_count": 58,
      "outputs": []
    },
    {
      "cell_type": "code",
      "source": [
        "# x_train_backup = x_train.copy()\n",
        "# y_train_backup = y_train.copy()\n",
        "# x_test_backup = x_test.copy()\n",
        "# y_test_backup = y_test.copy()"
      ],
      "metadata": {
        "id": "NyjIP_G-Mrxe"
      },
      "execution_count": 59,
      "outputs": []
    },
    {
      "cell_type": "code",
      "source": [
        "x_train = bert_encode(df_train.text.values, tokenizer, max_len=300)\n",
        "x_test = bert_encode(df_test.text.values, tokenizer, max_len=300)\n",
        "# y_train = df_train.target.values\n"
      ],
      "metadata": {
        "id": "k0iRKTUeEPbX"
      },
      "execution_count": 60,
      "outputs": []
    },
    {
      "cell_type": "code",
      "source": [
        "modelD.predict?"
      ],
      "metadata": {
        "id": "cQWRogD5k2wK"
      },
      "execution_count": 134,
      "outputs": []
    },
    {
      "cell_type": "code",
      "source": [
        "# x_train = x_train[:len(x_train)//2]\n",
        "# y_train = y_train[:len(y_train)//2]\n"
      ],
      "metadata": {
        "id": "c8NCIjYUk6IO"
      },
      "execution_count": 62,
      "outputs": []
    },
    {
      "cell_type": "code",
      "source": [
        "modelD = build_model(bert_layer, max_len=300)\n",
        "modelD.summary()"
      ],
      "metadata": {
        "id": "5_ZN0k5AOmju",
        "colab": {
          "base_uri": "https://localhost:8080/"
        },
        "outputId": "06b6c09f-0685-4cb8-d485-c603ed2b41c3"
      },
      "execution_count": 63,
      "outputs": [
        {
          "output_type": "stream",
          "name": "stdout",
          "text": [
            "Model: \"model\"\n",
            "__________________________________________________________________________________________________\n",
            " Layer (type)                   Output Shape         Param #     Connected to                     \n",
            "==================================================================================================\n",
            " input_word_ids (InputLayer)    [(None, 300)]        0           []                               \n",
            "                                                                                                  \n",
            " input_mask (InputLayer)        [(None, 300)]        0           []                               \n",
            "                                                                                                  \n",
            " segment_ids (InputLayer)       [(None, 300)]        0           []                               \n",
            "                                                                                                  \n",
            " keras_layer (KerasLayer)       [(None, 1024),       335141889   ['input_word_ids[0][0]',         \n",
            "                                 (None, 300, 1024)]               'input_mask[0][0]',             \n",
            "                                                                  'segment_ids[0][0]']            \n",
            "                                                                                                  \n",
            " tf.__operators__.getitem (Slic  (None, 1024)        0           ['keras_layer[0][1]']            \n",
            " ingOpLambda)                                                                                     \n",
            "                                                                                                  \n",
            " dense (Dense)                  (None, 1)            1025        ['tf.__operators__.getitem[0][0]'\n",
            "                                                                 ]                                \n",
            "                                                                                                  \n",
            "==================================================================================================\n",
            "Total params: 335,142,914\n",
            "Trainable params: 1,025\n",
            "Non-trainable params: 335,141,889\n",
            "__________________________________________________________________________________________________\n"
          ]
        }
      ]
    },
    {
      "cell_type": "code",
      "source": [
        "# change size of data\n",
        "# x_train = x_train[:len(x_train)//2]\n",
        "# x_test = x_train[:len(x_train)//2]\n"
      ],
      "metadata": {
        "id": "UJItl5pAj16G"
      },
      "execution_count": 64,
      "outputs": []
    },
    {
      "cell_type": "code",
      "source": [
        "compling(model=modelD)\n",
        "\n",
        "BATCH_SIZE = 128\n",
        "\n",
        "history = training(model=modelD, batch_size=BATCH_SIZE\n",
        "         ,steps_per_epoch=1000\n",
        "        #  , validation_steps=100,\n",
        "        #  validation_batch_size=16\n",
        "         )\n",
        "\n"
      ],
      "metadata": {
        "id": "PvxepHUJi_5l",
        "colab": {
          "base_uri": "https://localhost:8080/"
        },
        "outputId": "aac1905d-0d8b-4a06-e95a-6badca34b53e"
      },
      "execution_count": 65,
      "outputs": [
        {
          "output_type": "stream",
          "name": "stdout",
          "text": [
            "Epoch 1/2\n",
            "1000/1000 [==============================] - 13540s 14s/step - loss: 0.5812 - accuracy: 0.6878 - val_loss: 0.5620 - val_accuracy: 0.7075\n",
            "Epoch 2/2\n",
            "1000/1000 [==============================] - 13195s 13s/step - loss: 0.5573 - accuracy: 0.7102 - val_loss: 0.5573 - val_accuracy: 0.7112\n"
          ]
        }
      ]
    },
    {
      "cell_type": "code",
      "source": [
        "evaluation(model=modelD, history=history,\n",
        "           batch_size=BATCH_SIZE, x_test=x_test\n",
        "           ,steps=100)"
      ],
      "metadata": {
        "id": "0cIMAe70N-gq",
        "colab": {
          "base_uri": "https://localhost:8080/",
          "height": 614
        },
        "outputId": "94d17264-e09d-4120-ddae-03b0f5fecb40"
      },
      "execution_count": 75,
      "outputs": [
        {
          "output_type": "stream",
          "name": "stdout",
          "text": [
            "100/100 [==============================] - 656s 7s/step - loss: 0.5579 - accuracy: 0.7109\n",
            "\n",
            "ACCURACY: 0.7108593583106995\n",
            "LOSS: 0.557885468006134\n"
          ]
        },
        {
          "output_type": "display_data",
          "data": {
            "text/plain": [
              "<Figure size 432x288 with 1 Axes>"
            ],
            "image/png": "[encoded data removed]"
          },
          "metadata": {
            "needs_background": "light"
          }
        },
        {
          "output_type": "display_data",
          "data": {
            "text/plain": [
              "<Figure size 432x288 with 1 Axes>"
            ],
            "image/png": "[encoded data removed]"
          },
          "metadata": {
            "needs_background": "light"
          }
        }
      ]
    },
    {
      "cell_type": "code",
      "source": [
        "len(x_train[1].shape)"
      ],
      "metadata": {
        "id": "_TFD1I_b29dr",
        "colab": {
          "base_uri": "https://localhost:8080/"
        },
        "outputId": "909406af-2a3f-425d-f39b-8bdab8d4c67a"
      },
      "execution_count": 83,
      "outputs": [
        {
          "output_type": "execute_result",
          "data": {
            "text/plain": [
              "2"
            ]
          },
          "metadata": {},
          "execution_count": 83
        }
      ]
    },
    {
      "cell_type": "code",
      "source": [
        "x_train[0].shape"
      ],
      "metadata": {
        "id": "FUl-CgqG3Mn6",
        "colab": {
          "base_uri": "https://localhost:8080/"
        },
        "outputId": "b97f1c1f-615a-4cb2-b7c4-2495a7766291"
      },
      "execution_count": 84,
      "outputs": [
        {
          "output_type": "execute_result",
          "data": {
            "text/plain": [
              "(1280000, 300)"
            ]
          },
          "metadata": {},
          "execution_count": 84
        }
      ]
    },
    {
      "cell_type": "code",
      "source": [
        "x_test[0].shape\n"
      ],
      "metadata": {
        "colab": {
          "base_uri": "https://localhost:8080/"
        },
        "id": "nmm5Hnun8OFG",
        "outputId": "78c6b002-6d99-4b25-c29f-82d11fb0ed7b"
      },
      "execution_count": 96,
      "outputs": [
        {
          "output_type": "execute_result",
          "data": {
            "text/plain": [
              "(320000, 300)"
            ]
          },
          "metadata": {},
          "execution_count": 96
        }
      ]
    },
    {
      "cell_type": "code",
      "source": [
        "y_test.shape"
      ],
      "metadata": {
        "colab": {
          "base_uri": "https://localhost:8080/"
        },
        "id": "B9MByYMj8Zg5",
        "outputId": "ff93378b-c544-45c3-f525-b796435d0c2e"
      },
      "execution_count": 98,
      "outputs": [
        {
          "output_type": "execute_result",
          "data": {
            "text/plain": [
              "(320000, 1)"
            ]
          },
          "metadata": {},
          "execution_count": 98
        }
      ]
    },
    {
      "cell_type": "code",
      "source": [
        "prediction(model=modelD,x_test = x_test,batch_size=128,steps = 10)"
      ],
      "metadata": {
        "id": "HNYdw9MON-gq",
        "colab": {
          "base_uri": "https://localhost:8080/"
        },
        "outputId": "00bccebe-bfd4-405e-94de-ea552b3c0861"
      },
      "execution_count": 142,
      "outputs": [
        {
          "output_type": "stream",
          "name": "stdout",
          "text": [
            "{'label': 'NEUTRAL', 'score': 0.6373156309127808, 'elapsed_time': 61.92710757255554}\n",
            "{'label': 'NEUTRAL', 'score': 0.6373156309127808, 'elapsed_time': 63.69207835197449}\n",
            "{'label': 'NEUTRAL', 'score': 0.6373156309127808, 'elapsed_time': 64.6482503414154}\n"
          ]
        }
      ]
    },
    {
      "cell_type": "code",
      "source": [
        "confusionMatrix(model=modelD,\n",
        "                x_test=x_test ,batch_size=128, steps = 100)"
      ],
      "metadata": {
        "id": "10mPHD-eN-gr",
        "colab": {
          "base_uri": "https://localhost:8080/",
          "height": 1000
        },
        "outputId": "308119e3-c850-4f8e-a019-0f0326b6a6c1"
      },
      "execution_count": 146,
      "outputs": [
        {
          "output_type": "stream",
          "name": "stdout",
          "text": [
            "100/100 [==============================] - 656s 7s/step\n",
            "12800\n"
          ]
        },
        {
          "output_type": "display_data",
          "data": {
            "text/plain": [
              "<Figure size 864x864 with 2 Axes>"
            ],
            "image/png": "[encoded data removed]"
          },
          "metadata": {
            "needs_background": "light"
          }
        },
        {
          "output_type": "stream",
          "name": "stdout",
          "text": [
            "\n",
            "\n",
            "\n",
            "\n",
            "classification_report :               precision    recall  f1-score   support\n",
            "\n",
            "    NEGATIVE       0.71      0.71      0.71      6391\n",
            "    POSITIVE       0.71      0.71      0.71      6409\n",
            "\n",
            "    accuracy                           0.71     12800\n",
            "   macro avg       0.71      0.71      0.71     12800\n",
            "weighted avg       0.71      0.71      0.71     12800\n",
            "\n",
            "\n",
            "\n",
            "\n",
            "\n",
            "accuracy_score : 0.710859375\n"
          ]
        }
      ]
    },
    {
      "cell_type": "code",
      "source": [
        "saving(model=modelD)"
      ],
      "metadata": {
        "id": "_BrqqctmN-gr"
      },
      "execution_count": 145,
      "outputs": []
    }
  ]
}
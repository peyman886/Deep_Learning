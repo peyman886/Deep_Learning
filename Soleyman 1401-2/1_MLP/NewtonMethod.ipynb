{
  "cells": [
    {
      "cell_type": "markdown",
      "metadata": {
        "id": "ifY3pbKCwjzT"
      },
      "source": [
        "## Part B: Newton Method Implementation"
      ]
    },
    {
      "cell_type": "code",
      "execution_count": 2,
      "metadata": {
        "id": "MDUZWZuUwjzT"
      },
      "outputs": [],
      "source": [
        "import numpy as np\n",
        "import pandas as pd \n",
        "import seaborn as sn\n",
        "import matplotlib.pyplot as plt\n",
        "import random\n",
        "import os"
      ]
    },
    {
      "cell_type": "code",
      "execution_count": null,
      "metadata": {
        "id": "00zam7SIwjzV"
      },
      "outputs": [],
      "source": [
        "def func(x1, x2):\n",
        "    # Define the function\n",
        "    ####### TODO ########\n",
        "    res = None\n",
        "    #####################\n",
        "    return res"
      ]
    },
    {
      "cell_type": "code",
      "execution_count": null,
      "metadata": {
        "id": "1pnTh5xhwjzW"
      },
      "outputs": [],
      "source": [
        "def hessian(x1, x2):\n",
        "    # Calculate the hessian matrix\n",
        "    # Use theoretically-derived formulas to implement this function\n",
        "    ####### TODO ########\n",
        "    res = None\n",
        "    #####################\n",
        "    return res"
      ]
    },
    {
      "cell_type": "code",
      "execution_count": null,
      "metadata": {
        "id": "6U0iy9YSwjzW"
      },
      "outputs": [],
      "source": [
        "# Define function inputs\n",
        "def hessianInv(...):\n",
        "    # Calculate the determinant and inverse of the hessian matrix\n",
        "    ####### TODO ########\n",
        "    inv = None\n",
        "    #####################\n",
        "    return inv"
      ]
    },
    {
      "cell_type": "code",
      "execution_count": null,
      "metadata": {
        "id": "3xMTyu7swjzX"
      },
      "outputs": [],
      "source": [
        "def gradient(x1, x2):\n",
        "    # Calculate the gradient vector\n",
        "    # Use theoretically-derived formulas to implement this function\n",
        "    ####### TODO ########\n",
        "    res = None\n",
        "    #####################\n",
        "    return res"
      ]
    },
    {
      "cell_type": "code",
      "execution_count": null,
      "metadata": {
        "id": "edwHQ6fdwjzX"
      },
      "outputs": [],
      "source": [
        "def newtonMethod(x1, x2, epochs):\n",
        "    for i in range(epochs):\n",
        "        # Perform one step of the newton method\n",
        "        # Use previous functions to implement this part\n",
        "        # Update values of x1 and x2\n",
        "        ####### TODO ########\n",
        "        x1 = None\n",
        "        x2 = None\n",
        "        #####################\n",
        "    return x1, x2"
      ]
    },
    {
      "cell_type": "markdown",
      "metadata": {
        "id": "j7dzruGrwjzY"
      },
      "source": [
        "Now we shall go on to finding the minimum value"
      ]
    },
    {
      "cell_type": "code",
      "execution_count": null,
      "metadata": {
        "id": "Ks9zZ7bpwjzY"
      },
      "outputs": [],
      "source": [
        "x1 = 1\n",
        "x2 = 3\n",
        "epochs = 100\n",
        "x1, x2 = newtonMethod(x1, x2, epochs)\n",
        "minVal = func(x1, x2)\n",
        "print(f\"x1 is: {x1} and x2 is: {x2} (after {epochs} epochs)\")\n",
        "print(f\"The Minimum Value for the function is: {minVal} (after {epochs} epochs)\")"
      ]
    },
    {
      "cell_type": "markdown",
      "source": [
        "* desired output is (approximately):\n",
        "* x1 is: 0.13 and x2 is: 4.27 (after 100 epochs)\n",
        "* The Minimum Value for the function is: -36.40 (after 100 epochs)"
      ],
      "metadata": {
        "id": "xIPYlyC0XVIK"
      }
    },
    {
      "cell_type": "markdown",
      "metadata": {
        "id": "pByuCA76wjza"
      },
      "source": [
        "Now we go on to plot the wanted shape"
      ]
    },
    {
      "cell_type": "code",
      "execution_count": null,
      "metadata": {
        "id": "7rClNt-_wjza"
      },
      "outputs": [],
      "source": [
        "####### TODO #########\n",
        "stepSize = None\n",
        "range_x1 = None\n",
        "range_x2 = None"
      ]
    },
    {
      "cell_type": "code",
      "execution_count": null,
      "metadata": {
        "id": "6gf1X7wRwjzb"
      },
      "outputs": [],
      "source": [
        "points = []\n",
        "# We want to classify the points into three categories:\n",
        "# Close = -1, Far = 0, Further = 1\n",
        "categories = []\n",
        "for x1 in range_x1:\n",
        "    for x2 in range_x2:\n",
        "        # Use Newton method and find the distance as stated in the question\n",
        "        ######## TODO ##########\n",
        "        x1_new , x2_new = None\n",
        "        distance = None\n",
        "        ########################\n",
        "        if distance < 15:\n",
        "            categories.append(-1)\n",
        "        elif distance < 150:\n",
        "            categories.append(0)\n",
        "        else:\n",
        "            categories.append(1)\n",
        "        points.append([x1, x2])"
      ]
    },
    {
      "cell_type": "code",
      "execution_count": null,
      "metadata": {
        "id": "dujzas6zwjzb"
      },
      "outputs": [],
      "source": [
        "plt.figure(figsize=(7,7))\n",
        "plt.title('Scatter plot (based on distance)')\n",
        "########## TODO ###########\n",
        "# Complete the figure using plt.scatter\n",
        "###########################\n",
        "plt.show()"
      ]
    },
    {
      "cell_type": "code",
      "source": [],
      "metadata": {
        "id": "pf0Tdwrtxz-z"
      },
      "execution_count": null,
      "outputs": []
    }
  ],
  "metadata": {
    "kernelspec": {
      "display_name": "Python 3",
      "language": "python",
      "name": "python3"
    },
    "language_info": {
      "codemirror_mode": {
        "name": "ipython",
        "version": 3
      },
      "file_extension": ".py",
      "mimetype": "text/x-python",
      "name": "python",
      "nbconvert_exporter": "python",
      "pygments_lexer": "ipython3",
      "version": "3.8.3"
    },
    "colab": {
      "provenance": []
    }
  },
  "nbformat": 4,
  "nbformat_minor": 0
}
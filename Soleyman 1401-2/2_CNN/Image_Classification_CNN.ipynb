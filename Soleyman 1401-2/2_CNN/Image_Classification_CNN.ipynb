{
  "cells": [
    {
      "cell_type": "markdown",
      "metadata": {
        "id": "XsrcohGwVhLJ"
      },
      "source": [
        "<h1 style=\"text-align: center\">\n",
        "Deep Learning HW2 </br> \n",
        "Image Classification\n",
        "</h1>"
      ]
    },
    {
      "cell_type": "markdown",
      "metadata": {
        "id": "atGYO6DvK5NU",
        "papermill": {
          "duration": 0.022376,
          "end_time": "2020-11-06T00:15:34.434234",
          "exception": false,
          "start_time": "2020-11-06T00:15:34.411858",
          "status": "completed"
        },
        "tags": []
      },
      "source": [
        "## Import needed libraries\n"
      ]
    },
    {
      "cell_type": "code",
      "execution_count": 1,
      "metadata": {
        "execution": {
          "iopub.execute_input": "2020-11-06T00:15:34.484628Z",
          "iopub.status.busy": "2020-11-06T00:15:34.483829Z",
          "iopub.status.idle": "2020-11-06T00:15:35.592124Z",
          "shell.execute_reply": "2020-11-06T00:15:35.591266Z"
        },
        "id": "dIjCFmM1K5NX",
        "papermill": {
          "duration": 1.135699,
          "end_time": "2020-11-06T00:15:35.592273",
          "exception": false,
          "start_time": "2020-11-06T00:15:34.456574",
          "status": "completed"
        },
        "tags": []
      },
      "outputs": [],
      "source": [
        "import numpy as np\n",
        "import matplotlib.pyplot as plt\n",
        "import seaborn as sns\n",
        "import torch\n",
        "import torchvision\n",
        "import torchvision.transforms as transforms\n",
        "from torch.utils.data import random_split\n",
        "from torch.utils.data.dataloader import DataLoader\n",
        "from tqdm import tqdm\n",
        "from sklearn.metrics import classification_report"
      ]
    },
    {
      "cell_type": "markdown",
      "metadata": {
        "id": "_ih2AD9ie1MX"
      },
      "source": [
        "## Loading and Pre-Processing data"
      ]
    },
    {
      "cell_type": "code",
      "execution_count": 2,
      "metadata": {
        "id": "uaZtkgKAe2LN"
      },
      "outputs": [],
      "source": [
        "## Download FashionMNIST dataset\n",
        "# use fashion mnist dataset\n",
        "transform = transforms.Compose([transforms.ToTensor(), transforms.Normalize((0.5,), (0.5,))])\n",
        "train_set = torchvision.datasets.FashionMNIST(root='./data', train=True, transform=transform, download=True)\n",
        "test_set = torchvision.datasets.FashionMNIST(root='./data', train=True, transform=transform, download=True)"
      ]
    },
    {
      "cell_type": "code",
      "execution_count": 3,
      "metadata": {
        "id": "CsktV4w-e64U"
      },
      "outputs": [],
      "source": [
        "# split training set into train and validation data\n",
        "train_size = 48000\n",
        "val_size = 60000 - train_size\n",
        "train_ds, val_ds = random_split(dataset=train_set, lengths=[train_size, val_size])"
      ]
    },
    {
      "cell_type": "code",
      "execution_count": 4,
      "metadata": {
        "id": "cRIhgkNPe-rW"
      },
      "outputs": [],
      "source": [
        "# Loading the dataset into memory using Dataloader\n",
        "# use your desired batch size and shuffle is necessary\n",
        "\n",
        "batch_size = 64\n",
        "train_dataloader = DataLoader(dataset=train_ds, batch_size=batch_size, shuffle=True)\n",
        "val_dataloader = DataLoader(dataset=val_ds, batch_size=batch_size, shuffle=True)\n",
        "test_dataloader = DataLoader(dataset=test_set, batch_size=batch_size)\n",
        "classes = train_set.classes"
      ]
    },
    {
      "cell_type": "markdown",
      "metadata": {
        "id": "MVqdLxDd8O5o"
      },
      "source": [
        "**Display some images from dataset**"
      ]
    },
    {
      "cell_type": "code",
      "execution_count": 5,
      "metadata": {
        "colab": {
          "base_uri": "https://localhost:8080/",
          "height": 154
        },
        "id": "LnhmcZP9e62N",
        "outputId": "c9176fde-7552-4c28-867b-96dd76e02750"
      },
      "outputs": [
        {
          "data": {
            "image/png": "[encoded data removed]",
            "text/plain": [
              "<Figure size 1000x800 with 6 Axes>"
            ]
          },
          "metadata": {},
          "output_type": "display_data"
        }
      ],
      "source": [
        "# get some random training images\n",
        "dataiter = iter(train_dataloader)\n",
        "images, labels = next(dataiter)\n",
        "fig, axes = plt.subplots(nrows=1, ncols=6, figsize=(10, 8), subplot_kw={'xticks': [], 'yticks': []})\n",
        "for i,ax in zip(range(0,6),axes.flat):\n",
        "    img,label=images[i],labels[i]\n",
        "    ax.imshow(img.permute(1, 2, 0))\n",
        "    ax.set_title(f\"Label: {classes[label]}\")\n",
        "\n",
        "plt.tight_layout()\n",
        "plt.show()"
      ]
    },
    {
      "cell_type": "markdown",
      "metadata": {
        "id": "T7RMnLBSK5Nc",
        "papermill": {
          "duration": 0.025997,
          "end_time": "2020-11-06T00:15:44.018664",
          "exception": false,
          "start_time": "2020-11-06T00:15:43.992667",
          "status": "completed"
        },
        "tags": []
      },
      "source": [
        "# Defining the Convolutional Neural Network"
      ]
    },
    {
      "cell_type": "markdown",
      "metadata": {
        "id": "If6yxMmoqxDN"
      },
      "source": [
        "<img src='https://drive.google.com/uc?id=1Euy5_bGIiiYECSZUeEofgTImJWgQ0XLf'>"
      ]
    },
    {
      "cell_type": "markdown",
      "metadata": {
        "id": "F_UOoVg8tjwT"
      },
      "source": [
        "**<h2>Implement the model above in pytorch</h2>**"
      ]
    },
    {
      "cell_type": "code",
      "execution_count": 6,
      "metadata": {
        "id": "5d4iYGy6cwgZ"
      },
      "outputs": [],
      "source": [
        "import torch.nn as nn\n",
        "import torch.nn.functional as F\n",
        "\n",
        "#define the CNN architecture below\n",
        "class Net(nn.Module):\n",
        "    def __init__(self):\n",
        "        super(Net, self).__init__()\n",
        "        # First convolutional layer\n",
        "        self.conv1 = nn.Conv2d(in_channels=1, out_channels=32, kernel_size=3, padding=1)\n",
        "        self.relu1 = nn.ReLU()\n",
        "        self.maxpool1 = nn.MaxPool2d(kernel_size=2)\n",
        "        \n",
        "        # Second convolutional layer\n",
        "        self.conv2 = nn.Conv2d(in_channels=32, out_channels=64, kernel_size=3)\n",
        "        self.relu2 = nn.ReLU()\n",
        "        self.maxpool2 = nn.MaxPool2d(kernel_size=2)\n",
        "        \n",
        "        # Fully connected layers\n",
        "        self.fc1 = nn.Linear(64 * 6 * 6, 128)  # 6x6 is the spatial size after two max-pooling layers\n",
        "        self.relu3 = nn.ReLU()\n",
        "        self.fc2 = nn.Linear(128, 10)  # 10 classes for FashionMNIST\n",
        "\n",
        "    def forward(self, x):\n",
        "        # Forward pass through the first convolutional layer\n",
        "        x = self.conv1(x)\n",
        "        x = self.relu1(x)\n",
        "        x = self.maxpool1(x)\n",
        "        \n",
        "        # Forward pass through the second convolutional layer\n",
        "        x = self.conv2(x)\n",
        "        x = self.relu2(x)\n",
        "        x = self.maxpool2(x)\n",
        "        \n",
        "        # Flatten the output from the previous layer\n",
        "        x = x.view(x.size(0), -1)\n",
        "        \n",
        "        # Forward pass through fully connected layers\n",
        "        x = self.fc1(x)\n",
        "        x = self.relu3(x)\n",
        "        x = self.fc2(x)\n",
        "\n",
        "        return x"
      ]
    },
    {
      "cell_type": "code",
      "execution_count": null,
      "metadata": {},
      "outputs": [],
      "source": []
    },
    {
      "cell_type": "code",
      "execution_count": 7,
      "metadata": {
        "id": "450scXnLLDSl"
      },
      "outputs": [],
      "source": [
        "# Using GPU if it's available\n",
        "device = torch.device('cuda' if torch.cuda.is_available() else 'cpu')"
      ]
    },
    {
      "cell_type": "code",
      "execution_count": 8,
      "metadata": {
        "colab": {
          "base_uri": "https://localhost:8080/"
        },
        "id": "mPP8CaHv684n",
        "outputId": "32a46884-1fa7-48d8-c1ee-32be11af34e3"
      },
      "outputs": [
        {
          "data": {
            "text/plain": [
              "Net(\n",
              "  (conv1): Conv2d(1, 32, kernel_size=(3, 3), stride=(1, 1), padding=(1, 1))\n",
              "  (relu1): ReLU()\n",
              "  (maxpool1): MaxPool2d(kernel_size=2, stride=2, padding=0, dilation=1, ceil_mode=False)\n",
              "  (conv2): Conv2d(32, 64, kernel_size=(3, 3), stride=(1, 1))\n",
              "  (relu2): ReLU()\n",
              "  (maxpool2): MaxPool2d(kernel_size=2, stride=2, padding=0, dilation=1, ceil_mode=False)\n",
              "  (fc1): Linear(in_features=2304, out_features=128, bias=True)\n",
              "  (relu3): ReLU()\n",
              "  (fc2): Linear(in_features=128, out_features=10, bias=True)\n",
              ")"
            ]
          },
          "execution_count": 8,
          "metadata": {},
          "output_type": "execute_result"
        }
      ],
      "source": [
        "cnn_model = Net()\n",
        "cnn_model.to(device)"
      ]
    },
    {
      "cell_type": "markdown",
      "metadata": {
        "id": "NJ0Xr7KfK5Ne",
        "papermill": {
          "duration": 0.026597,
          "end_time": "2020-11-06T00:15:44.148554",
          "exception": false,
          "start_time": "2020-11-06T00:15:44.121957",
          "status": "completed"
        },
        "tags": []
      },
      "source": [
        "# Defining Loss Function and optimizer\n",
        "**Define appropriate Loss Function, Optimizer and Learning Rate**"
      ]
    },
    {
      "cell_type": "code",
      "execution_count": 9,
      "metadata": {
        "execution": {
          "iopub.execute_input": "2020-11-06T00:15:44.209323Z",
          "iopub.status.busy": "2020-11-06T00:15:44.208462Z",
          "iopub.status.idle": "2020-11-06T00:15:44.211159Z",
          "shell.execute_reply": "2020-11-06T00:15:44.211695Z"
        },
        "id": "aAhczTtRK5Nf",
        "papermill": {
          "duration": 0.036545,
          "end_time": "2020-11-06T00:15:44.211856",
          "exception": false,
          "start_time": "2020-11-06T00:15:44.175311",
          "status": "completed"
        },
        "tags": []
      },
      "outputs": [],
      "source": [
        "# Define appropriate Loss Function, Optimizer and Learning Rate\n",
        "\n",
        "import torch.optim as optim\n",
        "\n",
        "Learning_rate = 0.001\n",
        "\n",
        "# Define the loss function\n",
        "criterion = nn.CrossEntropyLoss()\n",
        "\n",
        "# Define the optimizer\n",
        "optimizer = optim.Adam(cnn_model.parameters(), lr=Learning_rate)\n"
      ]
    },
    {
      "cell_type": "markdown",
      "metadata": {
        "id": "MTs7zqIuT6bI"
      },
      "source": [
        "**Define number of epochs and path to save the best model**"
      ]
    },
    {
      "cell_type": "code",
      "execution_count": 10,
      "metadata": {
        "id": "TIl4qh6gT68p"
      },
      "outputs": [],
      "source": [
        "epochs = 10\n",
        "# save_path=\"./content/cnn_model\"\n",
        "save_path=\"./cnn_model\""
      ]
    },
    {
      "cell_type": "markdown",
      "metadata": {
        "id": "oE5cyPw3K5Ng",
        "papermill": {
          "duration": 0.026206,
          "end_time": "2020-11-06T00:15:44.264708",
          "exception": false,
          "start_time": "2020-11-06T00:15:44.238502",
          "status": "completed"
        },
        "tags": []
      },
      "source": [
        "# Finally we will train our neural network"
      ]
    },
    {
      "cell_type": "code",
      "execution_count": 11,
      "metadata": {
        "id": "2czjHpINLO7A"
      },
      "outputs": [],
      "source": [
        "# multiclass accuracy\n",
        "def multi_acc(y_pred, y_test):\n",
        "    _, y_pred_tags = torch.max(y_pred, dim = 1)    \n",
        "    correct_pred = (y_pred_tags == y_test).float()\n",
        "    acc = correct_pred.sum() / len(correct_pred)\n",
        "    acc = torch.round(acc * 100)\n",
        "    return acc"
      ]
    },
    {
      "cell_type": "markdown",
      "metadata": {
        "id": "-0JhvfcNYGwI"
      },
      "source": [
        "**Implementing the training algorithm and Saving the model with minimum Validation Loss**"
      ]
    },
    {
      "cell_type": "code",
      "execution_count": 12,
      "metadata": {
        "id": "Dhs9WLSeNA-6"
      },
      "outputs": [],
      "source": [
        "# Implementing the training algorithm and Saving the mode with minimum Validation Loss\n",
        "# training loop\n",
        "def train_model(model=cnn_model, train_dataloader=train_dataloader,\n",
        "                val_dataloader=val_dataloader, optimizer=optimizer,\n",
        "                criterion=criterion, save_path=save_path,\n",
        "                device=device, n_epochs = 10):\n",
        "    \n",
        "    train_losses = []\n",
        "    val_losses = []\n",
        "    valid_loss_min = np.Inf \n",
        "\n",
        "    for epoch in range(n_epochs):\n",
        "        \n",
        "        ####### Training Phase ########\n",
        "        model.train()\n",
        "        with tqdm(train_dataloader, unit=\"batch\") as batches:\n",
        "            epoch_loss = 0\n",
        "            for data, target in batches:\n",
        "                batches.set_description(f\"Epoch {epoch + 1}\")\n",
        "                # move to GPU\n",
        "                data, target = data.to(device), target.to(device)\n",
        "            \n",
        "                # train \n",
        "                optimizer.zero_grad()\n",
        "                out = model(data)\n",
        "                loss = criterion(out, target)\n",
        "                loss.backward()\n",
        "                optimizer.step()\n",
        "                \n",
        "                # train_loss =\n",
        "                epoch_loss += loss.item()\n",
        "                acc = multi_acc(out, target)\n",
        "                batches.set_postfix(train_loss = loss.item(), train_accuracy = acc.item()) # show loss and accuracy per batch of data\n",
        "        train_losses.append(epoch_loss)\n",
        "\n",
        "\n",
        "        ####### Validation Phase ########\n",
        "        model.eval()\n",
        "        valid_loss = 0.0\n",
        "        with torch.no_grad():\n",
        "            # run the prediction on the validation dataloader,\n",
        "            # y_true, y_pred = [], []\n",
        "            for batch_idx, (data, target) in enumerate(val_dataloader):\n",
        "                # move to GPU\n",
        "                data, target = data.to(device), target.to(device)\n",
        "                \n",
        "                # validation\n",
        "                out = model(data)\n",
        "                valid_loss += criterion(out, target)\n",
        "\n",
        "        val_losses.append(float(valid_loss.to(\"cpu\")))\n",
        "        \n",
        "        # print validation statistics \n",
        "        print('Epoch: {}  Validation Loss: {:.6f}'.format(epoch+1, valid_loss))\n",
        "\n",
        "        ## If the valiation loss has decreased, then saving the model\n",
        "        if valid_loss <= valid_loss_min:\n",
        "            print('Validation loss decreased ({:.6f} --> {:.6f}).  Saving model ...'.format(\n",
        "            valid_loss_min,\n",
        "            valid_loss))\n",
        "            torch.save(model.state_dict(), save_path)\n",
        "            valid_loss_min = valid_loss \n",
        "\n",
        "    return model, train_losses, val_losses"
      ]
    },
    {
      "cell_type": "markdown",
      "metadata": {
        "id": "Iz5KwJJ61LAI"
      },
      "source": [
        "**Train the model**"
      ]
    },
    {
      "cell_type": "code",
      "execution_count": 16,
      "metadata": {
        "colab": {
          "base_uri": "https://localhost:8080/"
        },
        "id": "xfSGwRGHSRbP",
        "outputId": "ce989a02-cf42-4287-9628-0ae9ce926ae9"
      },
      "outputs": [
        {
          "name": "stderr",
          "output_type": "stream",
          "text": [
            "Epoch 1: 100%|██████████| 750/750 [00:41<00:00, 18.04batch/s, train_accuracy=100, train_loss=0.0239] \n"
          ]
        },
        {
          "name": "stdout",
          "output_type": "stream",
          "text": [
            "Epoch: 1  Validation Loss: 55.153122\n",
            "Validation loss decreased (inf --> 55.153122).  Saving model ...\n"
          ]
        },
        {
          "name": "stderr",
          "output_type": "stream",
          "text": [
            "Epoch 2: 100%|██████████| 750/750 [00:36<00:00, 20.70batch/s, train_accuracy=95, train_loss=0.0885]  \n"
          ]
        },
        {
          "name": "stdout",
          "output_type": "stream",
          "text": [
            "Epoch: 2  Validation Loss: 53.842190\n",
            "Validation loss decreased (55.153122 --> 53.842190).  Saving model ...\n"
          ]
        },
        {
          "name": "stderr",
          "output_type": "stream",
          "text": [
            "Epoch 3: 100%|██████████| 750/750 [00:35<00:00, 21.02batch/s, train_accuracy=100, train_loss=0.0159] \n"
          ]
        },
        {
          "name": "stdout",
          "output_type": "stream",
          "text": [
            "Epoch: 3  Validation Loss: 59.758785\n"
          ]
        },
        {
          "name": "stderr",
          "output_type": "stream",
          "text": [
            "Epoch 4: 100%|██████████| 750/750 [00:38<00:00, 19.31batch/s, train_accuracy=98, train_loss=0.0385]  \n"
          ]
        },
        {
          "name": "stdout",
          "output_type": "stream",
          "text": [
            "Epoch: 4  Validation Loss: 63.340282\n"
          ]
        },
        {
          "name": "stderr",
          "output_type": "stream",
          "text": [
            "Epoch 5: 100%|██████████| 750/750 [00:35<00:00, 21.20batch/s, train_accuracy=98, train_loss=0.0445]   \n"
          ]
        },
        {
          "name": "stdout",
          "output_type": "stream",
          "text": [
            "Epoch: 5  Validation Loss: 67.746513\n"
          ]
        },
        {
          "name": "stderr",
          "output_type": "stream",
          "text": [
            "Epoch 6: 100%|██████████| 750/750 [00:36<00:00, 20.78batch/s, train_accuracy=97, train_loss=0.067]    \n"
          ]
        },
        {
          "name": "stdout",
          "output_type": "stream",
          "text": [
            "Epoch: 6  Validation Loss: 72.212280\n"
          ]
        },
        {
          "name": "stderr",
          "output_type": "stream",
          "text": [
            "Epoch 7: 100%|██████████| 750/750 [00:35<00:00, 20.89batch/s, train_accuracy=95, train_loss=0.0972]   \n"
          ]
        },
        {
          "name": "stdout",
          "output_type": "stream",
          "text": [
            "Epoch: 7  Validation Loss: 73.514030\n"
          ]
        },
        {
          "name": "stderr",
          "output_type": "stream",
          "text": [
            "Epoch 8: 100%|██████████| 750/750 [00:35<00:00, 20.85batch/s, train_accuracy=97, train_loss=0.0429]   \n"
          ]
        },
        {
          "name": "stdout",
          "output_type": "stream",
          "text": [
            "Epoch: 8  Validation Loss: 80.380150\n"
          ]
        },
        {
          "name": "stderr",
          "output_type": "stream",
          "text": [
            "Epoch 9: 100%|██████████| 750/750 [00:35<00:00, 21.00batch/s, train_accuracy=98, train_loss=0.0523]   \n"
          ]
        },
        {
          "name": "stdout",
          "output_type": "stream",
          "text": [
            "Epoch: 9  Validation Loss: 80.124977\n"
          ]
        },
        {
          "name": "stderr",
          "output_type": "stream",
          "text": [
            "Epoch 10: 100%|██████████| 750/750 [00:40<00:00, 18.70batch/s, train_accuracy=100, train_loss=0.00281] \n"
          ]
        },
        {
          "name": "stdout",
          "output_type": "stream",
          "text": [
            "Epoch: 10  Validation Loss: 87.733231\n"
          ]
        }
      ],
      "source": [
        "model, train_losses, val_losses = train_model()"
      ]
    },
    {
      "cell_type": "code",
      "execution_count": 17,
      "metadata": {
        "id": "1VIIMDdGUgwZ"
      },
      "outputs": [
        {
          "data": {
            "image/png": "[encoded data removed]",
            "text/plain": [
              "<Figure size 1200x800 with 1 Axes>"
            ]
          },
          "metadata": {},
          "output_type": "display_data"
        }
      ],
      "source": [
        "# plot losses\n",
        "plt.subplots(figsize=(12, 8))\n",
        "sns.set_style(\"dark\")\n",
        "sns.lineplot(data=val_losses,label=\"Validation Loss\")\n",
        "sns.lineplot(data=np.asarray(train_losses)/1000,label=\"Train Loss\").set(title=\"loss change during training\", xlabel=\"epoch\", ylabel=\"loss\")\n",
        "plt.legend()\n",
        "plt.show()"
      ]
    },
    {
      "cell_type": "markdown",
      "metadata": {
        "id": "5fvHlCSjK5Nk",
        "papermill": {
          "duration": 0.035134,
          "end_time": "2020-11-06T00:19:25.651361",
          "exception": false,
          "start_time": "2020-11-06T00:19:25.616227",
          "status": "completed"
        },
        "tags": []
      },
      "source": [
        "# Prediction on Test Data"
      ]
    },
    {
      "cell_type": "code",
      "execution_count": 18,
      "metadata": {
        "id": "Apy7kcRI3-ei"
      },
      "outputs": [],
      "source": [
        "def predict(images, model): \n",
        "    # Set the model to evaluation mode\n",
        "    model.eval()\n",
        "\n",
        "    # Ensure the input images are on the same device as the model's parameters\n",
        "    images = images.to(next(model.parameters()).device)\n",
        "\n",
        "    # Perform inference (forward pass) to get predictions\n",
        "    with torch.no_grad():\n",
        "        outputs = model(images)\n",
        "\n",
        "    # Get the class predictions (index of the highest probability)\n",
        "    _, predicted = torch.max(outputs, 1)\n",
        "\n",
        "    return predicted"
      ]
    },
    {
      "cell_type": "markdown",
      "metadata": {
        "id": "-4B6q4vC39ry"
      },
      "source": [
        "**Accuracy Result on Test Data**"
      ]
    },
    {
      "cell_type": "code",
      "execution_count": 19,
      "metadata": {
        "execution": {
          "iopub.execute_input": "2020-11-06T00:19:26.514739Z",
          "iopub.status.busy": "2020-11-06T00:19:26.513979Z",
          "iopub.status.idle": "2020-11-06T00:19:31.836462Z",
          "shell.execute_reply": "2020-11-06T00:19:31.837205Z"
        },
        "id": "N_QdkLveK5No",
        "papermill": {
          "duration": 5.37107,
          "end_time": "2020-11-06T00:19:31.837359",
          "exception": false,
          "start_time": "2020-11-06T00:19:26.466289",
          "status": "completed"
        },
        "tags": []
      },
      "outputs": [
        {
          "name": "stdout",
          "output_type": "stream",
          "text": [
            "Accuracy of the network on the 10000 test images: 97 %\n"
          ]
        }
      ],
      "source": [
        "correct = 0\n",
        "total = 0\n",
        "y_pred_list = []\n",
        "y_true_list = []\n",
        "model.eval()\n",
        "with torch.no_grad():\n",
        "    for data in test_dataloader:\n",
        "        images, labels = data\n",
        "        images, labels = images.to(device), labels.to(device)  # Move data to the appropriate device\n",
        "\n",
        "        # Get model predictions for the batch\n",
        "        outputs = model(images)\n",
        "        _, predicted = torch.max(outputs.data, 1)\n",
        "\n",
        "        # Accumulate total and correct predictions\n",
        "        total += labels.size(0)\n",
        "        correct += (predicted == labels).sum().item()\n",
        "\n",
        "        # Append predicted and true labels to lists\n",
        "        y_pred_list.extend(predicted.cpu().numpy())\n",
        "        y_true_list.extend(labels.cpu().numpy())\n",
        "\n",
        "        # for  x in predicted.cpu().numpy(): y_pred_list.append(x)\n",
        "        # for  x in labels.cpu().numpy(): y_true_list.append(x)\n",
        "\n",
        "print('Accuracy of the network on the 10000 test images: %d %%' % (100 * correct / total))"
      ]
    },
    {
      "cell_type": "markdown",
      "metadata": {
        "id": "D8b8n56jK5No",
        "papermill": {
          "duration": 0.047911,
          "end_time": "2020-11-06T00:19:31.934242",
          "exception": false,
          "start_time": "2020-11-06T00:19:31.886331",
          "status": "completed"
        },
        "tags": []
      },
      "source": [
        "**Classification report**"
      ]
    },
    {
      "cell_type": "code",
      "execution_count": 20,
      "metadata": {
        "id": "pXpTYXeOdE10"
      },
      "outputs": [
        {
          "name": "stdout",
          "output_type": "stream",
          "text": [
            "              precision    recall  f1-score   support\n",
            "\n",
            " T-shirt/top       0.96      0.97      0.97      6000\n",
            "     Trouser       1.00      1.00      1.00      6000\n",
            "    Pullover       0.94      0.98      0.96      6000\n",
            "       Dress       0.98      0.98      0.98      6000\n",
            "        Coat       0.98      0.93      0.96      6000\n",
            "      Sandal       0.99      1.00      0.99      6000\n",
            "       Shirt       0.95      0.94      0.95      6000\n",
            "     Sneaker       0.98      0.99      0.99      6000\n",
            "         Bag       1.00      1.00      1.00      6000\n",
            "  Ankle boot       0.99      0.98      0.99      6000\n",
            "\n",
            "    accuracy                           0.98     60000\n",
            "   macro avg       0.98      0.98      0.98     60000\n",
            "weighted avg       0.98      0.98      0.98     60000\n",
            "\n"
          ]
        }
      ],
      "source": [
        "print(classification_report(y_true_list, y_pred_list, target_names=classes))"
      ]
    },
    {
      "cell_type": "markdown",
      "metadata": {
        "id": "L5-11WQI2_em"
      },
      "source": [
        "**Displaying a random set of images from test data**"
      ]
    },
    {
      "cell_type": "code",
      "execution_count": 22,
      "metadata": {
        "id": "rVr_w4_80rJI"
      },
      "outputs": [
        {
          "data": {
            "image/png": "[encoded data removed]",
            "text/plain": [
              "<Figure size 1500x700 with 15 Axes>"
            ]
          },
          "metadata": {},
          "output_type": "display_data"
        }
      ],
      "source": [
        "dataiter = iter(test_dataloader)\n",
        "images, labels = next(dataiter)\n",
        "predicted=predict(images,cnn_model)\n",
        "\n",
        "fig, axes = plt.subplots(nrows=3, ncols=5, figsize=(15, 7), subplot_kw={'xticks': [], 'yticks': []})\n",
        "for i,ax in zip(range(0,16),axes.flat):\n",
        "    img,label=images[i],labels[i]\n",
        "    pred=predicted[i]\n",
        "    ax.imshow(img.permute(1, 2, 0))\n",
        "    ax.set_title(f\"True: {classes[label]}\\n Predicted: {classes[pred]}\")\n",
        "\n",
        "plt.tight_layout()\n",
        "plt.show()"
      ]
    }
  ],
  "metadata": {
    "accelerator": "GPU",
    "colab": {
      "provenance": []
    },
    "gpuClass": "standard",
    "kernelspec": {
      "display_name": "Python 3",
      "language": "python",
      "name": "python3"
    },
    "language_info": {
      "codemirror_mode": {
        "name": "ipython",
        "version": 3
      },
      "file_extension": ".py",
      "mimetype": "text/x-python",
      "name": "python",
      "nbconvert_exporter": "python",
      "pygments_lexer": "ipython3",
      "version": "3.11.3"
    },
    "papermill": {
      "duration": 247.72117,
      "end_time": "2020-11-06T00:19:37.463107",
      "environment_variables": {},
      "exception": null,
      "input_path": "__notebook__.ipynb",
      "output_path": "__notebook__.ipynb",
      "parameters": {},
      "start_time": "2020-11-06T00:15:29.741937",
      "version": "2.1.0"
    }
  },
  "nbformat": 4,
  "nbformat_minor": 0
}
